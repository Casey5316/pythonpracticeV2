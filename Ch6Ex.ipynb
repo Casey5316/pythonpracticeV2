{
 "cells": [
  {
   "cell_type": "markdown",
   "id": "fd64e40d",
   "metadata": {},
   "source": [
    "# Chapter 6 Exercises \n",
    "## Algorithm Workbench\n",
    "### Any two questions"
   ]
  },
  {
   "cell_type": "markdown",
   "id": "1447be6e",
   "metadata": {},
   "source": [
    "## Question 1\n",
    "Write a program that opens an output file with the filename my_name.txt, writes your name to the file, then closes the file."
   ]
  },
  {
   "cell_type": "code",
   "execution_count": 9,
   "id": "e0dde4a8",
   "metadata": {},
   "outputs": [
    {
     "name": "stdout",
     "output_type": "stream",
     "text": [
      "Name has been saved to file.\n"
     ]
    }
   ],
   "source": [
    "# main function that opens the file \n",
    "# my_name.txt, prints my name to\n",
    "# the file and closes the file\n",
    "def main():\n",
    "    name_file = open('my_name.txt', 'w')\n",
    "    \n",
    "    name_file.write('Casey')\n",
    "    \n",
    "    name_file.close()\n",
    "    print('Name has been saved to file.')\n",
    "\n",
    "\n",
    "# calls main function\n",
    "if __name__ == '__main__':\n",
    "    main()"
   ]
  },
  {
   "cell_type": "markdown",
   "id": "82709860",
   "metadata": {},
   "source": [
    "## Question 2 \n",
    "Write a program that opens the my_name.txt file that was created by the program in problem 1, reads your name from the file, displays the name on the screen, then closes the file."
   ]
  },
  {
   "cell_type": "code",
   "execution_count": 8,
   "id": "c3ea4712",
   "metadata": {},
   "outputs": [
    {
     "name": "stdout",
     "output_type": "stream",
     "text": [
      "The name from the file is: Casey\n"
     ]
    }
   ],
   "source": [
    "# main function that opens the file\n",
    "# my_name.txt and reads the name \n",
    "# from the file, then displays it.\n",
    "# Program then closes the file.\n",
    "def main():\n",
    "    name_file = open('my_name.txt', 'r')\n",
    "    \n",
    "    name = name_file.readline()\n",
    "    \n",
    "    print(f'The name from the file is: {name}')\n",
    "    \n",
    "    name_file.close()\n",
    "\n",
    "\n",
    "\n",
    "# call to main function \n",
    "if __name__ == '__main__':\n",
    "    main()"
   ]
  },
  {
   "cell_type": "markdown",
   "id": "9e780c7c",
   "metadata": {},
   "source": [
    "## Programming Exercises\n",
    "### Question 1 File Display\n",
    "Assume a file containing a series of integers is named numbers.txt and exists on the computer’s disk. Write a program that displays all of the numbers in the file."
   ]
  },
  {
   "cell_type": "markdown",
   "id": "4929bf67",
   "metadata": {},
   "source": [
    "## I've attempted to create a file called numbers.txt so I can test my program in Problem 1"
   ]
  },
  {
   "cell_type": "code",
   "execution_count": 3,
   "id": "14914a7a",
   "metadata": {},
   "outputs": [
    {
     "name": "stdout",
     "output_type": "stream",
     "text": [
      "Enter the amount of numbers you want to enter: 1\n",
      "Enter a number to be saved: six\n",
      "Number has been saved to numbers.txt\n"
     ]
    }
   ],
   "source": [
    "# main function gets number of entries to perform in for loop\n",
    "# for loop adds each number to file: numbers.txt\n",
    "# displays that the number has been added to the file\n",
    "def main():\n",
    "    number_entries = int(input('Enter the amount of numbers you want to enter: '))\n",
    "    \n",
    "    for entry_count in range(number_entries):\n",
    "        enter_number = int(input('Enter a number to be saved: '))\n",
    "    \n",
    "        number_file = open('numbers.txt', 'a')\n",
    "    \n",
    "        number_file.write(f'{enter_number}\\n')\n",
    "    \n",
    "        print('Number has been saved to numbers.txt')\n",
    "    \n",
    "    # close the file numbers.txt\n",
    "    number_file.close()\n",
    "\n",
    "# run main program if standalone\n",
    "if __name__ == '__main__':\n",
    "    main()"
   ]
  },
  {
   "cell_type": "code",
   "execution_count": 11,
   "id": "507d0bcd",
   "metadata": {},
   "outputs": [
    {
     "name": "stdout",
     "output_type": "stream",
     "text": [
      "50\n",
      "\n",
      "10\n",
      "\n",
      "20\n",
      "\n",
      "30\n",
      "\n",
      "40\n",
      "\n",
      "50\n",
      "\n",
      "60\n",
      "\n",
      "70\n",
      "\n",
      "80\n",
      "\n",
      "90\n",
      "\n",
      "100\n",
      "\n"
     ]
    }
   ],
   "source": [
    "# main function that opens the file numbers.txt\n",
    "# for loop reads and prints each line\n",
    "# then close the file\n",
    "def main():\n",
    "    number_file = open('numbers.txt', 'r')\n",
    "    \n",
    "    for line in number_file:\n",
    "        print(line)\n",
    "    number_file.close()\n",
    "\n",
    "# call main function if running on its own\n",
    "if __name__ == '__main__':\n",
    "    main()"
   ]
  },
  {
   "cell_type": "markdown",
   "id": "b6292d66",
   "metadata": {},
   "source": [
    "### Question 7 - Random Number File Writer\n",
    "Write a program that writes a series of random numbers to a file. Each random number should be in the range of 1 through 500. The application should let the user specify how many random numbers the file will hold."
   ]
  },
  {
   "cell_type": "code",
   "execution_count": 9,
   "id": "6803803f",
   "metadata": {},
   "outputs": [
    {
     "name": "stdout",
     "output_type": "stream",
     "text": [
      "How many random numbers do you want to save? 10\n",
      "Random number(s) saved to the file.\n"
     ]
    }
   ],
   "source": [
    "# import random library to generate random number\n",
    "import random\n",
    "\n",
    "# main function opens an output file random_numbers.txt\n",
    "# writes a random number to the file and closes\n",
    "def main():\n",
    "    random_numbers_file = open('random_numbers.txt', 'w')\n",
    "        \n",
    "    numbers_in_file = int(input('How many random numbers do you want to save? '))\n",
    "    \n",
    "    for entry in range(numbers_in_file):\n",
    "        random_number = random.randint(1, 500)\n",
    "        random_numbers_file.write(f'{random_number}\\n')\n",
    "    \n",
    "    random_numbers_file.close()\n",
    "    print('Random number(s) saved to the file.')\n",
    "        \n",
    "    \n",
    "\n",
    "\n",
    "if __name__ == '__main__':\n",
    "    main()"
   ]
  },
  {
   "cell_type": "markdown",
   "id": "b42f9f0c",
   "metadata": {},
   "source": [
    "### Question 8 - Random Number File Reader\n",
    "This exercise assumes you have completed Programming Exercise 7, Random Number File Writer. Write another program that reads the random numbers from the file, displays the numbers, then displays the following data:\n",
    "\n",
    "The total of the numbers\n",
    "\n",
    "The number of random numbers read from the file"
   ]
  },
  {
   "cell_type": "code",
   "execution_count": 2,
   "id": "1a8eec0b",
   "metadata": {},
   "outputs": [
    {
     "name": "stdout",
     "output_type": "stream",
     "text": [
      "Number in the file: 101\n",
      "\n",
      "Total of all numbers in file: 101\n",
      "\n",
      "Total numbers in file: 1\n",
      "\n",
      "**********************************\n",
      "Number in the file: 149\n",
      "\n",
      "Total of all numbers in file: 250\n",
      "\n",
      "Total numbers in file: 2\n",
      "\n",
      "**********************************\n",
      "Number in the file: 51\n",
      "\n",
      "Total of all numbers in file: 301\n",
      "\n",
      "Total numbers in file: 3\n",
      "\n",
      "**********************************\n",
      "Number in the file: 307\n",
      "\n",
      "Total of all numbers in file: 608\n",
      "\n",
      "Total numbers in file: 4\n",
      "\n",
      "**********************************\n",
      "Number in the file: 288\n",
      "\n",
      "Total of all numbers in file: 896\n",
      "\n",
      "Total numbers in file: 5\n",
      "\n",
      "**********************************\n",
      "Number in the file: 288\n",
      "\n",
      "Total of all numbers in file: 1184\n",
      "\n",
      "Total numbers in file: 6\n",
      "\n",
      "**********************************\n",
      "Number in the file: 450\n",
      "\n",
      "Total of all numbers in file: 1634\n",
      "\n",
      "Total numbers in file: 7\n",
      "\n",
      "**********************************\n",
      "Number in the file: 436\n",
      "\n",
      "Total of all numbers in file: 2070\n",
      "\n",
      "Total numbers in file: 8\n",
      "\n",
      "**********************************\n",
      "Number in the file: 34\n",
      "\n",
      "Total of all numbers in file: 2104\n",
      "\n",
      "Total numbers in file: 9\n",
      "\n",
      "**********************************\n",
      "Number in the file: 459\n",
      "\n",
      "Total of all numbers in file: 2563\n",
      "\n",
      "Total numbers in file: 10\n",
      "\n",
      "**********************************\n"
     ]
    }
   ],
   "source": [
    "# main function calculates total numbers in file,\n",
    "# sum of numbers in file, and displays number\n",
    "def main():\n",
    "    random_numbers_file = open('random_numbers.txt', 'r')\n",
    "    \n",
    "    # sum of numbers in file\n",
    "    total = 0\n",
    "    \n",
    "    # total numbers in file\n",
    "    total_numbers = 0\n",
    "    \n",
    "    # for loop reads each line and converts it to int\n",
    "    # adds numbers to totals and displays each\n",
    "    for line in random_numbers_file:\n",
    "        \n",
    "        read_number = int(line)\n",
    "                            \n",
    "        total_numbers += 1\n",
    "            \n",
    "        total += read_number\n",
    "            \n",
    "        print(f'Number in the file: {read_number}\\n')\n",
    "            \n",
    "        print(f'Total of all numbers in file: {total}\\n')\n",
    "            \n",
    "        print(f'Total numbers in file: {total_numbers}\\n')\n",
    "            \n",
    "        print('**********************************')\n",
    "                                    \n",
    "    random_numbers_file.close()\n",
    "            \n",
    "\n",
    "\n",
    "# call to main function\n",
    "if __name__ == '__main__':\n",
    "    main()"
   ]
  },
  {
   "cell_type": "markdown",
   "id": "8f712142",
   "metadata": {},
   "source": [
    "### Question 6 Average of Numbers\n",
    "\n",
    "Assume a file containing a series of integers is named numbers.txt and exists on the computer’s disk. Write a program that calculates the average of all the numbers stored in the file.\n",
    "\n"
   ]
  },
  {
   "cell_type": "code",
   "execution_count": 4,
   "id": "b7b5330f",
   "metadata": {
    "scrolled": true
   },
   "outputs": [
    {
     "name": "stdout",
     "output_type": "stream",
     "text": [
      "The average of the numbers in the file is 55.\n"
     ]
    }
   ],
   "source": [
    "# main program opens numbers.txt in read mode\n",
    "# keeps total of number of total values in file\n",
    "# and adds the values to the \"total\" accumulator\n",
    "def main():\n",
    "    number_file = open('numbers.txt', 'r')\n",
    "    \n",
    "    total = 0\n",
    "    \n",
    "    lines = 0\n",
    "    \n",
    "    line = number_file.readline()\n",
    "    \n",
    "    # while loop reads the file, converts values to float\n",
    "    # and adds values to accumulators\n",
    "    while line != '':\n",
    "        number = float(line)\n",
    "        total += number\n",
    "        lines += 1\n",
    "        line = number_file.readline()\n",
    "        \n",
    "        \n",
    "    # close the file and calculate the average\n",
    "    # with our converted data\n",
    "    number_file.close()\n",
    "    average = total / lines\n",
    "    print(f'The average of the numbers in the file is {average:,.0f}.')\n",
    "\n",
    "\n",
    "# if program is standalone, run main program\n",
    "if __name__ == '__main__':\n",
    "    main()"
   ]
  },
  {
   "cell_type": "markdown",
   "id": "54586ef2",
   "metadata": {},
   "source": [
    "## Without running the above code, I think this is how you would do this. I plan on creating a file to test all of these tomorrow. "
   ]
  },
  {
   "cell_type": "markdown",
   "id": "e2553758",
   "metadata": {},
   "source": [
    "## I've created numbers.txt and tested Problems 1 and 6. After fixing a couple issues (visible in various commits to GitHub) I've got it to work!"
   ]
  },
  {
   "cell_type": "markdown",
   "id": "be5fb82d",
   "metadata": {},
   "source": [
    "### Question 9  Exception Handing\n",
    "\n",
    "Modify the program that you wrote for Exercise 6 so it handles the following exceptions:\n",
    "\n",
    "It should handle any IOError exceptions that are raised when the file is opened and data is read from it.\n",
    "\n",
    "It should handle any ValueError exceptions that are raised when the items that are read from the file are converted to a number.\n",
    "\n"
   ]
  },
  {
   "cell_type": "code",
   "execution_count": 1,
   "id": "89fd1ed2",
   "metadata": {},
   "outputs": [
    {
     "name": "stdout",
     "output_type": "stream",
     "text": [
      "An error occurred trying to read the file.\n"
     ]
    }
   ],
   "source": [
    "# main program opens numbers.txt in read mode\n",
    "# keeps total of number of total values in file\n",
    "# and adds the values to the \"total\" accumulator\n",
    "def main():\n",
    "    try:\n",
    "        number_file = open('number.txt', 'r')\n",
    "    \n",
    "        total = 0\n",
    "    \n",
    "        lines = 0\n",
    "    \n",
    "        line = number_file.readline()\n",
    "        \n",
    "        # while loop reads the file, converts values to float\n",
    "        # and adds values to accumulators\n",
    "        while line != '':\n",
    "            number = float(line)\n",
    "            total += number\n",
    "            lines += 1\n",
    "            line = number_file.readline()\n",
    "        \n",
    "        # close the file and calculate the average\n",
    "        # with our converted data\n",
    "        number_file.close()\n",
    "        average = total / lines\n",
    "        print(f'The average of the numbers in the file is {average:,.0f}.')\n",
    "        \n",
    "    except IOError:\n",
    "        print('An error occurred trying to read the file.')\n",
    "        \n",
    "    except ValueError:\n",
    "        print('Non-numerical data error.')\n",
    "\n",
    "# if program is standalone, run main program\n",
    "if __name__ == '__main__':\n",
    "    main()"
   ]
  },
  {
   "cell_type": "markdown",
   "id": "95e86ebd",
   "metadata": {},
   "source": [
    "## In the above question, I added an exception handler to the program, that handles IOErrors and ValueErrors. In the cell above, I changed 'numbers.txt' to 'number.txt' to test the IOError handler and it worked properly! "
   ]
  },
  {
   "cell_type": "code",
   "execution_count": 4,
   "id": "114b5314",
   "metadata": {},
   "outputs": [
    {
     "name": "stdout",
     "output_type": "stream",
     "text": [
      "Non-numerical data error.\n"
     ]
    }
   ],
   "source": [
    "# main program opens numbers.txt in read mode\n",
    "# keeps total of number of total values in file\n",
    "# and adds the values to the \"total\" accumulator\n",
    "def main():\n",
    "    try:\n",
    "        number_file = open('numbers.txt', 'r')\n",
    "    \n",
    "        total = 0\n",
    "    \n",
    "        lines = 0\n",
    "    \n",
    "        line = number_file.readline()\n",
    "        \n",
    "        # while loop reads the file, converts values to float\n",
    "        # and adds values to accumulators\n",
    "        while line != '':\n",
    "            number = float(line)\n",
    "            total += number\n",
    "            lines += 1\n",
    "            line = number_file.readline()\n",
    "        \n",
    "        # close the file and calculate the average\n",
    "        # with our converted data\n",
    "        number_file.close()\n",
    "        average = total / lines\n",
    "        print(f'The average of the numbers in the file is {average:,.0f}.')\n",
    "    \n",
    "    # handles IOError \n",
    "    except IOError:\n",
    "        print('An error occurred trying to read the file.')\n",
    "        \n",
    "    # handles a ValueError\n",
    "    except ValueError:\n",
    "        print('Non-numerical data error.')\n",
    "\n",
    "# if program is standalone, run main program\n",
    "if __name__ == '__main__':\n",
    "    main()"
   ]
  },
  {
   "cell_type": "markdown",
   "id": "6e294456",
   "metadata": {},
   "source": [
    "## I went back and entered the string 'six' into my numbers.txt file in order to test my ValueError handler and it worked! "
   ]
  },
  {
   "cell_type": "code",
   "execution_count": null,
   "id": "1ecfb99f",
   "metadata": {},
   "outputs": [],
   "source": []
  }
 ],
 "metadata": {
  "kernelspec": {
   "display_name": "Python 3 (ipykernel)",
   "language": "python",
   "name": "python3"
  },
  "language_info": {
   "codemirror_mode": {
    "name": "ipython",
    "version": 3
   },
   "file_extension": ".py",
   "mimetype": "text/x-python",
   "name": "python",
   "nbconvert_exporter": "python",
   "pygments_lexer": "ipython3",
   "version": "3.10.9"
  }
 },
 "nbformat": 4,
 "nbformat_minor": 5
}
