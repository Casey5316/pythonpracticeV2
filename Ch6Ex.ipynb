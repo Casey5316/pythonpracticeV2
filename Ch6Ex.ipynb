{
 "cells": [
  {
   "cell_type": "markdown",
   "id": "b57af15c",
   "metadata": {},
   "source": [
    "# Chapter 6 Exercises \n",
    "## Algorithm Workbench\n",
    "### Any two questions"
   ]
  },
  {
   "cell_type": "markdown",
   "id": "20bfe38a",
   "metadata": {},
   "source": [
    "## Programming Exercises\n",
    "### Question 1\n",
    "File Display\n",
    "Assume a file containing a series of integers is named numbers.txt and exists on the computer’s disk. Write a program that displays all of the numbers in the file."
   ]
  },
  {
   "cell_type": "code",
   "execution_count": null,
   "id": "0a14e05d",
   "metadata": {},
   "outputs": [],
   "source": [
    "# main function that opens the file numbers.txt\n",
    "# for loop reads and prints each line\n",
    "# then close the file\n",
    "def main():\n",
    "    number_file = open('numbers.txt', 'r')\n",
    "    \n",
    "    for line in number_file:\n",
    "        print(line)\n",
    "    number_file.close()\n",
    "\n",
    "# call main function if running on its own\n",
    "if __name__ == '__main__':\n",
    "    main()"
   ]
  },
  {
   "cell_type": "markdown",
   "id": "22dd6e90",
   "metadata": {},
   "source": [
    "### Question 6\n",
    "Average of Numbers\n",
    "Assume a file containing a series of integers is named numbers.txt and exists on the computer’s disk. Write a program that calculates the average of all the numbers stored in the file.\n",
    "\n"
   ]
  },
  {
   "cell_type": "code",
   "execution_count": null,
   "id": "a9586b21",
   "metadata": {},
   "outputs": [],
   "source": [
    "def main():\n",
    "    number_file = open('numbers.txt', 'r')\n",
    "    \n",
    "    total = 0\n",
    "    \n",
    "    for line in number_file:\n",
    "        number = float(number_file.readline())\n",
    "        total += number \n",
    "    average = total / line\n",
    "    number_file.close()\n",
    "    print(f'The average of the numbers in the file is {average:,.0f}.')\n",
    "\n",
    "\n",
    "\n",
    "if __name__ == '__main__':\n",
    "    main()"
   ]
  },
  {
   "cell_type": "markdown",
   "id": "060f31e9",
   "metadata": {},
   "source": [
    "## Without running the above code, I think this is how you would do this. I plan on creating a file to test all of these tomorrow. "
   ]
  },
  {
   "cell_type": "markdown",
   "id": "e14fb69f",
   "metadata": {},
   "source": [
    "### Question 9 "
   ]
  },
  {
   "cell_type": "code",
   "execution_count": null,
   "id": "766f6294",
   "metadata": {},
   "outputs": [],
   "source": []
  }
 ],
 "metadata": {
  "kernelspec": {
   "display_name": "Python 3 (ipykernel)",
   "language": "python",
   "name": "python3"
  },
  "language_info": {
   "codemirror_mode": {
    "name": "ipython",
    "version": 3
   },
   "file_extension": ".py",
   "mimetype": "text/x-python",
   "name": "python",
   "nbconvert_exporter": "python",
   "pygments_lexer": "ipython3",
   "version": "3.10.9"
  }
 },
 "nbformat": 4,
 "nbformat_minor": 5
}
