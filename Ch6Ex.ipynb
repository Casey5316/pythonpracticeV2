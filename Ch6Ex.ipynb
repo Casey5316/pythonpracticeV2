{
 "cells": [
  {
   "cell_type": "markdown",
   "id": "11d2a227",
   "metadata": {},
   "source": [
    "# Chapter 6 Exercises \n",
    "## Algorithm Workbench\n",
    "### Any two questions"
   ]
  },
  {
   "cell_type": "markdown",
   "id": "ec43fab3",
   "metadata": {},
   "source": [
    "## Programming Exercises\n",
    "### Question 1\n",
    "File Display\n",
    "Assume a file containing a series of integers is named numbers.txt and exists on the computer’s disk. Write a program that displays all of the numbers in the file."
   ]
  },
  {
   "cell_type": "markdown",
   "id": "fed532d7",
   "metadata": {},
   "source": [
    "## I've attempted to create a file called numbers.txt so I can test my program in Problem 1"
   ]
  },
  {
   "cell_type": "code",
   "execution_count": 1,
   "id": "1bdfe2b2",
   "metadata": {},
   "outputs": [
    {
     "name": "stdout",
     "output_type": "stream",
     "text": [
      "Enter a number to be saved: 77\n"
     ]
    }
   ],
   "source": [
    "def main():\n",
    "    add_number = int(input('Enter a number to be saved: '))\n",
    "    \n",
    "    number_file = open('numbers.txt', 'a')\n",
    "    \n",
    "    number_file.write(f'{add_number}\\n')\n",
    "    \n",
    "    number_file.close()\n",
    "\n",
    "\n",
    "if __name__ == '__main__':\n",
    "    main()"
   ]
  },
  {
   "cell_type": "code",
   "execution_count": null,
   "id": "4a746bcd",
   "metadata": {},
   "outputs": [],
   "source": [
    "# main function that opens the file numbers.txt\n",
    "# for loop reads and prints each line\n",
    "# then close the file\n",
    "def main():\n",
    "    number_file = open('numbers.txt', 'r')\n",
    "    \n",
    "    for line in number_file:\n",
    "        print(line)\n",
    "    number_file.close()\n",
    "\n",
    "# call main function if running on its own\n",
    "if __name__ == '__main__':\n",
    "    main()"
   ]
  },
  {
   "cell_type": "markdown",
   "id": "0ed7ea03",
   "metadata": {},
   "source": [
    "### Question 6\n",
    "Average of Numbers\n",
    "Assume a file containing a series of integers is named numbers.txt and exists on the computer’s disk. Write a program that calculates the average of all the numbers stored in the file.\n",
    "\n"
   ]
  },
  {
   "cell_type": "code",
   "execution_count": null,
   "id": "763e1ed1",
   "metadata": {},
   "outputs": [],
   "source": [
    "def main():\n",
    "    number_file = open('numbers.txt', 'r')\n",
    "    \n",
    "    total = 0\n",
    "    \n",
    "    for line in number_file:\n",
    "        number = float(number_file.readline())\n",
    "        total += number \n",
    "    average = total / line\n",
    "    number_file.close()\n",
    "    print(f'The average of the numbers in the file is {average:,.0f}.')\n",
    "\n",
    "\n",
    "\n",
    "if __name__ == '__main__':\n",
    "    main()"
   ]
  },
  {
   "cell_type": "markdown",
   "id": "67d03f80",
   "metadata": {},
   "source": [
    "## Without running the above code, I think this is how you would do this. I plan on creating a file to test all of these tomorrow. "
   ]
  },
  {
   "cell_type": "markdown",
   "id": "aeafc2c0",
   "metadata": {},
   "source": [
    "### Question 9 \n",
    " Exception Handing\n",
    "Modify the program that you wrote for Exercise 6 so it handles the following exceptions:\n",
    "\n",
    "It should handle any IOError exceptions that are raised when the file is opened and data is read from it.\n",
    "\n",
    "It should handle any ValueError exceptions that are raised when the items that are read from the file are converted to a number.\n",
    "\n"
   ]
  },
  {
   "cell_type": "code",
   "execution_count": null,
   "id": "292353e0",
   "metadata": {},
   "outputs": [],
   "source": []
  }
 ],
 "metadata": {
  "kernelspec": {
   "display_name": "Python 3 (ipykernel)",
   "language": "python",
   "name": "python3"
  },
  "language_info": {
   "codemirror_mode": {
    "name": "ipython",
    "version": 3
   },
   "file_extension": ".py",
   "mimetype": "text/x-python",
   "name": "python",
   "nbconvert_exporter": "python",
   "pygments_lexer": "ipython3",
   "version": "3.10.9"
  }
 },
 "nbformat": 4,
 "nbformat_minor": 5
}
