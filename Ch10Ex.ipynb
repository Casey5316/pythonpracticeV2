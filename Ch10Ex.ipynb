{
 "cells": [
  {
   "cell_type": "markdown",
   "id": "be945894",
   "metadata": {},
   "source": [
    "# Chapter 10 Exercises \n",
    "## Question 1 - Pet Class\n",
    "\n",
    "\n",
    "The Pet class\n",
    "\n",
    "Write a class named Pet, which should have the following data attributes:\n",
    "\n",
    "_ _name (for the name of a pet)\n",
    "\n",
    "_ _animal_type (for the type of animal that a pet is. Example values are ‘Dog’, ‘Cat’, and ‘Bird’)\n",
    "\n",
    "_ _age (for the pet’s age)\n",
    "\n",
    "The Pet class should have an _ _init_ _ method that creates these attributes. It should also have the following methods:\n",
    "\n",
    "set_name\n",
    "\n",
    "This method assigns a value to the _ _name field.\n",
    "\n",
    "set_animal_type\n",
    "\n",
    "This method assigns a value to the _ _animal_type field.\n",
    "\n",
    "set_age\n",
    "\n",
    "This method assigns a value to the _ _age field.\n",
    "\n",
    "get_name\n",
    "\n",
    "This method returns the value of the _ _ name field.\n",
    "\n",
    "get_animal_type\n",
    "\n",
    "This method returns the value of the _ _animal_type field.\n",
    "\n",
    "get_age\n",
    "\n",
    "This method returns the value of the _ _age field.\n",
    "\n",
    "Once you have written the class, write a program that creates an object of the class and prompts the user to enter the name, type, and age of his or her pet. This data should be stored as the object’s attributes. Use the object’s accessor methods to retrieve the pet’s name, type, and age and display this data on the screen."
   ]
  },
  {
   "cell_type": "code",
   "execution_count": null,
   "id": "8737b4c0",
   "metadata": {},
   "outputs": [],
   "source": []
  }
 ],
 "metadata": {
  "kernelspec": {
   "display_name": "Python 3 (ipykernel)",
   "language": "python",
   "name": "python3"
  },
  "language_info": {
   "codemirror_mode": {
    "name": "ipython",
    "version": 3
   },
   "file_extension": ".py",
   "mimetype": "text/x-python",
   "name": "python",
   "nbconvert_exporter": "python",
   "pygments_lexer": "ipython3",
   "version": "3.10.9"
  }
 },
 "nbformat": 4,
 "nbformat_minor": 5
}
