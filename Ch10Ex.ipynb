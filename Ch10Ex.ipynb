{
 "cells": [
  {
   "cell_type": "markdown",
   "id": "05cca031",
   "metadata": {},
   "source": [
    "# Chapter 10 Exercises \n",
    "## Question 1 - Pet Class\n",
    "\n",
    "\n",
    "The Pet class\n",
    "\n",
    "Write a class named Pet, which should have the following data attributes:\n",
    "\n",
    "_ _name (for the name of a pet)\n",
    "\n",
    "_ _animal_type (for the type of animal that a pet is. Example values are ‘Dog’, ‘Cat’, and ‘Bird’)\n",
    "\n",
    "_ _age (for the pet’s age)\n",
    "\n",
    "The Pet class should have an _ _init_ _ method that creates these attributes. It should also have the following methods:\n",
    "\n",
    "set_name\n",
    "\n",
    "This method assigns a value to the _ _name field.\n",
    "\n",
    "set_animal_type\n",
    "\n",
    "This method assigns a value to the _ _animal_type field.\n",
    "\n",
    "set_age\n",
    "\n",
    "This method assigns a value to the _ _age field.\n",
    "\n",
    "get_name\n",
    "\n",
    "This method returns the value of the _ _ name field.\n",
    "\n",
    "get_animal_type\n",
    "\n",
    "This method returns the value of the _ _animal_type field.\n",
    "\n",
    "get_age\n",
    "\n",
    "This method returns the value of the _ _age field.\n",
    "\n",
    "Once you have written the class, write a program that creates an object of the class and prompts the user to enter the name, type, and age of his or her pet. This data should be stored as the object’s attributes. Use the object’s accessor methods to retrieve the pet’s name, type, and age and display this data on the screen."
   ]
  },
  {
   "cell_type": "markdown",
   "id": "6e0b909f",
   "metadata": {},
   "source": [
    "### My first attempt at importing the class and setting up the code to execute the methods of the class."
   ]
  },
  {
   "cell_type": "code",
   "execution_count": 13,
   "id": "fc3f7070",
   "metadata": {},
   "outputs": [
    {
     "ename": "ImportError",
     "evalue": "cannot import name 'Pet' from 'pets' (/Users/caseymiller/Documents/GitHub/pythonpracticeV2/pets.py)",
     "output_type": "error",
     "traceback": [
      "\u001b[0;31m---------------------------------------------------------------------------\u001b[0m",
      "\u001b[0;31mImportError\u001b[0m                               Traceback (most recent call last)",
      "Cell \u001b[0;32mIn[13], line 1\u001b[0m\n\u001b[0;32m----> 1\u001b[0m \u001b[38;5;28;01mfrom\u001b[39;00m \u001b[38;5;21;01mpets\u001b[39;00m \u001b[38;5;28;01mimport\u001b[39;00m Pet\n\u001b[1;32m      3\u001b[0m \u001b[38;5;28;01mdef\u001b[39;00m \u001b[38;5;21mmain\u001b[39m():\n\u001b[1;32m      4\u001b[0m     name \u001b[38;5;241m=\u001b[39m \u001b[38;5;28minput\u001b[39m(\u001b[38;5;124m'\u001b[39m\u001b[38;5;124mWhat is your pet\u001b[39m\u001b[38;5;130;01m\\'\u001b[39;00m\u001b[38;5;124ms name? \u001b[39m\u001b[38;5;124m'\u001b[39m)\n",
      "\u001b[0;31mImportError\u001b[0m: cannot import name 'Pet' from 'pets' (/Users/caseymiller/Documents/GitHub/pythonpracticeV2/pets.py)"
     ]
    }
   ],
   "source": [
    "from pets import Pet\n",
    "\n",
    "def main():\n",
    "    name = input('What is your pet\\'s name? ')\n",
    "    animal_type = input('What type of animal is your pet? ')\n",
    "    age = input('How old is your pet? ')\n",
    "    \n",
    "    pet = Pet(name, animal_type, age)\n",
    "    \n",
    "    print(pet.get_name, pet.get_type, pet.get_age)\n",
    "\n",
    "if __name__ == '__main__':\n",
    "    main()"
   ]
  },
  {
   "cell_type": "markdown",
   "id": "7c2b7a8f",
   "metadata": {},
   "source": [
    "# Above I tried to test my class module, and I am having trouble calling it successfully. After struggling with the module being saved as a json file again, I did a little research and found that this can happen with Jupyter for whatever reason. In my research I found a workaround to this issue where you save the module to a .txt file and call it from there. It got me one step further, and I was able to get the interpreter to recognize my pets.py file, however, now I am having trouble with the actual class within the module being recognized. I will try a different method of import below "
   ]
  },
  {
   "cell_type": "code",
   "execution_count": 14,
   "id": "f1c26401",
   "metadata": {},
   "outputs": [
    {
     "ename": "ImportError",
     "evalue": "cannot import name 'Pet' from 'pets' (/Users/caseymiller/Documents/GitHub/pythonpracticeV2/pets.py)",
     "output_type": "error",
     "traceback": [
      "\u001b[0;31m---------------------------------------------------------------------------\u001b[0m",
      "\u001b[0;31mImportError\u001b[0m                               Traceback (most recent call last)",
      "Cell \u001b[0;32mIn[14], line 1\u001b[0m\n\u001b[0;32m----> 1\u001b[0m \u001b[38;5;28;01mfrom\u001b[39;00m \u001b[38;5;21;01mpets\u001b[39;00m \u001b[38;5;28;01mimport\u001b[39;00m Pet\n\u001b[1;32m      3\u001b[0m \u001b[38;5;28;01mdef\u001b[39;00m \u001b[38;5;21mmain\u001b[39m():\n\u001b[1;32m      4\u001b[0m     name \u001b[38;5;241m=\u001b[39m \u001b[38;5;28minput\u001b[39m(\u001b[38;5;124m'\u001b[39m\u001b[38;5;124mWhat is your pet\u001b[39m\u001b[38;5;130;01m\\'\u001b[39;00m\u001b[38;5;124ms name? \u001b[39m\u001b[38;5;124m'\u001b[39m)\n",
      "\u001b[0;31mImportError\u001b[0m: cannot import name 'Pet' from 'pets' (/Users/caseymiller/Documents/GitHub/pythonpracticeV2/pets.py)"
     ]
    }
   ],
   "source": [
    "from pets import Pet\n",
    "\n",
    "def main():\n",
    "    name = input('What is your pet\\'s name? ')\n",
    "    animal_type = input('What type of animal is your pet? ')\n",
    "    age = input('How old is your pet? ')\n",
    "    \n",
    "    pet = pets.Pet(name, animal_type, age)\n",
    "    \n",
    "    print(pets.get_name, pets.get_type, pets.get_age)\n",
    "\n",
    "if __name__ == '__main__':\n",
    "    main()"
   ]
  },
  {
   "cell_type": "markdown",
   "id": "4cf52dc1",
   "metadata": {},
   "source": [
    "# I noticed that my accessor method statements in line 10 were incorrect, and I added an 's' at the end of each to make them pets.get_name instead of pet.get_name. I am still having the same issue with not being able to call the module"
   ]
  },
  {
   "cell_type": "code",
   "execution_count": 19,
   "id": "8218ba1e",
   "metadata": {},
   "outputs": [
    {
     "name": "stdout",
     "output_type": "stream",
     "text": [
      "What is your pet's name? Goose\n",
      "What type of animal is your pet? Cat\n",
      "How old is your pet? 2\n",
      "Goose Cat 2\n"
     ]
    }
   ],
   "source": [
    "from pet import Pet\n",
    "\n",
    "def main():\n",
    "    name = input('What is your pet\\'s name? ')\n",
    "    animal_type = input('What type of animal is your pet? ')\n",
    "    age = input('How old is your pet? ')\n",
    "    \n",
    "    my_pet = Pet(name, animal_type, age)\n",
    "    \n",
    "    print(my_pet.get_name(), my_pet.get_type(), my_pet.get_age())\n",
    "\n",
    "if __name__ == '__main__':\n",
    "    main()"
   ]
  },
  {
   "cell_type": "markdown",
   "id": "ce2ca8bc",
   "metadata": {},
   "source": [
    "# After messing with the names of the class module as well as the variable assigned to each instance of pet, I finally got it working, although I'm not entirely sure how. I know there was some sort of naming error with the different variables so I'm hoping this solves it once and for all! "
   ]
  },
  {
   "cell_type": "markdown",
   "id": "03a9f865",
   "metadata": {},
   "source": [
    "## Once you have written the class, write a program that creates an object of the class and prompts the user to enter the name, type, and age of his or her pet. This data should be stored as the object’s attributes. Use the object’s accessor methods to retrieve the pet’s name, type, and age and display this data on the screen."
   ]
  },
  {
   "cell_type": "code",
   "execution_count": 31,
   "id": "432403a0",
   "metadata": {},
   "outputs": [
    {
     "name": "stdout",
     "output_type": "stream",
     "text": [
      "Press 'y' to enter your pet's info \n",
      "or press 'n' to quit: y\n",
      "What is your pet's name? Goose\n",
      "What type of animal is your pet? cat\n",
      "How old is your pet? 2\n",
      "\n",
      "Goose is a 2 year old cat.\n",
      "\n",
      "Do you want to enter another pet's info? \n",
      "Press 'y' for yes or 'n' for no: y\n",
      "\n",
      "What is your pet's name? Fido\n",
      "What type of animal is your pet? dog\n",
      "How old is your pet? 6\n",
      "\n",
      "Fido is a 6 year old dog.\n",
      "\n",
      "Do you want to enter another pet's info? \n",
      "Press 'y' for yes or 'n' for no: y\n",
      "\n",
      "What is your pet's name? Nemo\n",
      "What type of animal is your pet? goldfish\n",
      "How old is your pet? 1\n",
      "\n",
      "Nemo is a 1 year old goldfish.\n",
      "\n",
      "Do you want to enter another pet's info? \n",
      "Press 'y' for yes or 'n' for no: n\n",
      "\n"
     ]
    }
   ],
   "source": [
    "# import pet class module from personal library\n",
    "from pet import Pet\n",
    "\n",
    "# main function allows user to create different pet objects with\n",
    "# the attributes name, animal type, and age\n",
    "def main():    \n",
    "    # variable that controls the loop \n",
    "    another = input('Press \\'y\\' to enter your pet\\'s info \\n'\n",
    "                   + 'or press \\'n\\' to quit: ')\n",
    "    \n",
    "    while another.upper() == 'Y':\n",
    "        name = input('What is your pet\\'s name? ')\n",
    "        animal_type = input('What type of animal is your pet? ')\n",
    "        age = input('How old is your pet? ')\n",
    "        \n",
    "        print()\n",
    "        \n",
    "        # statement creates animal object from Pet class\n",
    "        my_pet = Pet(name, animal_type, age)\n",
    "                \n",
    "        print(f'{my_pet.get_name()} is a {my_pet.get_age()} year old {my_pet.get_type()}.\\n')\n",
    "        \n",
    "        another = input('Do you want to enter another pet\\'s info? \\n'\n",
    "                       + 'Press \\'y\\' for yes or \\'n\\' for no: ')\n",
    "        print()\n",
    "\n",
    "        \n",
    "        \n",
    "        \n",
    "        \n",
    "# call to main function \n",
    "if __name__ == '__main__':\n",
    "    main()"
   ]
  },
  {
   "cell_type": "markdown",
   "id": "4de3459f",
   "metadata": {},
   "source": [
    "## Question 2 - Car Class\n",
    "Write a class named Car that has the following data attributes:\n",
    "\n",
    "_ _year_model (for the car’s year model)\n",
    "\n",
    "_ _make (for the make of the car)\n",
    "\n",
    "_ _speed (for the car’s current speed)\n",
    "\n",
    "The Car class should have an _ _init_ _ method that accepts the car’s year model and make as arguments. These values should be assigned to the object’s _ _year_model and _ _make data attributes. It should also assign 0 to the _ _speed data attribute.\n",
    "\n",
    "The class should also have the following methods:\n",
    "\n",
    "accelerate\n",
    "\n",
    "The accelerate method should add 5 to the speed data attribute each time it is called.\n",
    "\n",
    "brake\n",
    "\n",
    "The brake method should subtract 5 from the speed data attribute each time it is called.\n",
    "\n",
    "get_speed\n",
    "\n",
    "The get_speed method should return the current speed.\n",
    "\n",
    "Next, design a program that creates a Car object then calls the accelerate method five times. After each call to the accelerate method, get the current speed of the car and display it. Then call the brake method five times. After each call to the brake method, get the current speed of the car and display it."
   ]
  },
  {
   "cell_type": "code",
   "execution_count": 36,
   "id": "c1a2cad0",
   "metadata": {},
   "outputs": [
    {
     "name": "stdout",
     "output_type": "stream",
     "text": [
      "What is the year and model of your vehicle? 2013 Ford\n",
      "What is the make of your vehicle? F150\n"
     ]
    },
    {
     "ename": "TypeError",
     "evalue": "Car.__init__() takes 3 positional arguments but 4 were given",
     "output_type": "error",
     "traceback": [
      "\u001b[0;31m---------------------------------------------------------------------------\u001b[0m",
      "\u001b[0;31mTypeError\u001b[0m                                 Traceback (most recent call last)",
      "Cell \u001b[0;32mIn[36], line 25\u001b[0m\n\u001b[1;32m     18\u001b[0m     \u001b[38;5;28mprint\u001b[39m(\u001b[38;5;124mf\u001b[39m\u001b[38;5;124m'\u001b[39m\u001b[38;5;124mYour current speed is: \u001b[39m\u001b[38;5;132;01m{\u001b[39;00m\u001b[38;5;28mself\u001b[39m\u001b[38;5;241m.\u001b[39m__speed\u001b[38;5;132;01m}\u001b[39;00m\u001b[38;5;124m mph\u001b[39m\u001b[38;5;124m'\u001b[39m)\n\u001b[1;32m     24\u001b[0m \u001b[38;5;28;01mif\u001b[39;00m \u001b[38;5;18m__name__\u001b[39m \u001b[38;5;241m==\u001b[39m \u001b[38;5;124m'\u001b[39m\u001b[38;5;124m__main__\u001b[39m\u001b[38;5;124m'\u001b[39m:\n\u001b[0;32m---> 25\u001b[0m     \u001b[43mmain\u001b[49m\u001b[43m(\u001b[49m\u001b[43m)\u001b[49m\n",
      "Cell \u001b[0;32mIn[36], line 9\u001b[0m, in \u001b[0;36mmain\u001b[0;34m()\u001b[0m\n\u001b[1;32m      5\u001b[0m make \u001b[38;5;241m=\u001b[39m \u001b[38;5;28minput\u001b[39m(\u001b[38;5;124m'\u001b[39m\u001b[38;5;124mWhat is the make of your vehicle? \u001b[39m\u001b[38;5;124m'\u001b[39m)\n\u001b[1;32m      7\u001b[0m speed \u001b[38;5;241m=\u001b[39m \u001b[38;5;241m0\u001b[39m\n\u001b[0;32m----> 9\u001b[0m my_car \u001b[38;5;241m=\u001b[39m \u001b[43mCar\u001b[49m\u001b[43m(\u001b[49m\u001b[43myear_model\u001b[49m\u001b[43m,\u001b[49m\u001b[43m \u001b[49m\u001b[43mmake\u001b[49m\u001b[43m,\u001b[49m\u001b[43m \u001b[49m\u001b[43mspeed\u001b[49m\u001b[43m)\u001b[49m\n\u001b[1;32m     11\u001b[0m my_car\u001b[38;5;241m.\u001b[39maccelerate()\n\u001b[1;32m     12\u001b[0m my_car\u001b[38;5;241m.\u001b[39maccelerate()\n",
      "\u001b[0;31mTypeError\u001b[0m: Car.__init__() takes 3 positional arguments but 4 were given"
     ]
    }
   ],
   "source": [
    "from car import Car\n",
    "\n",
    "def main():\n",
    "    year_model = input('What is the year and model of your vehicle? ')\n",
    "    make = input('What is the make of your vehicle? ')\n",
    "    \n",
    "    speed = 0\n",
    "    \n",
    "    my_car = Car(year_model, make, speed)\n",
    "    \n",
    "    my_car.accelerate()\n",
    "    my_car.accelerate()\n",
    "    my_car.accelerate()\n",
    "    my_car.accelerate()\n",
    "    my_car.accelerate()    \n",
    "    \n",
    "    print(f'Year and model of car: {self.__year_model}')\n",
    "    print(f'Make of vehicle: {self.__make})\n",
    "    print(f'Your current speed is: {self.__speed} mph')\n",
    "    \n",
    "\n",
    "\n",
    "\n",
    "\n",
    "if __name__ == '__main__':\n",
    "    main()"
   ]
  },
  {
   "cell_type": "markdown",
   "id": "54761432",
   "metadata": {},
   "source": [
    "# After I wrote up my class for the car object, I attempted to create the code that calls the class. Most of it has worked so far except I am having an issue with my initializer taking 4 arguments? I am a bit confused because I only entered 3 in my statement in line 9. I will be double checking the code in my class module and trying again in the next cell. "
   ]
  },
  {
   "cell_type": "code",
   "execution_count": 38,
   "id": "34d99378",
   "metadata": {},
   "outputs": [
    {
     "name": "stdout",
     "output_type": "stream",
     "text": [
      "What is the year and model of your vehicle? 2013 F150\n",
      "What is the make of your vehicle? Ford\n"
     ]
    },
    {
     "ename": "TypeError",
     "evalue": "Car.__init__() takes 3 positional arguments but 4 were given",
     "output_type": "error",
     "traceback": [
      "\u001b[0;31m---------------------------------------------------------------------------\u001b[0m",
      "\u001b[0;31mTypeError\u001b[0m                                 Traceback (most recent call last)",
      "Cell \u001b[0;32mIn[38], line 25\u001b[0m\n\u001b[1;32m     18\u001b[0m     \u001b[38;5;28mprint\u001b[39m(\u001b[38;5;124mf\u001b[39m\u001b[38;5;124m'\u001b[39m\u001b[38;5;124mYour current speed is: \u001b[39m\u001b[38;5;132;01m{\u001b[39;00m\u001b[38;5;28mself\u001b[39m\u001b[38;5;241m.\u001b[39m__speed\u001b[38;5;132;01m}\u001b[39;00m\u001b[38;5;124m mph\u001b[39m\u001b[38;5;124m'\u001b[39m)\n\u001b[1;32m     24\u001b[0m \u001b[38;5;28;01mif\u001b[39;00m \u001b[38;5;18m__name__\u001b[39m \u001b[38;5;241m==\u001b[39m \u001b[38;5;124m'\u001b[39m\u001b[38;5;124m__main__\u001b[39m\u001b[38;5;124m'\u001b[39m:\n\u001b[0;32m---> 25\u001b[0m     \u001b[43mmain\u001b[49m\u001b[43m(\u001b[49m\u001b[43m)\u001b[49m\n",
      "Cell \u001b[0;32mIn[38], line 9\u001b[0m, in \u001b[0;36mmain\u001b[0;34m()\u001b[0m\n\u001b[1;32m      5\u001b[0m make \u001b[38;5;241m=\u001b[39m \u001b[38;5;28minput\u001b[39m(\u001b[38;5;124m'\u001b[39m\u001b[38;5;124mWhat is the make of your vehicle? \u001b[39m\u001b[38;5;124m'\u001b[39m)\n\u001b[1;32m      7\u001b[0m speed \u001b[38;5;241m=\u001b[39m \u001b[38;5;241m0\u001b[39m\n\u001b[0;32m----> 9\u001b[0m my_car \u001b[38;5;241m=\u001b[39m \u001b[43mCar\u001b[49m\u001b[43m(\u001b[49m\u001b[43myear_and_model\u001b[49m\u001b[43m,\u001b[49m\u001b[43m \u001b[49m\u001b[43mmake\u001b[49m\u001b[43m,\u001b[49m\u001b[43m \u001b[49m\u001b[43mspeed\u001b[49m\u001b[43m)\u001b[49m\n\u001b[1;32m     11\u001b[0m my_car\u001b[38;5;241m.\u001b[39maccelerate()\n\u001b[1;32m     12\u001b[0m my_car\u001b[38;5;241m.\u001b[39maccelerate()\n",
      "\u001b[0;31mTypeError\u001b[0m: Car.__init__() takes 3 positional arguments but 4 were given"
     ]
    }
   ],
   "source": [
    "from car import Car\n",
    "\n",
    "def main():\n",
    "    year_and_model = input('What is the year and model of your vehicle? ')\n",
    "    make = input('What is the make of your vehicle? ')\n",
    "    \n",
    "    speed = 0\n",
    "    \n",
    "    my_car = Car(year_and_model, make, speed)\n",
    "    \n",
    "    my_car.accelerate()\n",
    "    my_car.accelerate()\n",
    "    my_car.accelerate()\n",
    "    my_car.accelerate()\n",
    "    my_car.accelerate()    \n",
    "    \n",
    "    print(f'Your car is a: {self.__year_model} {self.__make}')\n",
    "    print(f'Your current speed is: {self.__speed} mph')\n",
    "    \n",
    "\n",
    "\n",
    "\n",
    "\n",
    "if __name__ == '__main__':\n",
    "    main()"
   ]
  },
  {
   "cell_type": "markdown",
   "id": "f2cff436",
   "metadata": {},
   "source": [
    "# So after some re-reading in the Chapter and a look at my notes, I think I noticed what I did wrong. I believe that when I called the values self.__year_model and self.__make, I didn't have a getter for either of them within my class. So I went ahead and added that and I am now going to make the necessary changes within the code to correctly get the attribute values from the objects."
   ]
  },
  {
   "cell_type": "code",
   "execution_count": 2,
   "id": "a296250f",
   "metadata": {},
   "outputs": [
    {
     "name": "stdout",
     "output_type": "stream",
     "text": [
      "What is the year of your vehicle? 2013\n",
      "What is the make of your vehicle? Ford\n",
      "Your car is a: 2013 Ford\n",
      "Your current speed is: 25 mph\n"
     ]
    }
   ],
   "source": [
    "from car import Car\n",
    "\n",
    "def main():\n",
    "    year = input('What is the year of your vehicle? ')\n",
    "    make = input('What is the make of your vehicle? ')\n",
    "    \n",
    "    speed = 0\n",
    "    \n",
    "    my_car = Car(year, make, speed)\n",
    "    \n",
    "    my_car.accelerate()\n",
    "    my_car.accelerate()\n",
    "    my_car.accelerate()\n",
    "    my_car.accelerate()\n",
    "    my_car.accelerate()    \n",
    "    \n",
    "    print(f'Your car is a: {my_car.get_year_model()} {my_car.get_make()}')\n",
    "    print(f'Your current speed is: {my_car.get_speed()} mph')\n",
    "    \n",
    "\n",
    "\n",
    "\n",
    "\n",
    "if __name__ == '__main__':\n",
    "    main()"
   ]
  },
  {
   "cell_type": "markdown",
   "id": "7d412fd2",
   "metadata": {},
   "source": [
    "# Ok I'm really not sure what's going on here but I'm going to start fresh with just trying to create an object and print the attributes."
   ]
  },
  {
   "cell_type": "code",
   "execution_count": 1,
   "id": "6aafbf01",
   "metadata": {},
   "outputs": [
    {
     "name": "stdout",
     "output_type": "stream",
     "text": [
      "Enter the year of your vehicle: 2013\n",
      "Enter the make of your vehicle: Ford\n",
      "Your car is a 2013 Ford.\n"
     ]
    }
   ],
   "source": [
    "from car import Car\n",
    "\n",
    "def main():\n",
    "    year = input('Enter the year of your vehicle: ')\n",
    "    make = input('Enter the make of your vehicle: ')\n",
    "    \n",
    "    speed = 0 \n",
    "    \n",
    "    my_car = Car(year, make, speed)\n",
    "    \n",
    "    print(f'Your car is a {my_car.get_year_model()} {my_car.get_make()}.')\n",
    "    \n",
    "    \n",
    "    \n",
    "    \n",
    "if __name__ == '__main__':\n",
    "    main()"
   ]
  },
  {
   "cell_type": "markdown",
   "id": "91ee9c1a",
   "metadata": {},
   "source": [
    "# So I typed up the new code, and it worked! The strange part is after I inspected the two cells of code, I noticed they were the same. So I tried to run the code from the cell before, and it worked as well. Weird, but I think I may have too many programs running? I'm not too sure, just happy it works!"
   ]
  },
  {
   "cell_type": "markdown",
   "id": "69b8a752",
   "metadata": {},
   "source": [
    "# Now, I will attempt to finish the assignment with my working code.\n",
    "\n",
    "## Next, design a program that creates a Car object then calls the accelerate method five times. After each call to the accelerate method, get the current speed of the car and display it. Then call the brake method five times. After each call to the brake method, get the current speed of the car and display it."
   ]
  },
  {
   "cell_type": "code",
   "execution_count": 7,
   "id": "247469cf",
   "metadata": {},
   "outputs": [
    {
     "name": "stdout",
     "output_type": "stream",
     "text": [
      "Enter the year of your vehicle: 2013\n",
      "Enter the make of your vehicle: Ford\n",
      "Current speed: 5 mph\n",
      "Current speed: 10 mph\n",
      "Current speed: 15 mph\n",
      "Current speed: 20 mph\n",
      "Current speed: 25 mph\n",
      "Current speed: 20 mph\n",
      "Current speed: 15 mph\n",
      "Current speed: 10 mph\n",
      "Current speed: 5 mph\n",
      "Current speed: 0 mph\n",
      "Your vehicle is a 2013 Ford.\n"
     ]
    }
   ],
   "source": [
    "# import class module from personal library\n",
    "from car import Car\n",
    "\n",
    "# main function gets the user's vehicle year and make\n",
    "# creates a car object and utilizes the class methods\n",
    "# to accelerate, brake, and display attributes of \n",
    "# the vehicle \n",
    "def main():\n",
    "    year = input('Enter the year of your vehicle: ')\n",
    "    make = input('Enter the make of your vehicle: ')\n",
    "    \n",
    "    speed = 0 \n",
    "    \n",
    "    # statement creates the car object with the\n",
    "    # attributes year, make, and speed\n",
    "    my_car = Car(year, make, speed)\n",
    "    \n",
    "    # accelerates the car 5 times\n",
    "    my_car.accelerate()\n",
    "    print(f'Current speed: {my_car.get_speed()} mph')\n",
    "    \n",
    "    my_car.accelerate()\n",
    "    print(f'Current speed: {my_car.get_speed()} mph')\n",
    "    \n",
    "    my_car.accelerate()\n",
    "    print(f'Current speed: {my_car.get_speed()} mph')\n",
    "    \n",
    "    my_car.accelerate()\n",
    "    print(f'Current speed: {my_car.get_speed()} mph')\n",
    "    \n",
    "    my_car.accelerate()\n",
    "    print(f'Current speed: {my_car.get_speed()} mph')\n",
    "    \n",
    "    # brakes the car 5 times\n",
    "    my_car.brake()\n",
    "    print(f'Current speed: {my_car.get_speed()} mph')\n",
    "    \n",
    "    my_car.brake()\n",
    "    print(f'Current speed: {my_car.get_speed()} mph')\n",
    "    \n",
    "    my_car.brake()\n",
    "    print(f'Current speed: {my_car.get_speed()} mph')\n",
    "    \n",
    "    my_car.brake()\n",
    "    print(f'Current speed: {my_car.get_speed()} mph')\n",
    "    \n",
    "    my_car.brake()\n",
    "    print(f'Current speed: {my_car.get_speed()} mph')\n",
    "    \n",
    "    # Displays the vehicle enter via the object's methods \n",
    "    print(f'Your vehicle is a {my_car.get_year_model()} {my_car.get_make()}.')\n",
    "    \n",
    "    \n",
    "    \n",
    "    \n",
    "    \n",
    "    \n",
    "    \n",
    "    \n",
    "    \n",
    "# call to main function \n",
    "if __name__ == '__main__':\n",
    "    main()"
   ]
  },
  {
   "cell_type": "code",
   "execution_count": null,
   "id": "29839a49",
   "metadata": {},
   "outputs": [],
   "source": []
  }
 ],
 "metadata": {
  "kernelspec": {
   "display_name": "Python 3 (ipykernel)",
   "language": "python",
   "name": "python3"
  },
  "language_info": {
   "codemirror_mode": {
    "name": "ipython",
    "version": 3
   },
   "file_extension": ".py",
   "mimetype": "text/x-python",
   "name": "python",
   "nbconvert_exporter": "python",
   "pygments_lexer": "ipython3",
   "version": "3.10.9"
  }
 },
 "nbformat": 4,
 "nbformat_minor": 5
}
