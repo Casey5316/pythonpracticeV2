{
 "cells": [
  {
   "cell_type": "markdown",
   "id": "874c67d7",
   "metadata": {},
   "source": [
    "# Chapter 10 Exercises \n",
    "## Question 1 - Pet Class\n",
    "\n",
    "\n",
    "The Pet class\n",
    "\n",
    "Write a class named Pet, which should have the following data attributes:\n",
    "\n",
    "_ _name (for the name of a pet)\n",
    "\n",
    "_ _animal_type (for the type of animal that a pet is. Example values are ‘Dog’, ‘Cat’, and ‘Bird’)\n",
    "\n",
    "_ _age (for the pet’s age)\n",
    "\n",
    "The Pet class should have an _ _init_ _ method that creates these attributes. It should also have the following methods:\n",
    "\n",
    "set_name\n",
    "\n",
    "This method assigns a value to the _ _name field.\n",
    "\n",
    "set_animal_type\n",
    "\n",
    "This method assigns a value to the _ _animal_type field.\n",
    "\n",
    "set_age\n",
    "\n",
    "This method assigns a value to the _ _age field.\n",
    "\n",
    "get_name\n",
    "\n",
    "This method returns the value of the _ _ name field.\n",
    "\n",
    "get_animal_type\n",
    "\n",
    "This method returns the value of the _ _animal_type field.\n",
    "\n",
    "get_age\n",
    "\n",
    "This method returns the value of the _ _age field.\n",
    "\n",
    "Once you have written the class, write a program that creates an object of the class and prompts the user to enter the name, type, and age of his or her pet. This data should be stored as the object’s attributes. Use the object’s accessor methods to retrieve the pet’s name, type, and age and display this data on the screen."
   ]
  },
  {
   "cell_type": "markdown",
   "id": "ef9fe6df",
   "metadata": {},
   "source": [
    "### My first attempt at importing the class and setting up the code to execute the methods of the class."
   ]
  },
  {
   "cell_type": "code",
   "execution_count": 13,
   "id": "d54c013c",
   "metadata": {},
   "outputs": [
    {
     "ename": "ImportError",
     "evalue": "cannot import name 'Pet' from 'pets' (/Users/caseymiller/Documents/GitHub/pythonpracticeV2/pets.py)",
     "output_type": "error",
     "traceback": [
      "\u001b[0;31m---------------------------------------------------------------------------\u001b[0m",
      "\u001b[0;31mImportError\u001b[0m                               Traceback (most recent call last)",
      "Cell \u001b[0;32mIn[13], line 1\u001b[0m\n\u001b[0;32m----> 1\u001b[0m \u001b[38;5;28;01mfrom\u001b[39;00m \u001b[38;5;21;01mpets\u001b[39;00m \u001b[38;5;28;01mimport\u001b[39;00m Pet\n\u001b[1;32m      3\u001b[0m \u001b[38;5;28;01mdef\u001b[39;00m \u001b[38;5;21mmain\u001b[39m():\n\u001b[1;32m      4\u001b[0m     name \u001b[38;5;241m=\u001b[39m \u001b[38;5;28minput\u001b[39m(\u001b[38;5;124m'\u001b[39m\u001b[38;5;124mWhat is your pet\u001b[39m\u001b[38;5;130;01m\\'\u001b[39;00m\u001b[38;5;124ms name? \u001b[39m\u001b[38;5;124m'\u001b[39m)\n",
      "\u001b[0;31mImportError\u001b[0m: cannot import name 'Pet' from 'pets' (/Users/caseymiller/Documents/GitHub/pythonpracticeV2/pets.py)"
     ]
    }
   ],
   "source": [
    "from pets import Pet\n",
    "\n",
    "def main():\n",
    "    name = input('What is your pet\\'s name? ')\n",
    "    animal_type = input('What type of animal is your pet? ')\n",
    "    age = input('How old is your pet? ')\n",
    "    \n",
    "    pet = Pet(name, animal_type, age)\n",
    "    \n",
    "    print(pet.get_name, pet.get_type, pet.get_age)\n",
    "\n",
    "if __name__ == '__main__':\n",
    "    main()"
   ]
  },
  {
   "cell_type": "code",
   "execution_count": null,
   "id": "17a66236",
   "metadata": {},
   "outputs": [],
   "source": []
  }
 ],
 "metadata": {
  "kernelspec": {
   "display_name": "Python 3 (ipykernel)",
   "language": "python",
   "name": "python3"
  },
  "language_info": {
   "codemirror_mode": {
    "name": "ipython",
    "version": 3
   },
   "file_extension": ".py",
   "mimetype": "text/x-python",
   "name": "python",
   "nbconvert_exporter": "python",
   "pygments_lexer": "ipython3",
   "version": "3.10.9"
  }
 },
 "nbformat": 4,
 "nbformat_minor": 5
}
