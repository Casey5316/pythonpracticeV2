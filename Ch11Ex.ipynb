{
 "cells": [
  {
   "cell_type": "markdown",
   "id": "4e2e6db3",
   "metadata": {},
   "source": [
    "# Question 1 - Employee and ProductionWorker Classes\n",
    "\n",
    "## Write an Employee class that keeps data attributes for the following pieces of information:\n",
    "\n",
    "### Employee name\n",
    "\n",
    "### Employee number\n",
    "\n",
    "## Next, write a class named ProductionWorker that is a subclass of the Employee class. The ProductionWorker class should keep data attributes for the following information:\n",
    "\n",
    "### Shift number (an integer, such as 1, 2, or 3)\n",
    "\n",
    "### Hourly pay rate\n",
    "\n",
    "## The workday is divided into two shifts: day and night. The shift attribute will hold an integer value representing the shift that the employee works. The day shift is shift 1 and the night shift is shift 2. Write the appropriate accessor and mutator methods for each class.\n",
    "\n",
    "## Once you have written the classes, write a program that creates an object of the ProductionWorker class and prompts the user to enter data for each of the object’s data attributes. Store the data in the object, then use the object’s accessor methods to retrieve it and display it on the screen."
   ]
  },
  {
   "cell_type": "markdown",
   "id": "1e561430",
   "metadata": {},
   "source": [
    "### This will serve as my recording section of Chapter 11's coding set\n",
    "\n",
    "### There we have the class Employee and its subclass ProductionWorker, both of which have their own private data attributes and are separate when I call each accessor method "
   ]
  },
  {
   "cell_type": "code",
   "execution_count": 8,
   "id": "6eb8153d",
   "metadata": {},
   "outputs": [
    {
     "name": "stdout",
     "output_type": "stream",
     "text": [
      "Enter employee's name: Casey\n",
      "Enter employee's number: 5567\n",
      "Enter the data for a production worker below\n",
      "\n",
      "Enter production worker's name: Jake\n",
      "Enter production worker's number: 5568\n",
      "Enter '1' for day shift or '2' for night shift below\n",
      "\n",
      "Enter production worker's shift: 1\n",
      "Enter production worker's hourly pay: 22.50\n",
      "\n",
      "    Production worker name: Jake\n",
      "\n",
      "    Production worker number: 5568\n",
      "\n",
      "    Production worker shift: Day\n",
      "\n",
      "    Production worker hourly pay: $22.50\n",
      "\n",
      "Employee name: Casey\n",
      "Employee number: 5567\n"
     ]
    }
   ],
   "source": [
    "# import employees.py which has superclass\n",
    "# Employee with two subclasses ProductionWorker\n",
    "# and ShiftSupervisor\n",
    "import employees \n",
    "\n",
    "# main function gets data to create an object with\n",
    "def main():\n",
    "    # gets data to create employee object\n",
    "    employee_name = input('Enter employee\\'s name: ')\n",
    "    employee_num = int(input('Enter employee\\'s number: '))\n",
    "    \n",
    "    # statement creates an employee instance\n",
    "    employee = employees.Employee(employee_name, employee_num)\n",
    "    \n",
    "    \n",
    "    print('Enter the data for a production worker below\\n')\n",
    "    \n",
    "    # gets data to create production worker object\n",
    "    prod_name = input('Enter production worker\\'s name: ')\n",
    "    prod_number = int(input('Enter production worker\\'s number: '))\n",
    "    print('Enter \\'1\\' for day shift or \\'2\\' for night shift below\\n')\n",
    "    prod_shift = int(input('Enter production worker\\'s shift: ')) \n",
    "    prod_pay = float(input('Enter production worker\\'s hourly pay: '))\n",
    "                   \n",
    "    # statement creates production worker instance\n",
    "    prod_worker = employees.ProductionWorker(prod_name, prod_number, prod_shift, prod_pay)\n",
    "                    \n",
    "    # if statement determines whether day \n",
    "    # or night shift should be displayed\n",
    "    if prod_worker.get_shift() == 1:\n",
    "        shift = 'Day'\n",
    "                           \n",
    "    else:\n",
    "        shift = 'Night'\n",
    "        \n",
    "    # store value in a variable to format\n",
    "    pay = prod_worker.get_pay()\n",
    "    \n",
    "    \n",
    "    # Display data attributes of employee and \n",
    "    # production worker instances \n",
    "    print(f'''\n",
    "    Production worker name: {prod_worker.get_name()}\\n\n",
    "    Production worker number: {prod_worker.get_number()}\\n\n",
    "    Production worker shift: {shift}\\n\n",
    "    Production worker hourly pay: ${pay:,.2f}\\n''')\n",
    "    \n",
    "    \n",
    "    print(f'Employee name: {employee.get_name()}\\nEmployee number: {employee.get_number()}')\n",
    "    \n",
    "    \n",
    "# call to main function     \n",
    "if __name__ == '__main__':\n",
    "    main()"
   ]
  },
  {
   "cell_type": "markdown",
   "id": "bab7f30a",
   "metadata": {},
   "source": [
    "# Question 2 - ShiftSupervisor Class\n",
    "## In a particular factory, a shift supervisor is a salaried employee who supervises a shift. In addition to a salary, the shift supervisor earns a yearly bonus when his or her shift meets production goals. Write a ShiftSupervisor class that is a subclass of the Employee class you created in Programming Exercise 1. The ShiftSupervisor class should keep a data attribute for the annual salary, and a data attribute for the annual production bonus that a shift supervisor has earned. Demonstrate the class by writing a program that uses a ShiftSupervisor object."
   ]
  },
  {
   "cell_type": "markdown",
   "id": "8eae3259",
   "metadata": {},
   "source": [
    "# The above question wants me to add another subclass to the employees module that keeps track of Shift Supervisors annual salary and annual production bonus. \n",
    "\n",
    "# As we see, the subclass is working and creates a ShiftSupervisor object while simultaneously allowing me to call the superclasses methods to get the name and number."
   ]
  },
  {
   "cell_type": "code",
   "execution_count": 1,
   "id": "3041ea97",
   "metadata": {},
   "outputs": [
    {
     "name": "stdout",
     "output_type": "stream",
     "text": [
      "Enter supervisor name: Casey\n",
      "Enter supervisor number: 5567\n",
      "Enter supervisor salary: 75000\n",
      "Enter supervisor bonus: 12000\n",
      "\n",
      "    Supervisor name: Casey\n",
      "    Supervisor number: 5567\n",
      "    Supervisor salary: $75000.0\n",
      "    Supervisor bonus: $12000.0\n"
     ]
    }
   ],
   "source": [
    "# imports class module \n",
    "import employees\n",
    "\n",
    "# main function gets data to create supervisor\n",
    "# object, and displays data attributes using \n",
    "# the object's methods \n",
    "def main():\n",
    "    sup_name = input('Enter supervisor name: ')\n",
    "    sup_number = int(input('Enter supervisor number: '))\n",
    "    sup_salary = float(input('Enter supervisor salary: '))\n",
    "    sup_bonus = float(input('Enter supervisor bonus: '))\n",
    "    \n",
    "    supervisor = employees.ShiftSupervisor(sup_name, sup_number, sup_salary, sup_bonus)\n",
    "    \n",
    "    print(f'''\n",
    "    Supervisor name: {supervisor.get_name()}\n",
    "    Supervisor number: {supervisor.get_number()}\n",
    "    Supervisor salary: ${supervisor.get_salary()}\n",
    "    Supervisor bonus: ${supervisor.get_bonus()}''')\n",
    "\n",
    "\n",
    "\n",
    "# call to main function \n",
    "if __name__ == '__main__':\n",
    "    main()"
   ]
  },
  {
   "cell_type": "code",
   "execution_count": null,
   "id": "adec06a2",
   "metadata": {},
   "outputs": [],
   "source": []
  }
 ],
 "metadata": {
  "kernelspec": {
   "display_name": "Python 3 (ipykernel)",
   "language": "python",
   "name": "python3"
  },
  "language_info": {
   "codemirror_mode": {
    "name": "ipython",
    "version": 3
   },
   "file_extension": ".py",
   "mimetype": "text/x-python",
   "name": "python",
   "nbconvert_exporter": "python",
   "pygments_lexer": "ipython3",
   "version": "3.10.9"
  }
 },
 "nbformat": 4,
 "nbformat_minor": 5
}
