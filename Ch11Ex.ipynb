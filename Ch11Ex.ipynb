{
 "cells": [
  {
   "cell_type": "markdown",
   "id": "99b1faa4",
   "metadata": {},
   "source": [
    "# Question 1 - Employee and ProductionWorker Classes\n",
    "\n",
    "Write an Employee class that keeps data attributes for the following pieces of information:\n",
    "\n",
    "Employee name\n",
    "\n",
    "Employee number\n",
    "\n",
    "Next, write a class named ProductionWorker that is a subclass of the Employee class. The ProductionWorker class should keep data attributes for the following information:\n",
    "\n",
    "Shift number (an integer, such as 1, 2, or 3)\n",
    "\n",
    "Hourly pay rate\n",
    "\n",
    "The workday is divided into two shifts: day and night. The shift attribute will hold an integer value representing the shift that the employee works. The day shift is shift 1 and the night shift is shift 2. Write the appropriate accessor and mutator methods for each class.\n",
    "\n",
    "Once you have written the classes, write a program that creates an object of the ProductionWorker class and prompts the user to enter data for each of the object’s data attributes. Store the data in the object, then use the object’s accessor methods to retrieve it and display it on the screen."
   ]
  },
  {
   "cell_type": "code",
   "execution_count": 5,
   "id": "77a452b5",
   "metadata": {},
   "outputs": [
    {
     "ename": "NameError",
     "evalue": "name 'self' is not defined",
     "output_type": "error",
     "traceback": [
      "\u001b[0;31m---------------------------------------------------------------------------\u001b[0m",
      "\u001b[0;31mNameError\u001b[0m                                 Traceback (most recent call last)",
      "Cell \u001b[0;32mIn[5], line 1\u001b[0m\n\u001b[0;32m----> 1\u001b[0m \u001b[38;5;28;01mimport\u001b[39;00m \u001b[38;5;21;01memployees\u001b[39;00m\n\u001b[1;32m      3\u001b[0m \u001b[38;5;28;01mdef\u001b[39;00m \u001b[38;5;21mmain\u001b[39m():\n\u001b[1;32m      4\u001b[0m     emp_name \u001b[38;5;241m=\u001b[39m \u001b[38;5;28minput\u001b[39m(\u001b[38;5;124m'\u001b[39m\u001b[38;5;124mEnter the employee\u001b[39m\u001b[38;5;130;01m\\'\u001b[39;00m\u001b[38;5;124ms name: \u001b[39m\u001b[38;5;124m'\u001b[39m)\n",
      "File \u001b[0;32m~/Documents/GitHub/pythonpracticeV2/employees.py:1\u001b[0m\n\u001b[0;32m----> 1\u001b[0m \u001b[38;5;28;01mclass\u001b[39;00m \u001b[38;5;21;01mEmployee\u001b[39;00m:\n\u001b[1;32m      2\u001b[0m     \u001b[38;5;28;01mdef\u001b[39;00m \u001b[38;5;21m__init__\u001b[39m(\u001b[38;5;28mself\u001b[39m, employee_name, employee_num):\n\u001b[1;32m      3\u001b[0m         \u001b[38;5;28mself\u001b[39m\u001b[38;5;241m.\u001b[39m__employee_name \u001b[38;5;241m=\u001b[39m name\n",
      "File \u001b[0;32m~/Documents/GitHub/pythonpracticeV2/employees.py:30\u001b[0m, in \u001b[0;36mEmployee\u001b[0;34m()\u001b[0m\n\u001b[1;32m     28\u001b[0m \u001b[38;5;28;01mdef\u001b[39;00m \u001b[38;5;21m__str__\u001b[39m(\u001b[38;5;28mself\u001b[39m):\n\u001b[1;32m     29\u001b[0m     \u001b[38;5;28;01mreturn\u001b[39;00m \u001b[38;5;124mf\u001b[39m\u001b[38;5;124m'\u001b[39m\u001b[38;5;124mEmployee name: \u001b[39m\u001b[38;5;132;01m{\u001b[39;00m\u001b[38;5;28mself\u001b[39m\u001b[38;5;241m.\u001b[39m__employee_name\u001b[38;5;132;01m}\u001b[39;00m\u001b[38;5;124m'\u001b[39m\n\u001b[0;32m---> 30\u001b[0m \u001b[38;5;124mf\u001b[39m\u001b[38;5;124m'\u001b[39m\u001b[38;5;124mEmployee number: \u001b[39m\u001b[38;5;132;01m{\u001b[39;00m\u001b[38;5;28mself\u001b[39m\u001b[38;5;241m.\u001b[39m__employee_num\u001b[38;5;132;01m}\u001b[39;00m\u001b[38;5;124m'\u001b[39m\n",
      "\u001b[0;31mNameError\u001b[0m: name 'self' is not defined"
     ]
    }
   ],
   "source": [
    "import employees\n",
    "\n",
    "def main():\n",
    "    emp_name = input('Enter the employee\\'s name: ')\n",
    "    print()\n",
    "    emp_num = int(input('Enter the employee number: '))\n",
    "    \n",
    "    emp = employees.Employee(emp_name, emp_num)\n",
    "    \n",
    "    print(f'Employee name: {emp.get_name()}')\n",
    "    print(f'Employee number: {emp.get_number()}')\n",
    "\n",
    "\n",
    "\n",
    "\n",
    "\n",
    "if __name__ == '__main__':\n",
    "    main()"
   ]
  },
  {
   "cell_type": "code",
   "execution_count": 1,
   "id": "7db72e7c",
   "metadata": {},
   "outputs": [
    {
     "name": "stdout",
     "output_type": "stream",
     "text": [
      "Enter the employee's name: Casey\n",
      "\n",
      "Enter the employee number: 5567\n",
      "Employee name: Casey\n",
      "Employee number: 5567\n",
      "\n",
      "Enter the data for a production worker below\n",
      "\n",
      "Enter the production worker's name: Kyle\n",
      "\n",
      "Enter the production worker's number: 5568\n",
      "\n",
      "Enter '1' for day shift or '2' for night shift below\n",
      "\n",
      "Enter production worker's shift: 1\n",
      "\n",
      "Enter the production worker's hourly wage: 27.50\n"
     ]
    },
    {
     "ename": "NameError",
     "evalue": "name 'ProductionWorker' is not defined",
     "output_type": "error",
     "traceback": [
      "\u001b[0;31m---------------------------------------------------------------------------\u001b[0m",
      "\u001b[0;31mNameError\u001b[0m                                 Traceback (most recent call last)",
      "Cell \u001b[0;32mIn[1], line 43\u001b[0m\n\u001b[1;32m     31\u001b[0m     \u001b[38;5;28mprint\u001b[39m(\u001b[38;5;124mf\u001b[39m\u001b[38;5;124m'\u001b[39m\u001b[38;5;124mProduction worker name: \u001b[39m\u001b[38;5;132;01m{\u001b[39;00mProd_worker\u001b[38;5;241m.\u001b[39mget_name()\u001b[38;5;132;01m}\u001b[39;00m\u001b[38;5;130;01m\\n\u001b[39;00m\u001b[38;5;124mProduction worker number: \u001b[39m\u001b[38;5;124m'\u001b[39m\n\u001b[1;32m     32\u001b[0m           \u001b[38;5;241m+\u001b[39m \u001b[38;5;124mf\u001b[39m\u001b[38;5;124m'\u001b[39m\u001b[38;5;132;01m{\u001b[39;00mProd_worker\u001b[38;5;241m.\u001b[39mget_number()\u001b[38;5;132;01m}\u001b[39;00m\u001b[38;5;130;01m\\n\u001b[39;00m\u001b[38;5;124mProduction worker shift: \u001b[39m\u001b[38;5;132;01m{\u001b[39;00mProd_worker\u001b[38;5;241m.\u001b[39mget_shift()\u001b[38;5;132;01m}\u001b[39;00m\u001b[38;5;130;01m\\n\u001b[39;00m\u001b[38;5;124m'\u001b[39m\n\u001b[1;32m     33\u001b[0m          \u001b[38;5;241m+\u001b[39m \u001b[38;5;124mf\u001b[39m\u001b[38;5;124m'\u001b[39m\u001b[38;5;124mProduction worker wage: \u001b[39m\u001b[38;5;132;01m{\u001b[39;00mProd_worker\u001b[38;5;241m.\u001b[39mget_wage()\u001b[38;5;132;01m:\u001b[39;00m\u001b[38;5;124m,2f\u001b[39m\u001b[38;5;132;01m}\u001b[39;00m\u001b[38;5;124m'\u001b[39m)\n\u001b[1;32m     42\u001b[0m \u001b[38;5;28;01mif\u001b[39;00m \u001b[38;5;18m__name__\u001b[39m \u001b[38;5;241m==\u001b[39m \u001b[38;5;124m'\u001b[39m\u001b[38;5;124m__main__\u001b[39m\u001b[38;5;124m'\u001b[39m:\n\u001b[0;32m---> 43\u001b[0m     \u001b[43mmain\u001b[49m\u001b[43m(\u001b[49m\u001b[43m)\u001b[49m\n",
      "Cell \u001b[0;32mIn[1], line 27\u001b[0m, in \u001b[0;36mmain\u001b[0;34m()\u001b[0m\n\u001b[1;32m     23\u001b[0m \u001b[38;5;28mprint\u001b[39m()\n\u001b[1;32m     24\u001b[0m worker_wage \u001b[38;5;241m=\u001b[39m \u001b[38;5;28mfloat\u001b[39m(\u001b[38;5;28minput\u001b[39m(\u001b[38;5;124m'\u001b[39m\u001b[38;5;124mEnter the production worker\u001b[39m\u001b[38;5;130;01m\\'\u001b[39;00m\u001b[38;5;124ms hourly wage: \u001b[39m\u001b[38;5;124m'\u001b[39m))\n\u001b[0;32m---> 27\u001b[0m Prod_worker \u001b[38;5;241m=\u001b[39m \u001b[43mProductionWorker\u001b[49m(worker_name, worker_num, worker_shift, worker_wage)\n\u001b[1;32m     29\u001b[0m \u001b[38;5;28mprint\u001b[39m(\u001b[38;5;124mf\u001b[39m\u001b[38;5;124m'\u001b[39m\u001b[38;5;124mEmployee name: \u001b[39m\u001b[38;5;132;01m{\u001b[39;00memp\u001b[38;5;241m.\u001b[39mget_name()\u001b[38;5;132;01m}\u001b[39;00m\u001b[38;5;130;01m\\n\u001b[39;00m\u001b[38;5;124mEmployee number: \u001b[39m\u001b[38;5;132;01m{\u001b[39;00memp\u001b[38;5;241m.\u001b[39mget_number()\u001b[38;5;132;01m}\u001b[39;00m\u001b[38;5;124m'\u001b[39m)\n\u001b[1;32m     31\u001b[0m \u001b[38;5;28mprint\u001b[39m(\u001b[38;5;124mf\u001b[39m\u001b[38;5;124m'\u001b[39m\u001b[38;5;124mProduction worker name: \u001b[39m\u001b[38;5;132;01m{\u001b[39;00mProd_worker\u001b[38;5;241m.\u001b[39mget_name()\u001b[38;5;132;01m}\u001b[39;00m\u001b[38;5;130;01m\\n\u001b[39;00m\u001b[38;5;124mProduction worker number: \u001b[39m\u001b[38;5;124m'\u001b[39m\n\u001b[1;32m     32\u001b[0m       \u001b[38;5;241m+\u001b[39m \u001b[38;5;124mf\u001b[39m\u001b[38;5;124m'\u001b[39m\u001b[38;5;132;01m{\u001b[39;00mProd_worker\u001b[38;5;241m.\u001b[39mget_number()\u001b[38;5;132;01m}\u001b[39;00m\u001b[38;5;130;01m\\n\u001b[39;00m\u001b[38;5;124mProduction worker shift: \u001b[39m\u001b[38;5;132;01m{\u001b[39;00mProd_worker\u001b[38;5;241m.\u001b[39mget_shift()\u001b[38;5;132;01m}\u001b[39;00m\u001b[38;5;130;01m\\n\u001b[39;00m\u001b[38;5;124m'\u001b[39m\n\u001b[1;32m     33\u001b[0m      \u001b[38;5;241m+\u001b[39m \u001b[38;5;124mf\u001b[39m\u001b[38;5;124m'\u001b[39m\u001b[38;5;124mProduction worker wage: \u001b[39m\u001b[38;5;132;01m{\u001b[39;00mProd_worker\u001b[38;5;241m.\u001b[39mget_wage()\u001b[38;5;132;01m:\u001b[39;00m\u001b[38;5;124m,2f\u001b[39m\u001b[38;5;132;01m}\u001b[39;00m\u001b[38;5;124m'\u001b[39m)\n",
      "\u001b[0;31mNameError\u001b[0m: name 'ProductionWorker' is not defined"
     ]
    }
   ],
   "source": [
    "import employees\n",
    "\n",
    "def main():\n",
    "    emp_name = input('Enter the employee\\'s name: ')\n",
    "    print()\n",
    "    emp_num = int(input('Enter the employee number: '))\n",
    "    \n",
    "    emp = employees.Employee(emp_name, emp_num)\n",
    "    \n",
    "    print(f'Employee name: {emp.get_name()}')\n",
    "    print(f'Employee number: {emp.get_number()}')\n",
    "    \n",
    "    print()\n",
    "    \n",
    "    print('Enter the data for a production worker below\\n')\n",
    "    \n",
    "    emp_name = input('Enter the production worker\\'s name: ')\n",
    "    print()\n",
    "    emp_num = int(input('Enter the production worker\\'s number: '))\n",
    "    print()\n",
    "    print('Enter \\'1\\' for day shift or \\'2\\' for night shift below\\n')\n",
    "    worker_shift = int(input('Enter production worker\\'s shift: '))\n",
    "    print()\n",
    "    worker_wage = float(input('Enter the production worker\\'s hourly wage: '))\n",
    "                             \n",
    "                             \n",
    "    Prod_worker = ProductionWorker(worker_name, worker_num, worker_shift, worker_wage)\n",
    "    \n",
    "    print(f'Employee name: {emp.get_name()}\\nEmployee number: {emp.get_number()}')\n",
    "    \n",
    "    print(f'Production worker name: {Prod_worker.get_name()}\\nProduction worker number: '\n",
    "          + f'{Prod_worker.get_number()}\\nProduction worker shift: {Prod_worker.get_shift()}\\n'\n",
    "         + f'Production worker wage: {Prod_worker.get_wage():,2f}')\n",
    "                             \n",
    "    \n",
    "                             \n",
    "\n",
    "\n",
    "\n",
    "\n",
    "\n",
    "if __name__ == '__main__':\n",
    "    main()"
   ]
  },
  {
   "cell_type": "code",
   "execution_count": null,
   "id": "f2a7d99b",
   "metadata": {},
   "outputs": [],
   "source": []
  }
 ],
 "metadata": {
  "kernelspec": {
   "display_name": "Python 3 (ipykernel)",
   "language": "python",
   "name": "python3"
  },
  "language_info": {
   "codemirror_mode": {
    "name": "ipython",
    "version": 3
   },
   "file_extension": ".py",
   "mimetype": "text/x-python",
   "name": "python",
   "nbconvert_exporter": "python",
   "pygments_lexer": "ipython3",
   "version": "3.10.9"
  }
 },
 "nbformat": 4,
 "nbformat_minor": 5
}
