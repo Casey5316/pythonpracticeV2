{
 "cells": [
  {
   "cell_type": "markdown",
   "id": "534c63ab",
   "metadata": {},
   "source": [
    "## Chapter 9 Notes/Play around \n",
    "Dictionary syntax below for reference"
   ]
  },
  {
   "cell_type": "code",
   "execution_count": 1,
   "id": "840ea88f",
   "metadata": {},
   "outputs": [
    {
     "name": "stdout",
     "output_type": "stream",
     "text": [
      "35.00\n"
     ]
    }
   ],
   "source": [
    "employee_pay_rates = {'Servando':'27.50', 'Casey':'24.50', 'Nick':'28.00', 'Jesse':'35.00'}\n",
    "\n",
    "if 'Jesse' in employee_pay_rates:\n",
    "    print(employee_pay_rates['Jesse'])\n",
    "    "
   ]
  },
  {
   "cell_type": "markdown",
   "id": "eb40b273",
   "metadata": {},
   "source": [
    "### Adding a value to an existing dictionary"
   ]
  },
  {
   "cell_type": "code",
   "execution_count": 2,
   "id": "87eaf35e",
   "metadata": {},
   "outputs": [
    {
     "name": "stdout",
     "output_type": "stream",
     "text": [
      "{'Servando': '27.50', 'Casey': '24.50', 'Nick': '28.00', 'Jesse': '35.00', 'Jake': '25.00'}\n"
     ]
    }
   ],
   "source": [
    "employee_pay_rates = {'Servando':'27.50', 'Casey':'24.50', 'Nick':'28.00', 'Jesse':'35.00'}\n",
    "\n",
    "employee_pay_rates['Jake'] = '25.00'\n",
    "\n",
    "print(employee_pay_rates)"
   ]
  },
  {
   "cell_type": "markdown",
   "id": "06cbfe8d",
   "metadata": {},
   "source": [
    "### Del statement to delete a value from the dictionary"
   ]
  },
  {
   "cell_type": "code",
   "execution_count": 6,
   "id": "8ece5926",
   "metadata": {},
   "outputs": [
    {
     "name": "stdout",
     "output_type": "stream",
     "text": [
      "{'Servando': '27.50', 'Nick': '28.00', 'Jesse': '35.00'}\n"
     ]
    }
   ],
   "source": [
    "employee_pay_rates = {'Servando':'27.50', 'Casey':'24.50', 'Nick':'28.00', 'Jesse':'35.00'}\n",
    "\n",
    "del employee_pay_rates['Casey']\n",
    "\n",
    "print(employee_pay_rates)"
   ]
  },
  {
   "cell_type": "markdown",
   "id": "994183b7",
   "metadata": {},
   "source": [
    "### Iterating over each element using a for loop and using get method to retrieve the specific value associated with the element. Tested the .items() method to display all keys and values in the dictionary"
   ]
  },
  {
   "cell_type": "code",
   "execution_count": 16,
   "id": "ccfe6cbf",
   "metadata": {},
   "outputs": [
    {
     "name": "stdout",
     "output_type": "stream",
     "text": [
      "{'Servando': '27.50', 'Casey': '24.50', 'Nick': '28.00', 'Jesse': '35.00', 'Logan': '0.00'}\n",
      "Servando\n",
      "27.50\n",
      "\n",
      "Casey\n",
      "24.50\n",
      "\n",
      "Nick\n",
      "28.00\n",
      "\n",
      "Jesse\n",
      "35.00\n",
      "\n",
      "Logan\n",
      "0.00\n",
      "\n",
      "\n",
      "dict_items([('Servando', '27.50'), ('Casey', '24.50'), ('Nick', '28.00'), ('Jesse', '35.00'), ('Logan', '0.00')])\n"
     ]
    }
   ],
   "source": [
    "employee_pay_rates = {'Servando':'27.50', 'Casey':'24.50', 'Nick':'28.00', 'Jesse':'35.00'}\n",
    "\n",
    "employee_pay_rates['Logan'] = '0.00'\n",
    "\n",
    "print(employee_pay_rates)\n",
    "\n",
    "for element in employee_pay_rates:\n",
    "    print(element)\n",
    "    print(employee_pay_rates.get(element, 'Entry not found'))\n",
    "    print()\n",
    "    \n",
    "print()\n",
    "rates_and_names = employee_pay_rates.items()\n",
    "\n",
    "\n",
    "print(rates_and_names)"
   ]
  },
  {
   "cell_type": "markdown",
   "id": "e5e6774c",
   "metadata": {},
   "source": [
    "### Tested the .keys() and .values() methods to return all keys and all values from a dictionary"
   ]
  },
  {
   "cell_type": "code",
   "execution_count": 18,
   "id": "c1472d5d",
   "metadata": {},
   "outputs": [
    {
     "name": "stdout",
     "output_type": "stream",
     "text": [
      "dict_keys(['Servando', 'Casey', 'Nick', 'Jesse'])\n",
      "dict_values(['27.50', '24.50', '28.00', '35.00'])\n"
     ]
    }
   ],
   "source": [
    "employee_pay_rates = {'Servando':'27.50', 'Casey':'24.50', 'Nick':'28.00', 'Jesse':'35.00'}\n",
    "\n",
    "print(employee_pay_rates.keys())\n",
    "print(employee_pay_rates.values())"
   ]
  },
  {
   "cell_type": "markdown",
   "id": "a1394cd1",
   "metadata": {},
   "source": [
    "### New employee got added and fired so I used .pop() method to remove employee info from dictionary"
   ]
  },
  {
   "cell_type": "code",
   "execution_count": 24,
   "id": "56f0e94e",
   "metadata": {},
   "outputs": [
    {
     "name": "stdout",
     "output_type": "stream",
     "text": [
      "{'Servando': '27.50', 'Casey': '24.50', 'Nick': '28.00', 'Jesse': '35.00', 'Monke': '57.00'}\n",
      "{'Servando': '27.50', 'Casey': '24.50', 'Nick': '28.00', 'Jesse': '35.00'}\n"
     ]
    }
   ],
   "source": [
    "employee_pay_rates = {'Servando':'27.50', 'Casey':'24.50', 'Nick':'28.00', 'Jesse':'35.00'}\n",
    "\n",
    "employee_pay_rates['Monke'] = '57.00'\n",
    "\n",
    "print(employee_pay_rates)\n",
    "\n",
    "employee_pay_rates.pop('Monke', 'Search found no results')\n",
    "\n",
    "print(employee_pay_rates)"
   ]
  },
  {
   "cell_type": "markdown",
   "id": "86346c33",
   "metadata": {},
   "source": [
    "### The popitem method performs two actions: (1) It removes the key-value pair that was last added to the dictionary, and (2) it returns that key-value pair as a tuple. "
   ]
  },
  {
   "cell_type": "code",
   "execution_count": 25,
   "id": "bbade6fa",
   "metadata": {},
   "outputs": [
    {
     "name": "stdout",
     "output_type": "stream",
     "text": [
      "Jesse 35.00\n"
     ]
    }
   ],
   "source": [
    "employee_pay_rates = {'Servando':'27.50', 'Casey':'24.50', 'Nick':'28.00', 'Jesse':'35.00'}\n",
    "\n",
    "key, value = employee_pay_rates.popitem()\n",
    "\n",
    "print(key, value)"
   ]
  },
  {
   "cell_type": "markdown",
   "id": "e76d73e2",
   "metadata": {},
   "source": [
    "### In this section, we look at a program that keeps your friends’ names and birthdays in a dictionary. Each entry in the dictionary uses a friend’s name as the key, and that friend’s birthday as the value. You can use the program to look up your friends’ birthdays by entering their names.\n",
    "\n",
    "The program displays a menu that allows the user to make one of the following choices:\n",
    "\n",
    "Look up a birthday\n",
    "\n",
    "Add a new birthday\n",
    "\n",
    "Change a birthday\n",
    "\n",
    "Delete a birthday\n",
    "\n",
    "Quit the program\n",
    "\n"
   ]
  },
  {
   "cell_type": "code",
   "execution_count": null,
   "id": "7f7a91ad",
   "metadata": {},
   "outputs": [],
   "source": [
    "def main():\n",
    "    birthdays = {}\n",
    "    \n",
    "    another = input('Enter \\'y\\' to save a name and birthday'\n",
    "                   + 'or press \\'n\\' to exit: )\n",
    "    \n",
    "    user_k, user_v = input('Enter the name and birthday to be saved: ')\n",
    "    \n",
    "    while another.upper() == 'Y':\n",
    "        \n",
    "    \n",
    "    \n",
    "    \n",
    "    \n",
    "def add_del_bday(our_dict):\n",
    "    \n",
    "    \n",
    "    \n",
    "    \n",
    "    \n",
    "def change_bday(our_dict):\n",
    "    \n",
    "    \n",
    "    \n",
    "    \n",
    "    \n",
    "def search_bday(our_dict):\n",
    "    \n",
    "    \n",
    "    \n",
    "    \n",
    "    \n",
    "def add_bday(our_dict):\n",
    "    \n",
    "    \n",
    "    \n",
    "    \n",
    "    \n",
    "\n",
    "\n",
    "\n",
    "\n",
    "if __name__ =='__main__':\n",
    "    main()"
   ]
  },
  {
   "cell_type": "markdown",
   "id": "96f2004f",
   "metadata": {},
   "source": [
    "## Skipped a little bit of notes because of reading from the truck... On to sets! \n",
    "\n",
    "## Create a set using set(). To refer to individual elements of the set (as the strings pictured below), set must have individual strings as a list or any other iterable object. \n",
    "\n",
    "## Sets also cannot have the same element. The second line of code will reference the set 'a' 'b' and 'c' rather than aaabc\n",
    "\n",
    "## len function also works with sets"
   ]
  },
  {
   "cell_type": "code",
   "execution_count": 27,
   "id": "5f3a3705",
   "metadata": {},
   "outputs": [
    {
     "name": "stdout",
     "output_type": "stream",
     "text": [
      "{'a', 'b', 'c'}\n",
      "{'a', 'b', 'c'}\n",
      "3 3\n"
     ]
    }
   ],
   "source": [
    "my_set = set(['a', 'b', 'c'])\n",
    "other_set = set('aabc')\n",
    "\n",
    "print(my_set)\n",
    "print(other_set)\n",
    "print(len(my_set), len(other_set))"
   ]
  },
  {
   "cell_type": "markdown",
   "id": "dfeaed45",
   "metadata": {},
   "source": [
    "## Use .add() to add elements to the set\n",
    "\n",
    "## Use .update() to add multiple elements to the set. Must be iterable objects\n",
    "\n",
    "## Use .discard() or .remove() (.remove raises an exception when object not found)"
   ]
  },
  {
   "cell_type": "code",
   "execution_count": 31,
   "id": "3f270791",
   "metadata": {},
   "outputs": [
    {
     "name": "stdout",
     "output_type": "stream",
     "text": [
      "{1, 2, 3, 4, 5, 6, 10, 12, 13, 14, 15}\n"
     ]
    }
   ],
   "source": [
    "my_set = set()\n",
    "\n",
    "my_set.add(5)\n",
    "my_set.add(4)\n",
    "my_set.add(3)\n",
    "my_set.add(2)\n",
    "my_set.add(1)\n",
    "\n",
    "my_set.update([4, 5, 6])\n",
    "\n",
    "my_set.update([10, 11, 12, 13, 14, 15])\n",
    "\n",
    "my_set.remove(11)\n",
    "\n",
    "my_set.discard(23)\n",
    "\n",
    "print(my_set)"
   ]
  },
  {
   "cell_type": "markdown",
   "id": "a9ff49d6",
   "metadata": {},
   "source": [
    "## .clear() method clears the elements of a set. Interpreter returns set() to show empty set"
   ]
  },
  {
   "cell_type": "code",
   "execution_count": 33,
   "id": "9a6bb496",
   "metadata": {},
   "outputs": [
    {
     "name": "stdout",
     "output_type": "stream",
     "text": [
      "set()\n"
     ]
    }
   ],
   "source": [
    "my_set = set([22, 33, 44, 55, 66, 77])\n",
    "\n",
    "my_set.clear()\n",
    "\n",
    "print(my_set)"
   ]
  },
  {
   "cell_type": "markdown",
   "id": "a9d24763",
   "metadata": {},
   "source": [
    "## For loops/in and not in\n",
    "\n",
    "## Union of two sets (combining all elements of both sets into another set). Another way to do this is with the | operator. \n",
    "\n",
    "## .intersection() method returns the elements that are found in both lists. Another way to do this is with the & operator. "
   ]
  },
  {
   "cell_type": "code",
   "execution_count": 1,
   "id": "8c298ec1",
   "metadata": {},
   "outputs": [
    {
     "name": "stdout",
     "output_type": "stream",
     "text": [
      "32\n",
      "33\n",
      "236\n",
      "77\n",
      "14\n",
      "93\n"
     ]
    }
   ],
   "source": [
    "my_set = set([14, 236, 33, 93, 77, 32])\n",
    "\n",
    "for value in my_set:\n",
    "    print(value)\n",
    "    \n",
    "    "
   ]
  },
  {
   "cell_type": "code",
   "execution_count": 2,
   "id": "9421f72b",
   "metadata": {},
   "outputs": [
    {
     "name": "stdout",
     "output_type": "stream",
     "text": [
      "Enter a number to find in the set: 27\n",
      "Number 27 is in the set.\n"
     ]
    }
   ],
   "source": [
    "my_set = set([35, 27, 91, 48, 29])\n",
    "\n",
    "number = int(input('Enter a number to find in the set: '))\n",
    "\n",
    "if number in my_set:\n",
    "    print(f'Number {number} is in the set.')\n",
    "    \n",
    "else:\n",
    "    print('Number not found.')"
   ]
  },
  {
   "cell_type": "code",
   "execution_count": 5,
   "id": "5225e72e",
   "metadata": {},
   "outputs": [
    {
     "name": "stdout",
     "output_type": "stream",
     "text": [
      "{1, 2, 3, 4, 5, 6, 7, 8, 9, 10}\n",
      "{1, 2, 3, 4, 5, 6, 7, 8, 9, 10}\n"
     ]
    }
   ],
   "source": [
    "set1 = set([1, 2, 3, 4, 5])\n",
    "\n",
    "set2 = set([6, 7, 8, 9, 10])\n",
    "\n",
    "set3 = set1.union(set2)\n",
    "\n",
    "set4 = set1 | set2\n",
    "\n",
    "print(set3)\n",
    "print(set4)"
   ]
  },
  {
   "cell_type": "code",
   "execution_count": 7,
   "id": "dbf9149a",
   "metadata": {},
   "outputs": [
    {
     "name": "stdout",
     "output_type": "stream",
     "text": [
      "{3, 4, 5}\n",
      "{3, 4, 5}\n"
     ]
    }
   ],
   "source": [
    "set1 = set([1, 2, 3, 4, 5])\n",
    "\n",
    "set2 = set([3, 4, 5, 6, 7])\n",
    "\n",
    "print(set1.intersection(set2))\n",
    "print(set1 & set2)"
   ]
  },
  {
   "cell_type": "markdown",
   "id": "4b496a99",
   "metadata": {},
   "source": [
    "## The difference of set1 and set2 is the elements that appear in set1 but do not appear in set2. In Python, you can call the difference method to get the difference of two sets. Can also be done with the - operator.\n",
    "\n",
    "## Symmetric difference gets the numbers that are in each set, but not in both. Also can use the ^ operator to do this. "
   ]
  },
  {
   "cell_type": "code",
   "execution_count": 9,
   "id": "a1fa48e7",
   "metadata": {},
   "outputs": [
    {
     "name": "stdout",
     "output_type": "stream",
     "text": [
      "{1, 2, 3}\n",
      "{1, 2, 3}\n"
     ]
    }
   ],
   "source": [
    "set1 = set([1, 2, 3, 4, 5])\n",
    "\n",
    "set2 = set([4, 5, 6, 7, 8])\n",
    "\n",
    "print(set1 - set2)\n",
    "\n",
    "print(set1.difference(set2))"
   ]
  },
  {
   "cell_type": "code",
   "execution_count": 11,
   "id": "dcea38af",
   "metadata": {},
   "outputs": [
    {
     "name": "stdout",
     "output_type": "stream",
     "text": [
      "{1, 2, 5, 6}\n",
      "{1, 2, 5, 6}\n"
     ]
    }
   ],
   "source": [
    "set1 = set([1, 2, 3, 4])\n",
    "\n",
    "set2 = set([3, 4, 5, 6])\n",
    "\n",
    "print(set1 ^ set2)\n",
    "\n",
    "print(set1.symmetric_difference(set2))"
   ]
  },
  {
   "cell_type": "markdown",
   "id": "feb44f8d",
   "metadata": {},
   "source": [
    "## If all the elements in one set are present in another set, that set is a subset of the bigger set. The set containing each element is the superset. Use the issubset() method to determine if set is a subset. Same with issuperset()\n",
    "\n",
    "## You can also use the <= operator to determine whether one set is a subset of another and the >= operator to determine whether one set is a superset of another."
   ]
  },
  {
   "cell_type": "code",
   "execution_count": 19,
   "id": "63f0f44f",
   "metadata": {},
   "outputs": [
    {
     "name": "stdout",
     "output_type": "stream",
     "text": [
      "True\n",
      "True\n",
      "True\n",
      "True\n"
     ]
    }
   ],
   "source": [
    "set1 = set([1, 2, 3, 4])\n",
    "\n",
    "set2 = set([2, 3])\n",
    "\n",
    "print(set2.issubset(set1))\n",
    "print(set1.issuperset(set2))\n",
    "\n",
    "print(set2 <= set1)\n",
    "print(set1 >= set2)"
   ]
  },
  {
   "cell_type": "markdown",
   "id": "ae495043",
   "metadata": {},
   "source": [
    "## Serializing objects to save them to a file\n",
    "\n",
    "## Sometimes you need to save a complex piece of data to a file such as a dictionary or set. In order to do this it must be serialized or pickled\n",
    "\n",
    "## To pickle the data you must import the pickle modules dump method. Then open a file in .dat to save binary. dump method format = pickle.dump(object, file)"
   ]
  },
  {
   "cell_type": "code",
   "execution_count": null,
   "id": "988b75ab",
   "metadata": {},
   "outputs": [],
   "source": [
    "import pickle \n",
    "\n",
    "with open('mydata.dat', 'wb') as output_file:\n",
    "    numb"
   ]
  },
  {
   "cell_type": "code",
   "execution_count": 21,
   "id": "4b64293a",
   "metadata": {},
   "outputs": [
    {
     "name": "stdout",
     "output_type": "stream",
     "text": [
      "Enter a class to add: CS104\n",
      "Enter the classroom number: 4932\n",
      "{'CS101': '3004', 'CS102': '4501', 'CS103': '6755', 'NT110': '1244', 'CM241': '1411', 'CS104': '4932'}\n"
     ]
    }
   ],
   "source": [
    "room_numbers = {'CS101': '3004', 'CS102': '4501', 'CS103': '6755', 'NT110': '1244', 'CM241': '1411'}\n",
    "\n",
    "added_class = input('Enter a class to add: ')\n",
    "\n",
    "added_room_no = input('Enter the classroom number: ')\n",
    "\n",
    "room_numbers[added_class] = added_room_no\n",
    "\n",
    "print(room_numbers)"
   ]
  },
  {
   "cell_type": "code",
   "execution_count": 34,
   "id": "d5d6ff1a",
   "metadata": {
    "scrolled": true
   },
   "outputs": [
    {
     "ename": "NameError",
     "evalue": "name 'null' is not defined",
     "output_type": "error",
     "traceback": [
      "\u001b[0;31m---------------------------------------------------------------------------\u001b[0m",
      "\u001b[0;31mNameError\u001b[0m                                 Traceback (most recent call last)",
      "Cell \u001b[0;32mIn[34], line 1\u001b[0m\n\u001b[0;32m----> 1\u001b[0m \u001b[38;5;28;01mfrom\u001b[39;00m \u001b[38;5;21;01mClassAdderMod\u001b[39;00m \u001b[38;5;28;01mimport\u001b[39;00m class_adder\n\u001b[1;32m      3\u001b[0m \u001b[38;5;66;03m# main function gets the course number from user and passes the course\u001b[39;00m\n\u001b[1;32m      4\u001b[0m \u001b[38;5;66;03m# number to three functions to get the room number, teacher, and start time\u001b[39;00m\n\u001b[1;32m      5\u001b[0m \u001b[38;5;66;03m# for the course entered, then displays all of the data.\u001b[39;00m\n\u001b[1;32m      6\u001b[0m \u001b[38;5;28;01mdef\u001b[39;00m \u001b[38;5;21mmain\u001b[39m():    \n",
      "File \u001b[0;32m~/Documents/GitHub/pythonpracticeV2/ClassAdderMod.py:5\u001b[0m\n\u001b[1;32m      1\u001b[0m {\n\u001b[1;32m      2\u001b[0m  \u001b[38;5;124m\"\u001b[39m\u001b[38;5;124mcells\u001b[39m\u001b[38;5;124m\"\u001b[39m: [\n\u001b[1;32m      3\u001b[0m   {\n\u001b[1;32m      4\u001b[0m    \u001b[38;5;124m\"\u001b[39m\u001b[38;5;124mcell_type\u001b[39m\u001b[38;5;124m\"\u001b[39m: \u001b[38;5;124m\"\u001b[39m\u001b[38;5;124mcode\u001b[39m\u001b[38;5;124m\"\u001b[39m,\n\u001b[0;32m----> 5\u001b[0m    \u001b[38;5;124m\"\u001b[39m\u001b[38;5;124mexecution_count\u001b[39m\u001b[38;5;124m\"\u001b[39m: \u001b[43mnull\u001b[49m,\n\u001b[1;32m      6\u001b[0m    \u001b[38;5;124m\"\u001b[39m\u001b[38;5;124mid\u001b[39m\u001b[38;5;124m\"\u001b[39m: \u001b[38;5;124m\"\u001b[39m\u001b[38;5;124m076b1540\u001b[39m\u001b[38;5;124m\"\u001b[39m,\n\u001b[1;32m      7\u001b[0m    \u001b[38;5;124m\"\u001b[39m\u001b[38;5;124mmetadata\u001b[39m\u001b[38;5;124m\"\u001b[39m: {},\n\u001b[1;32m      8\u001b[0m    \u001b[38;5;124m\"\u001b[39m\u001b[38;5;124moutputs\u001b[39m\u001b[38;5;124m\"\u001b[39m: [],\n\u001b[1;32m      9\u001b[0m    \u001b[38;5;124m\"\u001b[39m\u001b[38;5;124msource\u001b[39m\u001b[38;5;124m\"\u001b[39m: [\n\u001b[1;32m     10\u001b[0m     \u001b[38;5;124m\"\u001b[39m\u001b[38;5;124mdef class_adder(course_no):\u001b[39m\u001b[38;5;130;01m\\n\u001b[39;00m\u001b[38;5;124m\"\u001b[39m,\n\u001b[1;32m     11\u001b[0m     \u001b[38;5;124m\"\u001b[39m\u001b[38;5;124m    your_rooms = \u001b[39m\u001b[38;5;132;01m{}\u001b[39;00m\u001b[38;5;130;01m\\n\u001b[39;00m\u001b[38;5;124m\"\u001b[39m,\n\u001b[1;32m     12\u001b[0m     \u001b[38;5;124m\"\u001b[39m\u001b[38;5;124m    your_teach = \u001b[39m\u001b[38;5;132;01m{}\u001b[39;00m\u001b[38;5;130;01m\\n\u001b[39;00m\u001b[38;5;124m\"\u001b[39m,\n\u001b[1;32m     13\u001b[0m     \u001b[38;5;124m\"\u001b[39m\u001b[38;5;124m    your_start = \u001b[39m\u001b[38;5;132;01m{}\u001b[39;00m\u001b[38;5;130;01m\\n\u001b[39;00m\u001b[38;5;124m\"\u001b[39m,\n\u001b[1;32m     14\u001b[0m     \u001b[38;5;124m\"\u001b[39m\u001b[38;5;124m    \u001b[39m\u001b[38;5;130;01m\\n\u001b[39;00m\u001b[38;5;124m\"\u001b[39m,\n\u001b[1;32m     15\u001b[0m     \u001b[38;5;124m\"\u001b[39m\u001b[38;5;124m    room = input(\u001b[39m\u001b[38;5;124m'\u001b[39m\u001b[38;5;124mEnter the room number: \u001b[39m\u001b[38;5;124m'\u001b[39m\u001b[38;5;124m)\u001b[39m\u001b[38;5;130;01m\\n\u001b[39;00m\u001b[38;5;124m\"\u001b[39m,\n\u001b[1;32m     16\u001b[0m     \u001b[38;5;124m\"\u001b[39m\u001b[38;5;124m    teacher = input(\u001b[39m\u001b[38;5;124m'\u001b[39m\u001b[38;5;124mEnter the teacher\u001b[39m\u001b[38;5;130;01m\\\\\u001b[39;00m\u001b[38;5;124m'\u001b[39m\u001b[38;5;124ms name: \u001b[39m\u001b[38;5;124m'\u001b[39m\u001b[38;5;124m)\u001b[39m\u001b[38;5;130;01m\\n\u001b[39;00m\u001b[38;5;124m\"\u001b[39m,\n\u001b[1;32m     17\u001b[0m     \u001b[38;5;124m\"\u001b[39m\u001b[38;5;124m    start = input(\u001b[39m\u001b[38;5;124m'\u001b[39m\u001b[38;5;124mEnter the start time of the class: \u001b[39m\u001b[38;5;124m'\u001b[39m\u001b[38;5;124m)\u001b[39m\u001b[38;5;130;01m\\n\u001b[39;00m\u001b[38;5;124m\"\u001b[39m,\n\u001b[1;32m     18\u001b[0m     \u001b[38;5;124m\"\u001b[39m\u001b[38;5;124m    \u001b[39m\u001b[38;5;130;01m\\n\u001b[39;00m\u001b[38;5;124m\"\u001b[39m,\n\u001b[1;32m     19\u001b[0m     \u001b[38;5;124m\"\u001b[39m\u001b[38;5;124m    your_rooms[course_no] = room\u001b[39m\u001b[38;5;130;01m\\n\u001b[39;00m\u001b[38;5;124m\"\u001b[39m,\n\u001b[1;32m     20\u001b[0m     \u001b[38;5;124m\"\u001b[39m\u001b[38;5;124m    your_teach[course_no] = teacher\u001b[39m\u001b[38;5;130;01m\\n\u001b[39;00m\u001b[38;5;124m\"\u001b[39m,\n\u001b[1;32m     21\u001b[0m     \u001b[38;5;124m\"\u001b[39m\u001b[38;5;124m    your_start[course_no] = start\u001b[39m\u001b[38;5;130;01m\\n\u001b[39;00m\u001b[38;5;124m\"\u001b[39m,\n\u001b[1;32m     22\u001b[0m     \u001b[38;5;124m\"\u001b[39m\u001b[38;5;124m    \u001b[39m\u001b[38;5;130;01m\\n\u001b[39;00m\u001b[38;5;124m\"\u001b[39m,\n\u001b[1;32m     23\u001b[0m     \u001b[38;5;124m\"\u001b[39m\u001b[38;5;124m    return your_rooms, your_teach, your_start\u001b[39m\u001b[38;5;130;01m\\n\u001b[39;00m\u001b[38;5;124m\"\u001b[39m,\n\u001b[1;32m     24\u001b[0m     \u001b[38;5;124m\"\u001b[39m\u001b[38;5;124m    \u001b[39m\u001b[38;5;130;01m\\n\u001b[39;00m\u001b[38;5;124m\"\u001b[39m,\n\u001b[1;32m     25\u001b[0m     \u001b[38;5;124m\"\u001b[39m\u001b[38;5;124m    \u001b[39m\u001b[38;5;130;01m\\n\u001b[39;00m\u001b[38;5;124m\"\u001b[39m,\n\u001b[1;32m     26\u001b[0m     \u001b[38;5;124m\"\u001b[39m\u001b[38;5;130;01m\\n\u001b[39;00m\u001b[38;5;124m\"\u001b[39m,\n\u001b[1;32m     27\u001b[0m     \u001b[38;5;124m\"\u001b[39m\u001b[38;5;130;01m\\n\u001b[39;00m\u001b[38;5;124m\"\u001b[39m,\n\u001b[1;32m     28\u001b[0m     \u001b[38;5;124m\"\u001b[39m\u001b[38;5;130;01m\\n\u001b[39;00m\u001b[38;5;124m\"\u001b[39m,\n\u001b[1;32m     29\u001b[0m     \u001b[38;5;124m\"\u001b[39m\u001b[38;5;130;01m\\n\u001b[39;00m\u001b[38;5;124m\"\u001b[39m,\n\u001b[1;32m     30\u001b[0m     \u001b[38;5;124m\"\u001b[39m\u001b[38;5;124mif __name__ == \u001b[39m\u001b[38;5;124m'\u001b[39m\u001b[38;5;124m__class_adder__\u001b[39m\u001b[38;5;124m'\u001b[39m\u001b[38;5;124m:\u001b[39m\u001b[38;5;130;01m\\n\u001b[39;00m\u001b[38;5;124m\"\u001b[39m,\n\u001b[1;32m     31\u001b[0m     \u001b[38;5;124m\"\u001b[39m\u001b[38;5;124m    class_adder()\u001b[39m\u001b[38;5;124m\"\u001b[39m\n\u001b[1;32m     32\u001b[0m    ]\n\u001b[1;32m     33\u001b[0m   },\n\u001b[1;32m     34\u001b[0m   {\n\u001b[1;32m     35\u001b[0m    \u001b[38;5;124m\"\u001b[39m\u001b[38;5;124mcell_type\u001b[39m\u001b[38;5;124m\"\u001b[39m: \u001b[38;5;124m\"\u001b[39m\u001b[38;5;124mcode\u001b[39m\u001b[38;5;124m\"\u001b[39m,\n\u001b[1;32m     36\u001b[0m    \u001b[38;5;124m\"\u001b[39m\u001b[38;5;124mexecution_count\u001b[39m\u001b[38;5;124m\"\u001b[39m: null,\n\u001b[1;32m     37\u001b[0m    \u001b[38;5;124m\"\u001b[39m\u001b[38;5;124mid\u001b[39m\u001b[38;5;124m\"\u001b[39m: \u001b[38;5;124m\"\u001b[39m\u001b[38;5;124maacfa345\u001b[39m\u001b[38;5;124m\"\u001b[39m,\n\u001b[1;32m     38\u001b[0m    \u001b[38;5;124m\"\u001b[39m\u001b[38;5;124mmetadata\u001b[39m\u001b[38;5;124m\"\u001b[39m: {},\n\u001b[1;32m     39\u001b[0m    \u001b[38;5;124m\"\u001b[39m\u001b[38;5;124moutputs\u001b[39m\u001b[38;5;124m\"\u001b[39m: [],\n\u001b[1;32m     40\u001b[0m    \u001b[38;5;124m\"\u001b[39m\u001b[38;5;124msource\u001b[39m\u001b[38;5;124m\"\u001b[39m: []\n\u001b[1;32m     41\u001b[0m   }\n\u001b[1;32m     42\u001b[0m  ],\n\u001b[1;32m     43\u001b[0m  \u001b[38;5;124m\"\u001b[39m\u001b[38;5;124mmetadata\u001b[39m\u001b[38;5;124m\"\u001b[39m: {\n\u001b[1;32m     44\u001b[0m   \u001b[38;5;124m\"\u001b[39m\u001b[38;5;124mkernelspec\u001b[39m\u001b[38;5;124m\"\u001b[39m: {\n\u001b[1;32m     45\u001b[0m    \u001b[38;5;124m\"\u001b[39m\u001b[38;5;124mdisplay_name\u001b[39m\u001b[38;5;124m\"\u001b[39m: \u001b[38;5;124m\"\u001b[39m\u001b[38;5;124mPython 3 (ipykernel)\u001b[39m\u001b[38;5;124m\"\u001b[39m,\n\u001b[1;32m     46\u001b[0m    \u001b[38;5;124m\"\u001b[39m\u001b[38;5;124mlanguage\u001b[39m\u001b[38;5;124m\"\u001b[39m: \u001b[38;5;124m\"\u001b[39m\u001b[38;5;124mpython\u001b[39m\u001b[38;5;124m\"\u001b[39m,\n\u001b[1;32m     47\u001b[0m    \u001b[38;5;124m\"\u001b[39m\u001b[38;5;124mname\u001b[39m\u001b[38;5;124m\"\u001b[39m: \u001b[38;5;124m\"\u001b[39m\u001b[38;5;124mpython3\u001b[39m\u001b[38;5;124m\"\u001b[39m\n\u001b[1;32m     48\u001b[0m   },\n\u001b[1;32m     49\u001b[0m   \u001b[38;5;124m\"\u001b[39m\u001b[38;5;124mlanguage_info\u001b[39m\u001b[38;5;124m\"\u001b[39m: {\n\u001b[1;32m     50\u001b[0m    \u001b[38;5;124m\"\u001b[39m\u001b[38;5;124mcodemirror_mode\u001b[39m\u001b[38;5;124m\"\u001b[39m: {\n\u001b[1;32m     51\u001b[0m     \u001b[38;5;124m\"\u001b[39m\u001b[38;5;124mname\u001b[39m\u001b[38;5;124m\"\u001b[39m: \u001b[38;5;124m\"\u001b[39m\u001b[38;5;124mipython\u001b[39m\u001b[38;5;124m\"\u001b[39m,\n\u001b[1;32m     52\u001b[0m     \u001b[38;5;124m\"\u001b[39m\u001b[38;5;124mversion\u001b[39m\u001b[38;5;124m\"\u001b[39m: \u001b[38;5;241m3\u001b[39m\n\u001b[1;32m     53\u001b[0m    },\n\u001b[1;32m     54\u001b[0m    \u001b[38;5;124m\"\u001b[39m\u001b[38;5;124mfile_extension\u001b[39m\u001b[38;5;124m\"\u001b[39m: \u001b[38;5;124m\"\u001b[39m\u001b[38;5;124m.py\u001b[39m\u001b[38;5;124m\"\u001b[39m,\n\u001b[1;32m     55\u001b[0m    \u001b[38;5;124m\"\u001b[39m\u001b[38;5;124mmimetype\u001b[39m\u001b[38;5;124m\"\u001b[39m: \u001b[38;5;124m\"\u001b[39m\u001b[38;5;124mtext/x-python\u001b[39m\u001b[38;5;124m\"\u001b[39m,\n\u001b[1;32m     56\u001b[0m    \u001b[38;5;124m\"\u001b[39m\u001b[38;5;124mname\u001b[39m\u001b[38;5;124m\"\u001b[39m: \u001b[38;5;124m\"\u001b[39m\u001b[38;5;124mpython\u001b[39m\u001b[38;5;124m\"\u001b[39m,\n\u001b[1;32m     57\u001b[0m    \u001b[38;5;124m\"\u001b[39m\u001b[38;5;124mnbconvert_exporter\u001b[39m\u001b[38;5;124m\"\u001b[39m: \u001b[38;5;124m\"\u001b[39m\u001b[38;5;124mpython\u001b[39m\u001b[38;5;124m\"\u001b[39m,\n\u001b[1;32m     58\u001b[0m    \u001b[38;5;124m\"\u001b[39m\u001b[38;5;124mpygments_lexer\u001b[39m\u001b[38;5;124m\"\u001b[39m: \u001b[38;5;124m\"\u001b[39m\u001b[38;5;124mipython3\u001b[39m\u001b[38;5;124m\"\u001b[39m,\n\u001b[1;32m     59\u001b[0m    \u001b[38;5;124m\"\u001b[39m\u001b[38;5;124mversion\u001b[39m\u001b[38;5;124m\"\u001b[39m: \u001b[38;5;124m\"\u001b[39m\u001b[38;5;124m3.10.9\u001b[39m\u001b[38;5;124m\"\u001b[39m\n\u001b[1;32m     60\u001b[0m   }\n\u001b[1;32m     61\u001b[0m  },\n\u001b[1;32m     62\u001b[0m  \u001b[38;5;124m\"\u001b[39m\u001b[38;5;124mnbformat\u001b[39m\u001b[38;5;124m\"\u001b[39m: \u001b[38;5;241m4\u001b[39m,\n\u001b[1;32m     63\u001b[0m  \u001b[38;5;124m\"\u001b[39m\u001b[38;5;124mnbformat_minor\u001b[39m\u001b[38;5;124m\"\u001b[39m: \u001b[38;5;241m5\u001b[39m\n\u001b[1;32m     64\u001b[0m }\n",
      "\u001b[0;31mNameError\u001b[0m: name 'null' is not defined"
     ]
    }
   ],
   "source": [
    "from ClassAdderMod import class_adder\n",
    "\n",
    "# main function gets the course number from user and passes the course\n",
    "# number to three functions to get the room number, teacher, and start time\n",
    "# for the course entered, then displays all of the data.\n",
    "def main():    \n",
    "    \n",
    "    add_class = input('Would you like to add a class to the database? '\n",
    "                     + 'Enter \\'y\\' for yes or \\'n\\' for no: ')\n",
    "    \n",
    "    while add_class.upper() == 'Y':\n",
    "        new_course = input('Enter the new course number: ')\n",
    "        print()\n",
    "        \n",
    "        new_room, new_teacher, new_time = class_adder(new_course)\n",
    "        \n",
    "        add_class = input('Would you like to add another class? '\n",
    "                         + 'Enter \\'y\\' for yes or \\'n\\' for no: ')\n",
    "        \n",
    "    \n",
    "    course_number = input('Enter your course number: ')\n",
    "    \n",
    "    room_num = find_room_no(course_number)\n",
    "    \n",
    "    teacher = find_teacher(course_number)\n",
    "    \n",
    "    start = find_start_time(course_number)\n",
    "    \n",
    "    print(f'{course_number} starts at {start}, in Mr.\\\\Mrs. '\n",
    "         + f'{teacher}\\'s room: {room_num}')\n",
    "            \n",
    "            \n",
    "# finds the room number from the dictionary of room numbers\n",
    "# provided for each class. All functions are basically a copy\n",
    "# and paste of eachother because they all do the same function \n",
    "# with different data \n",
    "def find_room_no(course):\n",
    "    room_numbers = {'CS101': '3004', 'CS102': '4501', 'CS103': '6755', 'NT110': '1244', 'CM241': '1411'}\n",
    "\n",
    "    for key in room_numbers:\n",
    "        if course in room_numbers:\n",
    "            value = room_numbers.get(course)\n",
    "            return value\n",
    "        \n",
    "    if course not in room_numbers:\n",
    "            print('Course not found')\n",
    "        \n",
    "    \n",
    "    \n",
    "\n",
    "# finds the teacher from the dictionary of teachers \n",
    "# provided for each class \n",
    "def find_teacher(course):\n",
    "    teachers = {'CS101': 'Haynes', 'CS102': 'Alvarado', 'CS103': 'Rich', 'NT110': 'Burke', 'CM241': 'Lee'}\n",
    "\n",
    "    for key in teachers:\n",
    "        if course in teachers:\n",
    "            value = teachers.get(course)\n",
    "            return value\n",
    "        \n",
    "        \n",
    "        \n",
    "# finds the start time from the dictionary of start\n",
    "# times provided for each class \n",
    "def find_start_time(course):\n",
    "    start_times = {'CS101': '8 AM', 'CS102': '9 AM', 'CS103': '10 AM', 'NT110': '11 AM', 'CM241': '1 PM'}\n",
    "\n",
    "    for key in start_times:\n",
    "        if course in start_times:\n",
    "            value = start_times.get(course)\n",
    "            return value        \n",
    "\n",
    "        \n",
    "    \n",
    "            \n",
    "            \n",
    "            \n",
    "            \n",
    "            \n",
    "\n",
    "# call to main function \n",
    "if __name__ == '__main__':\n",
    "    main()"
   ]
  },
  {
   "cell_type": "code",
   "execution_count": null,
   "id": "5e1dacd0",
   "metadata": {},
   "outputs": [],
   "source": []
  }
 ],
 "metadata": {
  "kernelspec": {
   "display_name": "Python 3 (ipykernel)",
   "language": "python",
   "name": "python3"
  },
  "language_info": {
   "codemirror_mode": {
    "name": "ipython",
    "version": 3
   },
   "file_extension": ".py",
   "mimetype": "text/x-python",
   "name": "python",
   "nbconvert_exporter": "python",
   "pygments_lexer": "ipython3",
   "version": "3.10.9"
  }
 },
 "nbformat": 4,
 "nbformat_minor": 5
}
