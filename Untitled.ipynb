{
 "cells": [
  {
   "cell_type": "code",
   "execution_count": null,
   "id": "53efd67d",
   "metadata": {},
   "outputs": [],
   "source": [
    "def class_adder(course_no, room, teacher, start):\n",
    "    your_rooms = {}\n",
    "    your_teach = {}\n",
    "    your_start = {}\n",
    "    \n",
    "    your_rooms[course_no] = room\n",
    "    your_teach[course_no] = teacher\n",
    "    your_start[course_no] = start\n",
    "    \n",
    "    return your_rooms, your_teach, your_start\n",
    "    \n",
    "    \n",
    "\n",
    "\n",
    "\n",
    "\n",
    "if __name__ == '__main__':\n",
    "    main()"
   ]
  }
 ],
 "metadata": {
  "kernelspec": {
   "display_name": "Python 3 (ipykernel)",
   "language": "python",
   "name": "python3"
  },
  "language_info": {
   "codemirror_mode": {
    "name": "ipython",
    "version": 3
   },
   "file_extension": ".py",
   "mimetype": "text/x-python",
   "name": "python",
   "nbconvert_exporter": "python",
   "pygments_lexer": "ipython3",
   "version": "3.10.9"
  }
 },
 "nbformat": 4,
 "nbformat_minor": 5
}
