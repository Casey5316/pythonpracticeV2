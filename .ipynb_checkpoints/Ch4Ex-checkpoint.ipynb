{
 "cells": [
  {
   "cell_type": "markdown",
   "id": "2cfd1eca",
   "metadata": {},
   "source": [
    "# Chapter 4 Exercises\n",
    "# Algorithm Workbench"
   ]
  },
  {
   "cell_type": "markdown",
   "id": "30c87210",
   "metadata": {},
   "source": [
    "## Problem 1\n",
    "Write a while loop that lets the user enter a number. The number should be multiplied by 10, and the result assigned to a variable named product. The loop should iterate as long as product is less than 100."
   ]
  },
  {
   "cell_type": "code",
   "execution_count": 5,
   "id": "ebfd064b",
   "metadata": {},
   "outputs": [
    {
     "name": "stdout",
     "output_type": "stream",
     "text": [
      "Enter a number: 9.9\n",
      "99.0\n",
      "Enter a number: 9.99\n",
      "99.9\n",
      "Enter a number: 9.123456789\n",
      "91.23456789000001\n",
      "Enter a number: 10\n",
      "100.0\n",
      "Enter a number: 10.01\n"
     ]
    }
   ],
   "source": [
    "number = float(input('Enter a number: '))\n",
    "\n",
    "product = number * 10\n",
    "\n",
    "while product < 100:\n",
    "    product = number * 10\n",
    "    print(product)\n",
    "    number = float(input('Enter a number: '))"
   ]
  },
  {
   "cell_type": "markdown",
   "id": "9dbaf739",
   "metadata": {},
   "source": [
    "## Problem 2 \n",
    "Write a while loop that asks the user to enter two numbers. The numbers should be added and the sum displayed. The loop should ask the user if he or she wishes to perform the operation again. If so, the loop should repeat, otherwise it should terminate."
   ]
  },
  {
   "cell_type": "code",
   "execution_count": null,
   "id": "03f3e5d3",
   "metadata": {},
   "outputs": [
    {
     "name": "stdout",
     "output_type": "stream",
     "text": [
      "Enter a number: 4\n",
      "Enter a number: 4\n",
      "8\n",
      "Do you want to add another set of numbers? y\n",
      "Enter a number: 7\n",
      "Enter a number: 3\n",
      "8\n"
     ]
    }
   ],
   "source": [
    "number1 = int(input('Enter a number: '))\n",
    "number2 = int(input('Enter a number: '))\n",
    "\n",
    "total = number1 + number2\n",
    "\n",
    "keep_going = 'y'\n",
    "\n",
    "while keep_going == 'y' or keep_going == 'Y':\n",
    "    print(total)\n",
    "    input('Do you want to add another set of numbers? ')\n",
    "    number1 = int(input('Enter a number: '))\n",
    "    number2 = int(input('Enter a number: '))"
   ]
  },
  {
   "cell_type": "code",
   "execution_count": null,
   "id": "87231944",
   "metadata": {},
   "outputs": [],
   "source": []
  }
 ],
 "metadata": {
  "kernelspec": {
   "display_name": "Python 3 (ipykernel)",
   "language": "python",
   "name": "python3"
  },
  "language_info": {
   "codemirror_mode": {
    "name": "ipython",
    "version": 3
   },
   "file_extension": ".py",
   "mimetype": "text/x-python",
   "name": "python",
   "nbconvert_exporter": "python",
   "pygments_lexer": "ipython3",
   "version": "3.10.9"
  }
 },
 "nbformat": 4,
 "nbformat_minor": 5
}
