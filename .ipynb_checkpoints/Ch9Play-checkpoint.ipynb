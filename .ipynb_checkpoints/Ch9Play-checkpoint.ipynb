{
 "cells": [
  {
   "cell_type": "markdown",
   "id": "3c88a17e",
   "metadata": {},
   "source": [
    "## Chapter 9 Notes/Play around \n",
    "Dictionary syntax below for reference"
   ]
  },
  {
   "cell_type": "code",
   "execution_count": 1,
   "id": "b2a47e57",
   "metadata": {},
   "outputs": [
    {
     "name": "stdout",
     "output_type": "stream",
     "text": [
      "35.00\n"
     ]
    }
   ],
   "source": [
    "employee_pay_rates = {'Servando':'27.50', 'Casey':'24.50', 'Nick':'28.00', 'Jesse':'35.00'}\n",
    "\n",
    "if 'Jesse' in employee_pay_rates:\n",
    "    print(employee_pay_rates['Jesse'])\n",
    "    "
   ]
  },
  {
   "cell_type": "markdown",
   "id": "a16ca59d",
   "metadata": {},
   "source": [
    "### Adding a value to an existing dictionary"
   ]
  },
  {
   "cell_type": "code",
   "execution_count": 2,
   "id": "394fb87a",
   "metadata": {},
   "outputs": [
    {
     "name": "stdout",
     "output_type": "stream",
     "text": [
      "{'Servando': '27.50', 'Casey': '24.50', 'Nick': '28.00', 'Jesse': '35.00', 'Jake': '25.00'}\n"
     ]
    }
   ],
   "source": [
    "employee_pay_rates = {'Servando':'27.50', 'Casey':'24.50', 'Nick':'28.00', 'Jesse':'35.00'}\n",
    "\n",
    "employee_pay_rates['Jake'] = '25.00'\n",
    "\n",
    "print(employee_pay_rates)"
   ]
  },
  {
   "cell_type": "markdown",
   "id": "224adcb3",
   "metadata": {},
   "source": [
    "### Del statement to delete a value from the dictionary"
   ]
  },
  {
   "cell_type": "code",
   "execution_count": 6,
   "id": "54e77bda",
   "metadata": {},
   "outputs": [
    {
     "name": "stdout",
     "output_type": "stream",
     "text": [
      "{'Servando': '27.50', 'Nick': '28.00', 'Jesse': '35.00'}\n"
     ]
    }
   ],
   "source": [
    "employee_pay_rates = {'Servando':'27.50', 'Casey':'24.50', 'Nick':'28.00', 'Jesse':'35.00'}\n",
    "\n",
    "del employee_pay_rates['Casey']\n",
    "\n",
    "print(employee_pay_rates)"
   ]
  },
  {
   "cell_type": "markdown",
   "id": "3a3b22a5",
   "metadata": {},
   "source": [
    "### Iterating over each element using a for loop and using get method to retrieve the specific value associated with the element. Tested the .items() method to display all keys and values in the dictionary"
   ]
  },
  {
   "cell_type": "code",
   "execution_count": 16,
   "id": "4eced861",
   "metadata": {},
   "outputs": [
    {
     "name": "stdout",
     "output_type": "stream",
     "text": [
      "{'Servando': '27.50', 'Casey': '24.50', 'Nick': '28.00', 'Jesse': '35.00', 'Logan': '0.00'}\n",
      "Servando\n",
      "27.50\n",
      "\n",
      "Casey\n",
      "24.50\n",
      "\n",
      "Nick\n",
      "28.00\n",
      "\n",
      "Jesse\n",
      "35.00\n",
      "\n",
      "Logan\n",
      "0.00\n",
      "\n",
      "\n",
      "dict_items([('Servando', '27.50'), ('Casey', '24.50'), ('Nick', '28.00'), ('Jesse', '35.00'), ('Logan', '0.00')])\n"
     ]
    }
   ],
   "source": [
    "employee_pay_rates = {'Servando':'27.50', 'Casey':'24.50', 'Nick':'28.00', 'Jesse':'35.00'}\n",
    "\n",
    "employee_pay_rates['Logan'] = '0.00'\n",
    "\n",
    "print(employee_pay_rates)\n",
    "\n",
    "for element in employee_pay_rates:\n",
    "    print(element)\n",
    "    print(employee_pay_rates.get(element, 'Entry not found'))\n",
    "    print()\n",
    "    \n",
    "print()\n",
    "rates_and_names = employee_pay_rates.items()\n",
    "\n",
    "\n",
    "print(rates_and_names)"
   ]
  },
  {
   "cell_type": "markdown",
   "id": "656dc0d0",
   "metadata": {},
   "source": [
    "### Tested the .keys() and .values() methods to return all keys and all values from a dictionary"
   ]
  },
  {
   "cell_type": "code",
   "execution_count": 18,
   "id": "98e32acc",
   "metadata": {},
   "outputs": [
    {
     "name": "stdout",
     "output_type": "stream",
     "text": [
      "dict_keys(['Servando', 'Casey', 'Nick', 'Jesse'])\n",
      "dict_values(['27.50', '24.50', '28.00', '35.00'])\n"
     ]
    }
   ],
   "source": [
    "employee_pay_rates = {'Servando':'27.50', 'Casey':'24.50', 'Nick':'28.00', 'Jesse':'35.00'}\n",
    "\n",
    "print(employee_pay_rates.keys())\n",
    "print(employee_pay_rates.values())"
   ]
  },
  {
   "cell_type": "code",
   "execution_count": null,
   "id": "a61e0caa",
   "metadata": {},
   "outputs": [],
   "source": []
  }
 ],
 "metadata": {
  "kernelspec": {
   "display_name": "Python 3 (ipykernel)",
   "language": "python",
   "name": "python3"
  },
  "language_info": {
   "codemirror_mode": {
    "name": "ipython",
    "version": 3
   },
   "file_extension": ".py",
   "mimetype": "text/x-python",
   "name": "python",
   "nbconvert_exporter": "python",
   "pygments_lexer": "ipython3",
   "version": "3.10.9"
  }
 },
 "nbformat": 4,
 "nbformat_minor": 5
}
