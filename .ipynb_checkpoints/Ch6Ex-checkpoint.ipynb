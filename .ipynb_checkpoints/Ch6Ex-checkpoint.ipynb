{
 "cells": [
  {
   "cell_type": "markdown",
   "id": "4676daed",
   "metadata": {},
   "source": [
    "# Chapter 6 Exercises \n",
    "## Algorithm Workbench\n",
    "### Any two questions"
   ]
  },
  {
   "cell_type": "markdown",
   "id": "c21ea2fd",
   "metadata": {},
   "source": [
    "## Question 1\n",
    "Write a program that opens an output file with the filename my_name.txt, writes your name to the file, then closes the file."
   ]
  },
  {
   "cell_type": "code",
   "execution_count": 9,
   "id": "45d3ca58",
   "metadata": {},
   "outputs": [
    {
     "name": "stdout",
     "output_type": "stream",
     "text": [
      "Name has been saved to file.\n"
     ]
    }
   ],
   "source": [
    "# main function that opens the file \n",
    "# my_name.txt, prints my name to\n",
    "# the file and closes the file\n",
    "def main():\n",
    "    name_file = open('my_name.txt', 'w')\n",
    "    \n",
    "    name_file.write('Casey')\n",
    "    \n",
    "    name_file.close()\n",
    "    print('Name has been saved to file.')\n",
    "\n",
    "\n",
    "# calls main function\n",
    "if __name__ == '__main__':\n",
    "    main()"
   ]
  },
  {
   "cell_type": "markdown",
   "id": "8f97848b",
   "metadata": {},
   "source": [
    "## Question 2 \n",
    "Write a program that opens the my_name.txt file that was created by the program in problem 1, reads your name from the file, displays the name on the screen, then closes the file."
   ]
  },
  {
   "cell_type": "code",
   "execution_count": 8,
   "id": "da523b2e",
   "metadata": {},
   "outputs": [
    {
     "name": "stdout",
     "output_type": "stream",
     "text": [
      "The name from the file is: Casey\n"
     ]
    }
   ],
   "source": [
    "# main function that opens the file\n",
    "# my_name.txt and reads the name \n",
    "# from the file, then displays it.\n",
    "# Program then closes the file.\n",
    "def main():\n",
    "    name_file = open('my_name.txt', 'r')\n",
    "    \n",
    "    name = name_file.readline()\n",
    "    \n",
    "    print(f'The name from the file is: {name}')\n",
    "    \n",
    "    name_file.close()\n",
    "\n",
    "\n",
    "\n",
    "# call to main function \n",
    "if __name__ == '__main__':\n",
    "    main()"
   ]
  },
  {
   "cell_type": "markdown",
   "id": "985c428b",
   "metadata": {},
   "source": [
    "## Programming Exercises\n",
    "### Question 1 File Display\n",
    "Assume a file containing a series of integers is named numbers.txt and exists on the computer’s disk. Write a program that displays all of the numbers in the file."
   ]
  },
  {
   "cell_type": "markdown",
   "id": "945bd580",
   "metadata": {},
   "source": [
    "## I've attempted to create a file called numbers.txt so I can test my program in Problem 1"
   ]
  },
  {
   "cell_type": "code",
   "execution_count": 10,
   "id": "e26857a4",
   "metadata": {},
   "outputs": [
    {
     "name": "stdout",
     "output_type": "stream",
     "text": [
      "Enter the amount of numbers you want to enter: 10\n",
      "Enter a number to be saved: 10\n",
      "Number has been saved to numbers.txt\n",
      "Enter a number to be saved: 20\n",
      "Number has been saved to numbers.txt\n",
      "Enter a number to be saved: 30\n",
      "Number has been saved to numbers.txt\n",
      "Enter a number to be saved: 40\n",
      "Number has been saved to numbers.txt\n",
      "Enter a number to be saved: 50\n",
      "Number has been saved to numbers.txt\n",
      "Enter a number to be saved: 60\n",
      "Number has been saved to numbers.txt\n",
      "Enter a number to be saved: 70\n",
      "Number has been saved to numbers.txt\n",
      "Enter a number to be saved: 80\n",
      "Number has been saved to numbers.txt\n",
      "Enter a number to be saved: 90\n",
      "Number has been saved to numbers.txt\n",
      "Enter a number to be saved: 100\n",
      "Number has been saved to numbers.txt\n"
     ]
    }
   ],
   "source": [
    "# main function gets number of entries to perform in for loop\n",
    "# for loop adds each number to file: numbers.txt\n",
    "# displays that the number has been added to the file\n",
    "def main():\n",
    "    number_entries = int(input('Enter the amount of numbers you want to enter: '))\n",
    "    \n",
    "    for entry_count in range(number_entries):\n",
    "        enter_number = int(input('Enter a number to be saved: '))\n",
    "    \n",
    "        number_file = open('numbers.txt', 'a')\n",
    "    \n",
    "        number_file.write(f'{enter_number}\\n')\n",
    "    \n",
    "        print('Number has been saved to numbers.txt')\n",
    "    \n",
    "    # close the file numbers.txt\n",
    "    number_file.close()\n",
    "\n",
    "# run main program if standalone\n",
    "if __name__ == '__main__':\n",
    "    main()"
   ]
  },
  {
   "cell_type": "code",
   "execution_count": 11,
   "id": "9664794f",
   "metadata": {},
   "outputs": [
    {
     "name": "stdout",
     "output_type": "stream",
     "text": [
      "50\n",
      "\n",
      "10\n",
      "\n",
      "20\n",
      "\n",
      "30\n",
      "\n",
      "40\n",
      "\n",
      "50\n",
      "\n",
      "60\n",
      "\n",
      "70\n",
      "\n",
      "80\n",
      "\n",
      "90\n",
      "\n",
      "100\n",
      "\n"
     ]
    }
   ],
   "source": [
    "# main function that opens the file numbers.txt\n",
    "# for loop reads and prints each line\n",
    "# then close the file\n",
    "def main():\n",
    "    number_file = open('numbers.txt', 'r')\n",
    "    \n",
    "    for line in number_file:\n",
    "        print(line)\n",
    "    number_file.close()\n",
    "\n",
    "# call main function if running on its own\n",
    "if __name__ == '__main__':\n",
    "    main()"
   ]
  },
  {
   "cell_type": "markdown",
   "id": "2ab75426",
   "metadata": {},
   "source": [
    "### Question 6 Average of Numbers\n",
    "\n",
    "Assume a file containing a series of integers is named numbers.txt and exists on the computer’s disk. Write a program that calculates the average of all the numbers stored in the file.\n",
    "\n"
   ]
  },
  {
   "cell_type": "code",
   "execution_count": 4,
   "id": "6bcce724",
   "metadata": {
    "scrolled": true
   },
   "outputs": [
    {
     "name": "stdout",
     "output_type": "stream",
     "text": [
      "The average of the numbers in the file is 55.\n"
     ]
    }
   ],
   "source": [
    "# main program opens numbers.txt in read mode\n",
    "# keeps total of number of total values in file\n",
    "# and adds the values to the \"total\" accumulator\n",
    "def main():\n",
    "    number_file = open('numbers.txt', 'r')\n",
    "    \n",
    "    total = 0\n",
    "    \n",
    "    lines = 0\n",
    "    \n",
    "    line = number_file.readline()\n",
    "    \n",
    "    # while loop reads the file, converts values to float\n",
    "    # and adds values to accumulators\n",
    "    while line != '':\n",
    "        number = float(line)\n",
    "        total += number\n",
    "        lines += 1\n",
    "        line = number_file.readline()\n",
    "        \n",
    "        \n",
    "    # close the file and calculate the average\n",
    "    # with our converted data\n",
    "    number_file.close()\n",
    "    average = total / lines\n",
    "    print(f'The average of the numbers in the file is {average:,.0f}.')\n",
    "\n",
    "\n",
    "# if program is standalone, run main program\n",
    "if __name__ == '__main__':\n",
    "    main()"
   ]
  },
  {
   "cell_type": "markdown",
   "id": "e42849e0",
   "metadata": {},
   "source": [
    "## Without running the above code, I think this is how you would do this. I plan on creating a file to test all of these tomorrow. "
   ]
  },
  {
   "cell_type": "markdown",
   "id": "5cf4f09a",
   "metadata": {},
   "source": [
    "## I've created numbers.txt and tested Problems 1 and 6. After fixing a couple issues (visible in various commits to GitHub) I've got it to work!"
   ]
  },
  {
   "cell_type": "markdown",
   "id": "fc4193e5",
   "metadata": {},
   "source": [
    "### Question 9  Exception Handing\n",
    "\n",
    "Modify the program that you wrote for Exercise 6 so it handles the following exceptions:\n",
    "\n",
    "It should handle any IOError exceptions that are raised when the file is opened and data is read from it.\n",
    "\n",
    "It should handle any ValueError exceptions that are raised when the items that are read from the file are converted to a number.\n",
    "\n"
   ]
  },
  {
   "cell_type": "code",
   "execution_count": null,
   "id": "69b9dfcd",
   "metadata": {},
   "outputs": [],
   "source": [
    "# main program opens numbers.txt in read mode\n",
    "# keeps total of number of total values in file\n",
    "# and adds the values to the \"total\" accumulator\n",
    "def main():\n",
    "    try:\n",
    "        number_file = open('numbers.txt', 'r')\n",
    "    \n",
    "        total = 0\n",
    "    \n",
    "        lines = 0\n",
    "    \n",
    "        line = number_file.readline()\n",
    "        \n",
    "        # while loop reads the file, converts values to float\n",
    "        # and adds values to accumulators\n",
    "        while line != '':\n",
    "            number = float(line)\n",
    "            total += number\n",
    "            lines += 1\n",
    "            line = number_file.readline()\n",
    "    except:\n",
    "        \n",
    "    # close the file and calculate the average\n",
    "    # with our converted data\n",
    "    number_file.close()\n",
    "    average = total / lines\n",
    "    print(f'The average of the numbers in the file is {average:,.0f}.')\n",
    "\n",
    "\n",
    "# if program is standalone, run main program\n",
    "if __name__ == '__main__':\n",
    "    main()"
   ]
  }
 ],
 "metadata": {
  "kernelspec": {
   "display_name": "Python 3 (ipykernel)",
   "language": "python",
   "name": "python3"
  },
  "language_info": {
   "codemirror_mode": {
    "name": "ipython",
    "version": 3
   },
   "file_extension": ".py",
   "mimetype": "text/x-python",
   "name": "python",
   "nbconvert_exporter": "python",
   "pygments_lexer": "ipython3",
   "version": "3.10.9"
  }
 },
 "nbformat": 4,
 "nbformat_minor": 5
}
