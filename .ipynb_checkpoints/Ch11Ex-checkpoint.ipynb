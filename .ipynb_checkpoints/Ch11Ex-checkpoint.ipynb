{
 "cells": [
  {
   "cell_type": "markdown",
   "id": "759f2349",
   "metadata": {},
   "source": [
    "# Question 1 - Employee and ProductionWorker Classes\n",
    "\n",
    "## Write an Employee class that keeps data attributes for the following pieces of information:\n",
    "\n",
    "### Employee name\n",
    "\n",
    "### Employee number\n",
    "\n",
    "## Next, write a class named ProductionWorker that is a subclass of the Employee class. The ProductionWorker class should keep data attributes for the following information:\n",
    "\n",
    "### Shift number (an integer, such as 1, 2, or 3)\n",
    "\n",
    "### Hourly pay rate\n",
    "\n",
    "## The workday is divided into two shifts: day and night. The shift attribute will hold an integer value representing the shift that the employee works. The day shift is shift 1 and the night shift is shift 2. Write the appropriate accessor and mutator methods for each class.\n",
    "\n",
    "## Once you have written the classes, write a program that creates an object of the ProductionWorker class and prompts the user to enter data for each of the object’s data attributes. Store the data in the object, then use the object’s accessor methods to retrieve it and display it on the screen."
   ]
  },
  {
   "cell_type": "code",
   "execution_count": 5,
   "id": "ffe48212",
   "metadata": {},
   "outputs": [
    {
     "ename": "NameError",
     "evalue": "name 'self' is not defined",
     "output_type": "error",
     "traceback": [
      "\u001b[0;31m---------------------------------------------------------------------------\u001b[0m",
      "\u001b[0;31mNameError\u001b[0m                                 Traceback (most recent call last)",
      "Cell \u001b[0;32mIn[5], line 1\u001b[0m\n\u001b[0;32m----> 1\u001b[0m \u001b[38;5;28;01mimport\u001b[39;00m \u001b[38;5;21;01memployees\u001b[39;00m\n\u001b[1;32m      3\u001b[0m \u001b[38;5;28;01mdef\u001b[39;00m \u001b[38;5;21mmain\u001b[39m():\n\u001b[1;32m      4\u001b[0m     emp_name \u001b[38;5;241m=\u001b[39m \u001b[38;5;28minput\u001b[39m(\u001b[38;5;124m'\u001b[39m\u001b[38;5;124mEnter the employee\u001b[39m\u001b[38;5;130;01m\\'\u001b[39;00m\u001b[38;5;124ms name: \u001b[39m\u001b[38;5;124m'\u001b[39m)\n",
      "File \u001b[0;32m~/Documents/GitHub/pythonpracticeV2/employees.py:1\u001b[0m\n\u001b[0;32m----> 1\u001b[0m \u001b[38;5;28;01mclass\u001b[39;00m \u001b[38;5;21;01mEmployee\u001b[39;00m:\n\u001b[1;32m      2\u001b[0m     \u001b[38;5;28;01mdef\u001b[39;00m \u001b[38;5;21m__init__\u001b[39m(\u001b[38;5;28mself\u001b[39m, employee_name, employee_num):\n\u001b[1;32m      3\u001b[0m         \u001b[38;5;28mself\u001b[39m\u001b[38;5;241m.\u001b[39m__employee_name \u001b[38;5;241m=\u001b[39m name\n",
      "File \u001b[0;32m~/Documents/GitHub/pythonpracticeV2/employees.py:30\u001b[0m, in \u001b[0;36mEmployee\u001b[0;34m()\u001b[0m\n\u001b[1;32m     28\u001b[0m \u001b[38;5;28;01mdef\u001b[39;00m \u001b[38;5;21m__str__\u001b[39m(\u001b[38;5;28mself\u001b[39m):\n\u001b[1;32m     29\u001b[0m     \u001b[38;5;28;01mreturn\u001b[39;00m \u001b[38;5;124mf\u001b[39m\u001b[38;5;124m'\u001b[39m\u001b[38;5;124mEmployee name: \u001b[39m\u001b[38;5;132;01m{\u001b[39;00m\u001b[38;5;28mself\u001b[39m\u001b[38;5;241m.\u001b[39m__employee_name\u001b[38;5;132;01m}\u001b[39;00m\u001b[38;5;124m'\u001b[39m\n\u001b[0;32m---> 30\u001b[0m \u001b[38;5;124mf\u001b[39m\u001b[38;5;124m'\u001b[39m\u001b[38;5;124mEmployee number: \u001b[39m\u001b[38;5;132;01m{\u001b[39;00m\u001b[38;5;28mself\u001b[39m\u001b[38;5;241m.\u001b[39m__employee_num\u001b[38;5;132;01m}\u001b[39;00m\u001b[38;5;124m'\u001b[39m\n",
      "\u001b[0;31mNameError\u001b[0m: name 'self' is not defined"
     ]
    }
   ],
   "source": [
    "import employees\n",
    "\n",
    "def main():\n",
    "    emp_name = input('Enter the employee\\'s name: ')\n",
    "    print()\n",
    "    emp_num = int(input('Enter the employee number: '))\n",
    "    \n",
    "    emp = employees.Employee(emp_name, emp_num)\n",
    "    \n",
    "    print(f'Employee name: {emp.get_name()}')\n",
    "    print(f'Employee number: {emp.get_number()}')\n",
    "\n",
    "\n",
    "\n",
    "\n",
    "\n",
    "if __name__ == '__main__':\n",
    "    main()"
   ]
  },
  {
   "cell_type": "code",
   "execution_count": 7,
   "id": "bb44cb52",
   "metadata": {},
   "outputs": [
    {
     "name": "stdout",
     "output_type": "stream",
     "text": [
      "Enter the employee's name: Casey\n",
      "\n",
      "Enter the employee number: 5567\n",
      "Employee name: Casey\n",
      "Employee number: 5567\n",
      "\n",
      "Enter the data for a production worker below\n",
      "\n",
      "Enter the production worker's name: Kyle\n",
      "\n",
      "Enter the production worker's number: 5568\n",
      "\n",
      "Enter '1' for day shift or '2' for night shift below\n",
      "\n",
      "Enter production worker's shift: 2\n",
      "\n",
      "Enter the production worker's hourly wage: 23\n",
      "Employee name: Casey\n",
      "Employee number: 5567\n",
      "Production worker name: Kyle\n",
      "Production worker number: 5568\n",
      "Production worker shift: Night\n",
      "Production worker wage: 23.0\n"
     ]
    }
   ],
   "source": [
    "from employees import Employee, ProductionWorker\n",
    "\n",
    "def main():\n",
    "    emp_name = input('Enter the employee\\'s name: ')\n",
    "    print()\n",
    "    emp_num = int(input('Enter the employee number: '))\n",
    "    \n",
    "    emp = employees.Employee(emp_name, emp_num)\n",
    "    \n",
    "    print()\n",
    "    \n",
    "    print('Enter the data for a production worker below\\n')\n",
    "    \n",
    "    worker_name = input('Enter the production worker\\'s name: ')\n",
    "    print()\n",
    "    worker_num = int(input('Enter the production worker\\'s number: '))\n",
    "    print()\n",
    "    print('Enter \\'1\\' for day shift or \\'2\\' for night shift below\\n')\n",
    "    worker_shift = int(input('Enter production worker\\'s shift: '))\n",
    "    print()\n",
    "    worker_wage = float(input('Enter the production worker\\'s hourly wage: '))\n",
    "                             \n",
    "                             \n",
    "    Prod_worker = ProductionWorker(worker_name, worker_num, worker_shift, worker_wage)\n",
    "    \n",
    "    if Prod_worker.get_shift_no() == 1:\n",
    "        shift = 'Day'\n",
    "        \n",
    "    else:\n",
    "        shift = 'Night'\n",
    "    \n",
    "    print(f'Employee name: {emp.get_name()}\\nEmployee number: {emp.get_number()}')\n",
    "    \n",
    "    print(f'Production worker name: {Prod_worker.get_name()}\\nProduction worker number: '\n",
    "          + f'{Prod_worker.get_number()}\\nProduction worker shift: {shift}\\n'\n",
    "         + f'Production worker wage: {Prod_worker.get_wage()}')\n",
    "                             \n",
    "    \n",
    "                             \n",
    "\n",
    "\n",
    "\n",
    "\n",
    "\n",
    "if __name__ == '__main__':\n",
    "    main()"
   ]
  },
  {
   "cell_type": "markdown",
   "id": "57897bc3",
   "metadata": {},
   "source": [
    "# Question 2 - ShiftSupervisor Class\n",
    "## In a particular factory, a shift supervisor is a salaried employee who supervises a shift. In addition to a salary, the shift supervisor earns a yearly bonus when his or her shift meets production goals. Write a ShiftSupervisor class that is a subclass of the Employee class you created in Programming Exercise 1. The ShiftSupervisor class should keep a data attribute for the annual salary, and a data attribute for the annual production bonus that a shift supervisor has earned. Demonstrate the class by writing a program that uses a ShiftSupervisor object.\n",
    "\n"
   ]
  },
  {
   "cell_type": "code",
   "execution_count": 5,
   "id": "23cb648d",
   "metadata": {},
   "outputs": [
    {
     "name": "stdout",
     "output_type": "stream",
     "text": [
      "Enter the supervisor's name: Casey\n",
      "Enter the supervisor's employee number: 5567\n",
      "Enter the supervisor's salary: 75000\n",
      "Enter the supervisor's production bonus: 12000\n",
      "Supervisor name: Casey\n",
      "Supervisor employee number: 5567\n",
      "Supervisor annual salary: 75000.0\n",
      "Supervisor production bonus: 12000.0\n",
      "Supervisor total salary including bonus: $87,000.00\n"
     ]
    }
   ],
   "source": [
    "from employees import Employee, ShiftSupervisor\n",
    "\n",
    "def main():\n",
    "    sup_name = input('Enter the supervisor\\'s name: ')\n",
    "    sup_num = input('Enter the supervisor\\'s employee number: ')\n",
    "    sup_salary = float(input('Enter the supervisor\\'s salary: '))\n",
    "    sup_bonus = float(input('Enter the supervisor\\'s production bonus: '))\n",
    "                            \n",
    "    total = sup_salary + sup_bonus \n",
    "                            \n",
    "    supervisor = ShiftSupervisor(sup_name, sup_num, sup_salary, sup_bonus)\n",
    "                            \n",
    "    print(f'Supervisor name: {supervisor.get_name()}')\n",
    "    print(f'Supervisor employee number: {supervisor.get_number()}')\n",
    "    print(f'Supervisor annual salary: {supervisor.get_salary()}')\n",
    "    print(f'Supervisor production bonus: {supervisor.get_bonus()}')\n",
    "    print(f'Supervisor total salary including bonus: ${total:,.2f}')\n",
    "    \n",
    "                    \n",
    "                    \n",
    "                    \n",
    "                    \n",
    "\n",
    "if __name__ == '__main__':\n",
    "    main()"
   ]
  },
  {
   "cell_type": "code",
   "execution_count": null,
   "id": "f4aac15e",
   "metadata": {},
   "outputs": [],
   "source": []
  }
 ],
 "metadata": {
  "kernelspec": {
   "display_name": "Python 3 (ipykernel)",
   "language": "python",
   "name": "python3"
  },
  "language_info": {
   "codemirror_mode": {
    "name": "ipython",
    "version": 3
   },
   "file_extension": ".py",
   "mimetype": "text/x-python",
   "name": "python",
   "nbconvert_exporter": "python",
   "pygments_lexer": "ipython3",
   "version": "3.10.9"
  }
 },
 "nbformat": 4,
 "nbformat_minor": 5
}
