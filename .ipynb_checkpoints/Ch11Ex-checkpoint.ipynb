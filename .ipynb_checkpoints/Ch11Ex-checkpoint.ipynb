{
 "cells": [
  {
   "cell_type": "markdown",
   "id": "2cecc6ed",
   "metadata": {},
   "source": [
    "# Question 1 - Employee and ProductionWorker Classes\n",
    "\n",
    "Write an Employee class that keeps data attributes for the following pieces of information:\n",
    "\n",
    "Employee name\n",
    "\n",
    "Employee number\n",
    "\n",
    "Next, write a class named ProductionWorker that is a subclass of the Employee class. The ProductionWorker class should keep data attributes for the following information:\n",
    "\n",
    "Shift number (an integer, such as 1, 2, or 3)\n",
    "\n",
    "Hourly pay rate\n",
    "\n",
    "The workday is divided into two shifts: day and night. The shift attribute will hold an integer value representing the shift that the employee works. The day shift is shift 1 and the night shift is shift 2. Write the appropriate accessor and mutator methods for each class.\n",
    "\n",
    "Once you have written the classes, write a program that creates an object of the ProductionWorker class and prompts the user to enter data for each of the object’s data attributes. Store the data in the object, then use the object’s accessor methods to retrieve it and display it on the screen."
   ]
  },
  {
   "cell_type": "code",
   "execution_count": null,
   "id": "5c0ff384",
   "metadata": {},
   "outputs": [],
   "source": [
    "class Employee:\n",
    "    def __init__(self, employee_name, employee_num):\n",
    "        self.__employee_name = name\n",
    "        self.__employee_num = number \n",
    "        \n",
    "        \n",
    "        \n",
    "    def set_name(self, name):\n",
    "        self.__employee_name = name\n",
    "        \n",
    "        \n",
    "        \n",
    "    def set_number(self, number):\n",
    "        self.__employee_num = number\n",
    "        \n",
    "        \n",
    "        \n",
    "    def get_name(self):\n",
    "        return __self.employee_name\n",
    "    \n",
    "    \n",
    "    \n",
    "    def get_number(self):\n",
    "        return __self.employee_num\n",
    "    \n",
    "    \n",
    "    \n",
    "    def __str__(self):\n",
    "        return f'Employee name: {__self.employee_name}'\n",
    "    f'Employee number: {__self.employee_num}'"
   ]
  }
 ],
 "metadata": {
  "kernelspec": {
   "display_name": "Python 3 (ipykernel)",
   "language": "python",
   "name": "python3"
  },
  "language_info": {
   "codemirror_mode": {
    "name": "ipython",
    "version": 3
   },
   "file_extension": ".py",
   "mimetype": "text/x-python",
   "name": "python",
   "nbconvert_exporter": "python",
   "pygments_lexer": "ipython3",
   "version": "3.10.9"
  }
 },
 "nbformat": 4,
 "nbformat_minor": 5
}
