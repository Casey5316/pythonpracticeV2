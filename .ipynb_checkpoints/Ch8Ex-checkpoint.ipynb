{
 "cells": [
  {
   "cell_type": "markdown",
   "id": "64d88d79",
   "metadata": {},
   "source": [
    "# Chapter 8 Exercises\n",
    "## Algorithm Workbench \n",
    "### Any two questions"
   ]
  },
  {
   "cell_type": "markdown",
   "id": "92047271",
   "metadata": {},
   "source": [
    "### Question 1\n",
    "Assume choice references a string. The following if statement determines whether choice is equal to ‘Y’ or ‘y’:\n",
    "\n",
    "if choice == 'y' or choice == 'Y'\n",
    "\n",
    "Rewrite this statement so it only makes one comparison, and does not use the or operator. (Hint: use either the upper or lower methods.)"
   ]
  },
  {
   "cell_type": "code",
   "execution_count": 2,
   "id": "0121e52b",
   "metadata": {},
   "outputs": [
    {
     "name": "stdout",
     "output_type": "stream",
     "text": [
      "Enter a sentence: Y\n",
      "The 'y' you entered was lowercase.\n"
     ]
    }
   ],
   "source": [
    "# main function gets a string from user\n",
    "def main():\n",
    "    choice = input('Enter a sentence: ')\n",
    "    \n",
    "    # if statement determines if a y was entered\n",
    "    # regardless of upper or lowercase\n",
    "    if choice.lower() == 'y':\n",
    "       \n",
    "        \n",
    "\n",
    "\n",
    "\n",
    "# call to main function \n",
    "if __name__ == '__main__':\n",
    "    main()"
   ]
  },
  {
   "cell_type": "markdown",
   "id": "a2ab4780",
   "metadata": {},
   "source": [
    "### Question 2\n",
    "Write a loop that counts the number of space characters that appear in the string referenced by mystring."
   ]
  },
  {
   "cell_type": "code",
   "execution_count": 5,
   "id": "d57e6014",
   "metadata": {},
   "outputs": [
    {
     "name": "stdout",
     "output_type": "stream",
     "text": [
      "Enter a sentence: I love music.\n",
      "There are 2 whitespace characters in your sentence.\n"
     ]
    }
   ],
   "source": [
    "# main function gets a string from user\n",
    "# and displays amount of spaces\n",
    "def main():\n",
    "    mystring = input('Enter a sentence: ')\n",
    "    \n",
    "    count = 0\n",
    "    \n",
    "    # for loop counts number of spaces in string\n",
    "    for char in mystring:\n",
    "        if char == ' ':\n",
    "            count += 1\n",
    "            \n",
    "    print(f'There are {count} whitespace characters in your sentence.')\n",
    "\n",
    "\n",
    "\n",
    "# call to main function \n",
    "if __name__ == '__main__':\n",
    "    main()"
   ]
  },
  {
   "cell_type": "markdown",
   "id": "c8754e94",
   "metadata": {},
   "source": [
    "## Programming Exercises\n",
    "### Question 1 - Initials\n",
    "Write a program that gets a string containing a person’s first, middle, and last names, and displays their first, middle, and last initials. For example, if the user enters John William Smith, the program should display J. W. S."
   ]
  },
  {
   "cell_type": "code",
   "execution_count": 7,
   "id": "a3fbbeda",
   "metadata": {},
   "outputs": [
    {
     "name": "stdout",
     "output_type": "stream",
     "text": [
      "Enter your first name: casey\n",
      "Enter your middle name: patrick\n",
      "Enter your last name: miller\n",
      "Your initials are CPM.\n"
     ]
    }
   ],
   "source": [
    "# main function gets first, middle, and last\n",
    "# names and displays users intials \n",
    "def main():\n",
    "    first = input('Enter your first name: ')\n",
    "    middle = input('Enter your middle name: ')\n",
    "    last = input('Enter your last name: ')\n",
    "    \n",
    "    display_initials(first, middle, last)\n",
    "    \n",
    "    \n",
    "# function takes names and displays\n",
    "# first characters of each\n",
    "def display_initials(f, m, l):\n",
    "    initial_1 = f[0].upper()\n",
    "    \n",
    "    initial_2 = m[0].upper()\n",
    "    \n",
    "    initial_3 = l[0].upper()\n",
    "    \n",
    "    initials = initial_1 + initial_2 + initial_3\n",
    "    \n",
    "    print(f'Your initials are {initials}.')\n",
    "\n",
    "\n",
    "# call to main function \n",
    "if __name__ == '__main__':\n",
    "    main()"
   ]
  },
  {
   "cell_type": "markdown",
   "id": "962b20b4",
   "metadata": {},
   "source": [
    "## While I got this one correct on the first try, I went and added the .upper() method to the results in case the user enters their name without capital letters. "
   ]
  },
  {
   "cell_type": "markdown",
   "id": "14c3c875",
   "metadata": {},
   "source": [
    "### Question 2 - Sum of Digits in a String\n",
    "Write a program that asks the user to enter a series of single-digit numbers with nothing separating them. The program should display the sum of all the single digit numbers in the string. For example, if the user enters 2514, the method should return 12, which is the sum of 2, 5, 1, and 4."
   ]
  },
  {
   "cell_type": "code",
   "execution_count": 17,
   "id": "5ac880c9",
   "metadata": {},
   "outputs": [
    {
     "name": "stdout",
     "output_type": "stream",
     "text": [
      "Enter a series of numbers with no separations: 236\n",
      "11\n"
     ]
    }
   ],
   "source": [
    "# main function gets numbers from the user with no separations \n",
    "# between numbers and adds them to a list to be added \n",
    "def main():\n",
    "    numbers = input('Enter a series of numbers with no separations: ')\n",
    "    \n",
    "    number_list = []\n",
    "                \n",
    "    for num in numbers:\n",
    "        number_list.append(int(num))\n",
    "        \n",
    "    total = sum(number_list)\n",
    "    \n",
    "    print(total)\n",
    "        \n",
    "    \n",
    "    \n",
    "    \n",
    "\n",
    "\n",
    "\n",
    "# call to main function \n",
    "if __name__ == '__main__':\n",
    "    main()"
   ]
  },
  {
   "cell_type": "code",
   "execution_count": null,
   "id": "cdc0308f",
   "metadata": {},
   "outputs": [],
   "source": []
  }
 ],
 "metadata": {
  "kernelspec": {
   "display_name": "Python 3 (ipykernel)",
   "language": "python",
   "name": "python3"
  },
  "language_info": {
   "codemirror_mode": {
    "name": "ipython",
    "version": 3
   },
   "file_extension": ".py",
   "mimetype": "text/x-python",
   "name": "python",
   "nbconvert_exporter": "python",
   "pygments_lexer": "ipython3",
   "version": "3.10.9"
  }
 },
 "nbformat": 4,
 "nbformat_minor": 5
}
