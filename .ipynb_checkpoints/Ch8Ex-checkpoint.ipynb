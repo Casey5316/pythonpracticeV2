{
 "cells": [
  {
   "cell_type": "markdown",
   "id": "099dffd7",
   "metadata": {},
   "source": [
    "# Chapter 8 Exercises\n",
    "## Algorithm Workbench \n",
    "### Any two questions"
   ]
  },
  {
   "cell_type": "markdown",
   "id": "74e9b2ac",
   "metadata": {},
   "source": [
    "### Question 1\n",
    "Assume choice references a string. The following if statement determines whether choice is equal to ‘Y’ or ‘y’:\n",
    "\n",
    "if choice == 'y' or choice == 'Y'\n",
    "\n",
    "Rewrite this statement so it only makes one comparison, and does not use the or operator. (Hint: use either the upper or lower methods.)"
   ]
  },
  {
   "cell_type": "code",
   "execution_count": 2,
   "id": "8afce52f",
   "metadata": {},
   "outputs": [
    {
     "name": "stdout",
     "output_type": "stream",
     "text": [
      "Enter a sentence: Y\n",
      "The 'y' you entered was lowercase.\n"
     ]
    }
   ],
   "source": [
    "# main function gets a string from user\n",
    "def main():\n",
    "    choice = input('Enter a sentence: ')\n",
    "    \n",
    "    # if statement determines if a y was entered\n",
    "    # regardless of upper or lowercase\n",
    "    if choice.lower() == 'y':\n",
    "       \n",
    "        \n",
    "\n",
    "\n",
    "\n",
    "# call to main function \n",
    "if __name__ == '__main__':\n",
    "    main()"
   ]
  },
  {
   "cell_type": "markdown",
   "id": "26a5cefd",
   "metadata": {},
   "source": [
    "### Question 2\n",
    "Write a loop that counts the number of space characters that appear in the string referenced by mystring."
   ]
  },
  {
   "cell_type": "code",
   "execution_count": 5,
   "id": "aefa1ed0",
   "metadata": {},
   "outputs": [
    {
     "name": "stdout",
     "output_type": "stream",
     "text": [
      "Enter a sentence: I love music.\n",
      "There are 2 whitespace characters in your sentence.\n"
     ]
    }
   ],
   "source": [
    "# main function gets a string from user\n",
    "# and displays amount of spaces\n",
    "def main():\n",
    "    mystring = input('Enter a sentence: ')\n",
    "    \n",
    "    count = 0\n",
    "    \n",
    "    # for loop counts number of spaces in string\n",
    "    for char in mystring:\n",
    "        if char == ' ':\n",
    "            count += 1\n",
    "            \n",
    "    print(f'There are {count} whitespace characters in your sentence.')\n",
    "\n",
    "\n",
    "\n",
    "# call to main function \n",
    "if __name__ == '__main__':\n",
    "    main()"
   ]
  },
  {
   "cell_type": "code",
   "execution_count": null,
   "id": "9c7535b7",
   "metadata": {},
   "outputs": [],
   "source": []
  }
 ],
 "metadata": {
  "kernelspec": {
   "display_name": "Python 3 (ipykernel)",
   "language": "python",
   "name": "python3"
  },
  "language_info": {
   "codemirror_mode": {
    "name": "ipython",
    "version": 3
   },
   "file_extension": ".py",
   "mimetype": "text/x-python",
   "name": "python",
   "nbconvert_exporter": "python",
   "pygments_lexer": "ipython3",
   "version": "3.10.9"
  }
 },
 "nbformat": 4,
 "nbformat_minor": 5
}
