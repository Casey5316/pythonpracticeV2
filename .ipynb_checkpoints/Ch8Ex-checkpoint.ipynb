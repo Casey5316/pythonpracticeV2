{
 "cells": [
  {
   "cell_type": "markdown",
   "id": "ee4ff189",
   "metadata": {},
   "source": [
    "# Chapter 8 Exercises\n",
    "## Algorithm Workbench \n",
    "### Any two questions"
   ]
  },
  {
   "cell_type": "markdown",
   "id": "e7c3a39f",
   "metadata": {},
   "source": [
    "### Question 1\n",
    "Assume choice references a string. The following if statement determines whether choice is equal to ‘Y’ or ‘y’:\n",
    "\n",
    "if choice == 'y' or choice == 'Y'\n",
    "\n",
    "Rewrite this statement so it only makes one comparison, and does not use the or operator. (Hint: use either the upper or lower methods.)"
   ]
  },
  {
   "cell_type": "code",
   "execution_count": 2,
   "id": "97d13c68",
   "metadata": {},
   "outputs": [
    {
     "name": "stdout",
     "output_type": "stream",
     "text": [
      "Enter a sentence: Y\n",
      "The 'y' you entered was lowercase.\n"
     ]
    }
   ],
   "source": [
    "# main function gets a string from user\n",
    "def main():\n",
    "    choice = input('Enter a sentence: ')\n",
    "    \n",
    "    # if statement determines if a y was entered\n",
    "    # regardless of upper or lowercase\n",
    "    if choice.lower() == 'y':\n",
    "       \n",
    "        \n",
    "\n",
    "\n",
    "\n",
    "# call to main function \n",
    "if __name__ == '__main__':\n",
    "    main()"
   ]
  },
  {
   "cell_type": "code",
   "execution_count": null,
   "id": "e1d28d31",
   "metadata": {},
   "outputs": [],
   "source": []
  }
 ],
 "metadata": {
  "kernelspec": {
   "display_name": "Python 3 (ipykernel)",
   "language": "python",
   "name": "python3"
  },
  "language_info": {
   "codemirror_mode": {
    "name": "ipython",
    "version": 3
   },
   "file_extension": ".py",
   "mimetype": "text/x-python",
   "name": "python",
   "nbconvert_exporter": "python",
   "pygments_lexer": "ipython3",
   "version": "3.10.9"
  }
 },
 "nbformat": 4,
 "nbformat_minor": 5
}
