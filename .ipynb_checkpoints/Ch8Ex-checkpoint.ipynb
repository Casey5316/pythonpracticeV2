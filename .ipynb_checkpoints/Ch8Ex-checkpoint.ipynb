{
 "cells": [
  {
   "cell_type": "markdown",
   "id": "c23979e8",
   "metadata": {},
   "source": [
    "# Chapter 8 Exercises\n",
    "## Algorithm Workbench \n",
    "### Any two questions"
   ]
  },
  {
   "cell_type": "markdown",
   "id": "4c33d104",
   "metadata": {},
   "source": [
    "### Question 1\n",
    "Assume choice references a string. The following if statement determines whether choice is equal to ‘Y’ or ‘y’:\n",
    "\n",
    "if choice == 'y' or choice == 'Y'\n",
    "\n",
    "Rewrite this statement so it only makes one comparison, and does not use the or operator. (Hint: use either the upper or lower methods.)"
   ]
  },
  {
   "cell_type": "code",
   "execution_count": 9,
   "id": "a2c0836f",
   "metadata": {},
   "outputs": [
    {
     "name": "stdout",
     "output_type": "stream",
     "text": [
      "Enter a choice: Y\n",
      "The 'y' you entered was converted to lowercase.\n"
     ]
    }
   ],
   "source": [
    "# main function gets a string from user\n",
    "def main():\n",
    "    choice = input('Enter a choice: ')\n",
    "    \n",
    "    # if statement determines if a y was entered\n",
    "    # regardless of upper or lowercase\n",
    "    if choice.lower() == 'y':\n",
    "        print('The \\'y\\' you entered was converted'\n",
    "             + ' to lowercase.')\n",
    "        \n",
    "\n",
    "\n",
    "\n",
    "# call to main function \n",
    "if __name__ == '__main__':\n",
    "    main()"
   ]
  },
  {
   "cell_type": "markdown",
   "id": "a35720a9",
   "metadata": {},
   "source": [
    "### Question 2\n",
    "Write a loop that counts the number of space characters that appear in the string referenced by mystring."
   ]
  },
  {
   "cell_type": "code",
   "execution_count": 5,
   "id": "94b4c0a1",
   "metadata": {},
   "outputs": [
    {
     "name": "stdout",
     "output_type": "stream",
     "text": [
      "Enter a sentence: I love music.\n",
      "There are 2 whitespace characters in your sentence.\n"
     ]
    }
   ],
   "source": [
    "# main function gets a string from user\n",
    "# and displays amount of spaces\n",
    "def main():\n",
    "    mystring = input('Enter a sentence: ')\n",
    "    \n",
    "    count = 0\n",
    "    \n",
    "    # for loop counts number of spaces in string\n",
    "    for char in mystring:\n",
    "        if char == ' ':\n",
    "            count += 1\n",
    "            \n",
    "    print(f'There are {count} whitespace characters in your sentence.')\n",
    "\n",
    "\n",
    "\n",
    "# call to main function \n",
    "if __name__ == '__main__':\n",
    "    main()"
   ]
  },
  {
   "cell_type": "markdown",
   "id": "c69b3832",
   "metadata": {},
   "source": [
    "## Programming Exercises\n",
    "### Question 1 - Initials\n",
    "Write a program that gets a string containing a person’s first, middle, and last names, and displays their first, middle, and last initials. For example, if the user enters John William Smith, the program should display J. W. S."
   ]
  },
  {
   "cell_type": "code",
   "execution_count": 7,
   "id": "dd3a7c08",
   "metadata": {},
   "outputs": [
    {
     "name": "stdout",
     "output_type": "stream",
     "text": [
      "Enter your first name: casey\n",
      "Enter your middle name: patrick\n",
      "Enter your last name: miller\n",
      "Your initials are CPM.\n"
     ]
    }
   ],
   "source": [
    "# main function gets first, middle, and last\n",
    "# names and displays users intials \n",
    "def main():\n",
    "    first = input('Enter your first name: ')\n",
    "    middle = input('Enter your middle name: ')\n",
    "    last = input('Enter your last name: ')\n",
    "    \n",
    "    display_initials(first, middle, last)\n",
    "    \n",
    "    \n",
    "# function takes names and displays\n",
    "# first characters of each\n",
    "def display_initials(f, m, l):\n",
    "    initial_1 = f[0].upper()\n",
    "    \n",
    "    initial_2 = m[0].upper()\n",
    "    \n",
    "    initial_3 = l[0].upper()\n",
    "    \n",
    "    initials = initial_1 + initial_2 + initial_3\n",
    "    \n",
    "    print(f'Your initials are {initials}.')\n",
    "\n",
    "\n",
    "# call to main function \n",
    "if __name__ == '__main__':\n",
    "    main()"
   ]
  },
  {
   "cell_type": "markdown",
   "id": "5739c911",
   "metadata": {},
   "source": [
    "## While I got this one correct on the first try, I went and added the .upper() method to the results in case the user enters their name without capital letters. "
   ]
  },
  {
   "cell_type": "markdown",
   "id": "2dccb915",
   "metadata": {},
   "source": [
    "### Question 2 - Sum of Digits in a String\n",
    "Write a program that asks the user to enter a series of single-digit numbers with nothing separating them. The program should display the sum of all the single digit numbers in the string. For example, if the user enters 2514, the method should return 12, which is the sum of 2, 5, 1, and 4."
   ]
  },
  {
   "cell_type": "code",
   "execution_count": 16,
   "id": "c5fe96d0",
   "metadata": {},
   "outputs": [
    {
     "name": "stdout",
     "output_type": "stream",
     "text": [
      "Enter a series of numbers with no separations: 2514\n",
      "12\n"
     ]
    }
   ],
   "source": [
    "# main function gets numbers from the user with no separations \n",
    "# between numbers and adds them to a list to be added \n",
    "def main():\n",
    "    numbers = input('Enter a series of numbers with no separations: ')\n",
    "    \n",
    "    number_list = []\n",
    "                \n",
    "    for num in numbers:\n",
    "        number_list.append(int(num))\n",
    "        \n",
    "    total = sum(number_list)\n",
    "    \n",
    "    print(total)\n",
    "        \n",
    "    \n",
    "    \n",
    "    \n",
    "\n",
    "\n",
    "\n",
    "# call to main function \n",
    "if __name__ == '__main__':\n",
    "    main()"
   ]
  },
  {
   "cell_type": "markdown",
   "id": "1ef0e32a",
   "metadata": {},
   "source": [
    "## Question 8 - Sentence Capitalizer\n",
    "Write a program with a function that accepts a string as an argument and returns a copy of the string with the first character of each sentence capitalized. For instance, if the argument is “hello. my name is Joe. what is your name?” the function should return the string “Hello. My name is Joe. What is your name?” The program should let the user enter a string and then pass it to the function. The modified string should be displayed."
   ]
  },
  {
   "cell_type": "code",
   "execution_count": null,
   "id": "108d7efe",
   "metadata": {},
   "outputs": [],
   "source": [
    "# main function gets a series of strings from the \n",
    "# user an utilizes the capitalize_after_period \n",
    "# function to capitalize the first letter after\n",
    "# every period\n",
    "def main():\n",
    "    sentences = input('Enter a few sentences: ')\n",
    "    \n",
    "    capitalize_after_period(sentences)\n",
    "\n",
    "    \n",
    "\n",
    "# function takes a string as argument, and capitalizes\n",
    "# the first letter after every period\n",
    "def capitalize_after_period(string):\n",
    "    result = ''\n",
    "    \n",
    "    capitalize_next = True\n",
    "    \n",
    "    # reads the string and flags each period. capitalizes\n",
    "    # after the flag is True \n",
    "    for ch in string:\n",
    "        if capitalize_next and ch.isalpha():\n",
    "            result += ch.upper()\n",
    "            capitalize_next = False\n",
    "                \n",
    "        else:\n",
    "            result += ch\n",
    "            \n",
    "            \n",
    "        if ch == '.':\n",
    "            capitalize_next = True\n",
    "            \n",
    "        \n",
    "                \n",
    "                \n",
    "                \n",
    "    print(result)\n",
    "    \n",
    "\n",
    "\n",
    "\n",
    "\n",
    "# call to main function \n",
    "if __name__ == '__main__':\n",
    "    main()"
   ]
  },
  {
   "cell_type": "markdown",
   "id": "16e517c4",
   "metadata": {},
   "source": [
    "### The above problem gave me quite a bit more trouble than I expected! It turns out I just needed the isalpha() method so that it wouldn't try to capitalize the period. Other than that I didn't have too many issues and I accidentally forgot to push my previous attempt to github. The only thing I added was the isalpha() method, and the final if statement check at the end. "
   ]
  },
  {
   "cell_type": "markdown",
   "id": "7c376db8",
   "metadata": {},
   "source": [
    "## Problem - 13 PowerBall Lottery\n",
    "To play the PowerBall lottery, you buy a ticket that has five numbers in the range of 1–69, and a “PowerBall” number in the range of 1–26. (You can pick the numbers yourself, or you can let the ticket machine randomly pick them for you.) Then, on a specified date, a winning set of numbers is randomly selected by a machine. If your first five numbers match the first five winning numbers in any order, and your PowerBall number matches the winning PowerBall number, then you win the jackpot, which is a very large amount of money. If your numbers match only some of the winning numbers, you win a lesser amount, depending on how many of the winning numbers you have matched.\n",
    "\n",
    "In the student sample programs for this book, you will find a file named pbnumbers.txt, containing the winning PowerBall numbers that were selected between February 3, 2010 and May 11, 2016 (the file contains 654 sets of winning numbers). Figure 8-7 shows an example of the first few lines of the file’s contents. Each line in the file contains the set of six numbers that were selected on a given date. The numbers are separated by a space, and the last number in each line is the PowerBall number for that day. For example, the first line in the file shows the numbers for February 3, 2010, which were 17, 22, 36, 37, 52, and the PowerBall number 24.\n",
    "\n"
   ]
  },
  {
   "cell_type": "code",
   "execution_count": 3,
   "id": "b78e253e",
   "metadata": {},
   "outputs": [
    {
     "name": "stdout",
     "output_type": "stream",
     "text": [
      "Welcome to the PowerBall!\n",
      "Choose five numbers between 1 and 69\n",
      "and a PowerBall number between 1 and 26.\n",
      "You can input your numbers manually, or you\n",
      "can have them randomly generated. Enter 'self'\n",
      "or 'random' to make your selection: \n",
      "random\n",
      "[18, 16, 47, 61, 36, 14]\n",
      "18 30 40 48 52 09\n"
     ]
    }
   ],
   "source": [
    "# import random library\n",
    "import random\n",
    "\n",
    "# main function gets numbers from user whether \n",
    "# entered or random, then utilizes different functions\n",
    "# to select the winning numbers from pbnumbers.txt\n",
    "# and compare the users numbers to determine their \n",
    "# reward\n",
    "def main():\n",
    "    print('Welcome to the PowerBall!\\n'\n",
    "         + 'Choose five numbers between 1 and 69\\n'\n",
    "         + 'and a PowerBall number between 1 and 26.\\n'\n",
    "         + 'You can input your numbers manually, or you\\n'\n",
    "         + 'can have them randomly generated. Enter \\'self\\'\\n'\n",
    "         + 'or \\'random\\' to make your selection: ')\n",
    "    \n",
    "    input_selection = input('')\n",
    "    \n",
    "    if input_selection.upper() == 'SELF':\n",
    "        user_numbers = user_input()\n",
    "        \n",
    "    elif input_selection.upper() == 'RANDOM':\n",
    "        user_numbers = random_input()\n",
    "        \n",
    "    winners = winning_numbers()\n",
    "        \n",
    "    \n",
    "        \n",
    "\n",
    "        \n",
    "    print(user_numbers)\n",
    "    print(winners)\n",
    "        \n",
    "        \n",
    "# function that gets winning numbers from file       \n",
    "def winning_numbers():\n",
    "    choices = []\n",
    "    \n",
    "    with open('pbnumbers.txt', 'r') as powerball_numbers:\n",
    "        \n",
    "        for line in powerball_numbers:\n",
    "            numbers = line.strip()\n",
    "            choices.append(numbers)\n",
    "            \n",
    "        winners = random.choice(choices)\n",
    "        \n",
    "        return winners\n",
    "            \n",
    "        \n",
    "        \n",
    "        \n",
    "        \n",
    "    \n",
    "    \n",
    "    \n",
    "    \n",
    "# function that executes if user selects\n",
    "# to choose numbers manually. allows for \n",
    "# 5 numbers and 1 powerball number\n",
    "def user_input():\n",
    "    numbers = []\n",
    "    \n",
    "    for i in range(5):\n",
    "        number = int(input('Enter a number between 1 and 69: '))\n",
    "        print()\n",
    "        while number <= 0 or number > 69:\n",
    "            print('Invalid number choice. Please enter\\n'\n",
    "                 + 'a number between 1 and 69.\\n')\n",
    "            number = int(input('Enter a number: '))\n",
    "        numbers.append(number)\n",
    "        \n",
    "    pbnumber = int(input('Enter your PowerBall number between 1 and 26: '))\n",
    "    while pbnumber <= 0 or pbnumber > 26:\n",
    "        print('Invalid number choice. Please enter\\n'\n",
    "             + 'a number between 1 and 26.\\n')\n",
    "        pbnumber = int(input('Enter your PowerBall number selection: '))\n",
    "    numbers.append(pbnumber)\n",
    "    \n",
    "    return numbers\n",
    "    \n",
    "    \n",
    "    \n",
    "    \n",
    "    \n",
    "    \n",
    "# function that executes if user selects\n",
    "# to randomly generate their numbers\n",
    "def random_input():\n",
    "    numbers = []\n",
    "    \n",
    "    for i in range(5):\n",
    "        number = random.randint(1, 70)\n",
    "        numbers.append(number)\n",
    "        \n",
    "    pbnumber = random.randint(1, 27)\n",
    "    \n",
    "    numbers.append(pbnumber)\n",
    "    \n",
    "    return numbers\n",
    "\n",
    "\n",
    "\n",
    "# call to main function \n",
    "if __name__ == '__main__':\n",
    "    main()"
   ]
  },
  {
   "cell_type": "markdown",
   "id": "148d895f",
   "metadata": {},
   "source": [
    "## I was able to create the first portion of the program that asks whether the user wants to enter their numbers manually, or have them randomly generated. The PowerBall number is stored as the final element in the list in both scenarios. I've also created input validation loops for the user entered portion in case they enter numbers outside of the range. Finally, I've added the function that reads the powerball number file, and randomly selects a list of winning numbers. Next session I will be creating the if statements to determine the prize value for each matching number. "
   ]
  },
  {
   "cell_type": "markdown",
   "id": "b9eb0ab1",
   "metadata": {},
   "source": [
    "## Question 7 - Character Analysis\n",
    "If you have downloaded the source code you will find a file named text.txt in the Chapter 08 folder. Write a program that reads the file’s contents and determines the following:\n",
    "\n",
    "The number of uppercase letters in the file\n",
    "\n",
    "The number of lowercase letters in the file\n",
    "\n",
    "The number of digits in the file\n",
    "\n",
    "The number of whitespace characters in the file"
   ]
  },
  {
   "cell_type": "code",
   "execution_count": 15,
   "id": "0aaf5264",
   "metadata": {},
   "outputs": [
    {
     "name": "stdout",
     "output_type": "stream",
     "text": [
      "The total number of uppercase characters is: 29\n",
      "The total number of lowercase characters is: 1228\n",
      "The total number of digits is: 1593\n",
      "The total number of spaces is: 260\n"
     ]
    }
   ],
   "source": [
    "# main function determines the total number of \n",
    "# uppercase, lowercase, digits, and spaces in \n",
    "# the book's source code file text.txt\n",
    "def main():\n",
    "    total_upper = total_uppercase()\n",
    "    total_lower = total_lowercase()\n",
    "    digits = total_digits()\n",
    "    spaces = total_spaces()\n",
    "    \n",
    "    print(f'The total number of uppercase characters is: {total_upper}')\n",
    "    print(f'The total number of lowercase characters is: {total_lower}')\n",
    "    print(f'The total number of digits is: {digits}')\n",
    "    print(f'The total number of spaces is: {spaces}')\n",
    "    \n",
    "    \n",
    "# function that reads the file and counts \n",
    "# the number of uppercase characters\n",
    "def total_uppercase():\n",
    "    with open('text.txt', 'r') as text_file:\n",
    "        total_upper = 0\n",
    "        \n",
    "        for line in text_file:\n",
    "            for ch in line:\n",
    "                if ch.isalpha and ch.isupper():\n",
    "                    total_upper += 1\n",
    "                \n",
    "        return total_upper\n",
    "        \n",
    "        \n",
    "\n",
    "        \n",
    "# function that reads the file and counts \n",
    "# the number of lowercase characters\n",
    "def total_lowercase():\n",
    "    with open('text.txt', 'r') as text_file:\n",
    "        total_lower = 0\n",
    "\n",
    "        for line in text_file:\n",
    "            for ch in line:\n",
    "                if ch.isalpha and ch.islower():\n",
    "                    total_lower += 1\n",
    "\n",
    "        return total_lower\n",
    "\n",
    "\n",
    "    \n",
    "    \n",
    "    \n",
    "# function that reads the file and counts \n",
    "# the number of digits    \n",
    "def total_digits():\n",
    "    with open('text.txt', 'r') as text_file:\n",
    "        total_digits = 0\n",
    "\n",
    "        for line in text_file:\n",
    "            for ch in line:\n",
    "                if ch.isdigit:\n",
    "                    total_digits += 1\n",
    "\n",
    "        return total_digits\n",
    "    \n",
    "    \n",
    "    \n",
    "    \n",
    "    \n",
    "# function that reads the file and counts \n",
    "# the number of spaces    \n",
    "def total_spaces():\n",
    "    with open('text.txt', 'r') as text_file:\n",
    "        total_spaces = 0\n",
    "\n",
    "        for line in text_file:\n",
    "            for ch in line:\n",
    "                if ch.isspace():\n",
    "                    total_spaces += 1\n",
    "\n",
    "        return total_spaces\n",
    "\n",
    "\n",
    "\n",
    "# call to main function \n",
    "if __name__ == '__main__':\n",
    "    main()"
   ]
  },
  {
   "cell_type": "code",
   "execution_count": null,
   "id": "cf9f364a",
   "metadata": {},
   "outputs": [],
   "source": []
  }
 ],
 "metadata": {
  "kernelspec": {
   "display_name": "Python 3 (ipykernel)",
   "language": "python",
   "name": "python3"
  },
  "language_info": {
   "codemirror_mode": {
    "name": "ipython",
    "version": 3
   },
   "file_extension": ".py",
   "mimetype": "text/x-python",
   "name": "python",
   "nbconvert_exporter": "python",
   "pygments_lexer": "ipython3",
   "version": "3.10.9"
  }
 },
 "nbformat": 4,
 "nbformat_minor": 5
}
