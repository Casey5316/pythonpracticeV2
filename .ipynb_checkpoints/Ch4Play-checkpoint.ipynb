{
 "cells": [
  {
   "cell_type": "markdown",
   "id": "5da66d23",
   "metadata": {},
   "source": [
    "# While Loop Book Exercise\n",
    "A project currently underway at Chemical Labs, Inc. requires that a substance be continually heated in a vat. A technician must check the substance’s temperature every 15 minutes. If the substance’s temperature does not exceed 102.5 degrees Celsius, then the technician does nothing. However, if the temperature is greater than 102.5 degrees Celsius, the technician must turn down the vat’s thermostat, wait 5 minutes, and check the temperature again. The technician repeats these steps until the temperature does not exceed 102.5 degrees Celsius. The director of engineering has asked you to write a program that guides the technician through this process.\n",
    "\n",
    "Here is the algorithm:\n",
    "\n",
    "Get the substance’s temperature.\n",
    "\n",
    "Repeat the following steps as long as the temperature is greater than 102.5 degrees Celsius:\n",
    "\n",
    "Tell the technician to turn down the thermostat, wait 5 minutes, and check the temperature again.\n",
    "\n",
    "Get the substance’s temperature."
   ]
  },
  {
   "cell_type": "code",
   "execution_count": 7,
   "id": "c1aacfa6",
   "metadata": {},
   "outputs": [
    {
     "name": "stdout",
     "output_type": "stream",
     "text": [
      "Please turn down the thermostat, wait\n",
      "5 minutes, and check temperature again.\n",
      "\n",
      "Is the temperature greater than 102.5 degrees?\n",
      "Type 'yes' or 'no': yes\n",
      "Please turn down the thermostat, wait\n",
      "5 minutes, and check temperature again.\n",
      "\n",
      "Is the temperature greater than 102.5 degrees?\n",
      "Type 'yes' or 'no': yes\n",
      "Please turn down the thermostat, wait\n",
      "5 minutes, and check temperature again.\n",
      "\n",
      "Is the temperature greater than 102.5 degrees?\n",
      "Type 'yes' or 'no': no\n"
     ]
    }
   ],
   "source": [
    "still_high = 'yes'\n",
    "\n",
    "while still_high == 'yes':\n",
    "    print('Please turn down the thermostat, wait\\n'\n",
    "         + '5 minutes, and check temperature again.')\n",
    "    print()\n",
    "    still_high = input('Is the temperature greater than 102.5 degrees?\\n'\n",
    "                       + 'Type \\'yes\\' or \\'no\\': ')"
   ]
  },
  {
   "cell_type": "markdown",
   "id": "40440f7d",
   "metadata": {},
   "source": [
    "## Second attempt"
   ]
  },
  {
   "cell_type": "code",
   "execution_count": 2,
   "id": "972e5ea8",
   "metadata": {},
   "outputs": [
    {
     "name": "stdout",
     "output_type": "stream",
     "text": [
      "Enter the temperature: 102.5\n",
      "Please turn down the thermostat, wait\n",
      "5 minutes, and check temperature again.\n",
      "\n",
      "Enter the temperature: 123\n",
      "Please turn down the thermostat, wait\n",
      "5 minutes, and check temperature again.\n",
      "\n",
      "Enter the temperature: 102.4\n"
     ]
    }
   ],
   "source": [
    "MAX_TEMP = 102.5\n",
    "\n",
    "temperature = float(input('Enter the temperature: '))\n",
    "\n",
    "while temperature >= MAX_TEMP:\n",
    "    print('Please turn down the thermostat, wait\\n'\n",
    "         + '5 minutes, and check temperature again.')\n",
    "    print()\n",
    "    temperature = float(input('Enter the temperature: '))"
   ]
  },
  {
   "cell_type": "markdown",
   "id": "8f0be332",
   "metadata": {},
   "source": [
    "## For loop chapter practice\n",
    "Your friend Amanda just inherited a European sports car from her uncle. Amanda lives in the United States, and she is afraid she will get a speeding ticket because the car’s speedometer indicates kilometers per hour (KPH). She has asked you to write a program that displays a table of speeds in KPH with their values converted to miles per hour (MPH). The formula for converting KPH to MPH is:\n",
    "\n",
    "MPH = KPH * 0.6214\n",
    "\n",
    "In the formula, MPH is the speed in miles per hour, and KPH is the speed in kilometers per hour.\n",
    "\n",
    "The table that your program displays should show speeds from 60 KPH through 130 KPH, in increments of 10, along with their values converted to MPH. The table should look something like this:\n",
    "\n",
    "KPH\tMPH\n",
    "60\t37.3\n",
    "70\t43.5\n",
    "80\t49.7\n",
    "etc. . . .\t\n",
    "130\t80.8"
   ]
  },
  {
   "cell_type": "code",
   "execution_count": 6,
   "id": "b52ed603",
   "metadata": {},
   "outputs": [
    {
     "name": "stdout",
     "output_type": "stream",
     "text": [
      "KPH\tMPH\n",
      "--------------\n",
      "60\t37.3\n",
      "70\t43.5\n",
      "80\t49.7\n",
      "90\t55.9\n",
      "100\t62.1\n",
      "110\t68.4\n",
      "120\t74.6\n",
      "130\t80.8\n"
     ]
    }
   ],
   "source": [
    "START_SPEED = 60\n",
    "END_SPEED = 131\n",
    "INCREMENT = 10\n",
    "CONVERSION_RATE = 0.6214\n",
    "\n",
    "print('KPH\\tMPH')\n",
    "print('--------------')\n",
    "\n",
    "for kph in range(START_SPEED, END_SPEED, INCREMENT):\n",
    "    mph = kph * CONVERSION_RATE\n",
    "    print(f'{kph}\\t{mph:.1f}')"
   ]
  },
  {
   "cell_type": "markdown",
   "id": "3f859d0f",
   "metadata": {},
   "source": [
    "## Chapter Exercises\n",
    "Rewrite the following code so it calls the range function instead of using the list [0, 1, 2, 3, 4, 5]:\n",
    "\n",
    " for x in [0, 1, 2, 3, 4, 5]:\n",
    "     print('I love to program!')"
   ]
  },
  {
   "cell_type": "code",
   "execution_count": 10,
   "id": "046ff9de",
   "metadata": {},
   "outputs": [
    {
     "name": "stdout",
     "output_type": "stream",
     "text": [
      "I love to program!\n",
      "I love to program!\n",
      "I love to program!\n",
      "I love to program!\n",
      "I love to program!\n",
      "I love to program!\n"
     ]
    }
   ],
   "source": [
    "string = 'I love to program!'\n",
    "\n",
    "for x in range(0, 6):\n",
    "    print(string)"
   ]
  },
  {
   "cell_type": "code",
   "execution_count": 12,
   "id": "b54c13dc",
   "metadata": {},
   "outputs": [
    {
     "name": "stdout",
     "output_type": "stream",
     "text": [
      "0\n",
      "1\n",
      "2\n",
      "3\n",
      "4\n",
      "5\n"
     ]
    }
   ],
   "source": [
    "for n in range(6):\n",
    "    print(n)"
   ]
  },
  {
   "cell_type": "code",
   "execution_count": 13,
   "id": "1799f4d3",
   "metadata": {},
   "outputs": [
    {
     "name": "stdout",
     "output_type": "stream",
     "text": [
      "0\n",
      "1\n",
      "3\n",
      "6\n",
      "10\n",
      "15\n"
     ]
    }
   ],
   "source": [
    "total = 0 \n",
    "\n",
    "for count in range(0, 6):\n",
    "    total += count\n",
    "    print(total)\n",
    "    "
   ]
  },
  {
   "cell_type": "code",
   "execution_count": null,
   "id": "f5be06ca",
   "metadata": {},
   "outputs": [],
   "source": []
  }
 ],
 "metadata": {
  "kernelspec": {
   "display_name": "Python 3 (ipykernel)",
   "language": "python",
   "name": "python3"
  },
  "language_info": {
   "codemirror_mode": {
    "name": "ipython",
    "version": 3
   },
   "file_extension": ".py",
   "mimetype": "text/x-python",
   "name": "python",
   "nbconvert_exporter": "python",
   "pygments_lexer": "ipython3",
   "version": "3.10.9"
  }
 },
 "nbformat": 4,
 "nbformat_minor": 5
}
