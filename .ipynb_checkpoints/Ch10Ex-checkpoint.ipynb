{
 "cells": [
  {
   "cell_type": "markdown",
   "id": "0735ba74",
   "metadata": {},
   "source": [
    "# Chapter 10 Exercises \n",
    "## Question 1 - Pet Class\n",
    "\n",
    "\n",
    "The Pet class\n",
    "\n",
    "Write a class named Pet, which should have the following data attributes:\n",
    "\n",
    "_ _name (for the name of a pet)\n",
    "\n",
    "_ _animal_type (for the type of animal that a pet is. Example values are ‘Dog’, ‘Cat’, and ‘Bird’)\n",
    "\n",
    "_ _age (for the pet’s age)\n",
    "\n",
    "The Pet class should have an _ _init_ _ method that creates these attributes. It should also have the following methods:\n",
    "\n",
    "set_name\n",
    "\n",
    "This method assigns a value to the _ _name field.\n",
    "\n",
    "set_animal_type\n",
    "\n",
    "This method assigns a value to the _ _animal_type field.\n",
    "\n",
    "set_age\n",
    "\n",
    "This method assigns a value to the _ _age field.\n",
    "\n",
    "get_name\n",
    "\n",
    "This method returns the value of the _ _ name field.\n",
    "\n",
    "get_animal_type\n",
    "\n",
    "This method returns the value of the _ _animal_type field.\n",
    "\n",
    "get_age\n",
    "\n",
    "This method returns the value of the _ _age field.\n",
    "\n",
    "Once you have written the class, write a program that creates an object of the class and prompts the user to enter the name, type, and age of his or her pet. This data should be stored as the object’s attributes. Use the object’s accessor methods to retrieve the pet’s name, type, and age and display this data on the screen."
   ]
  },
  {
   "cell_type": "markdown",
   "id": "d1421be6",
   "metadata": {},
   "source": [
    "### My first attempt at importing the class and setting up the code to execute the methods of the class."
   ]
  },
  {
   "cell_type": "code",
   "execution_count": 13,
   "id": "06f1e6e9",
   "metadata": {},
   "outputs": [
    {
     "ename": "ImportError",
     "evalue": "cannot import name 'Pet' from 'pets' (/Users/caseymiller/Documents/GitHub/pythonpracticeV2/pets.py)",
     "output_type": "error",
     "traceback": [
      "\u001b[0;31m---------------------------------------------------------------------------\u001b[0m",
      "\u001b[0;31mImportError\u001b[0m                               Traceback (most recent call last)",
      "Cell \u001b[0;32mIn[13], line 1\u001b[0m\n\u001b[0;32m----> 1\u001b[0m \u001b[38;5;28;01mfrom\u001b[39;00m \u001b[38;5;21;01mpets\u001b[39;00m \u001b[38;5;28;01mimport\u001b[39;00m Pet\n\u001b[1;32m      3\u001b[0m \u001b[38;5;28;01mdef\u001b[39;00m \u001b[38;5;21mmain\u001b[39m():\n\u001b[1;32m      4\u001b[0m     name \u001b[38;5;241m=\u001b[39m \u001b[38;5;28minput\u001b[39m(\u001b[38;5;124m'\u001b[39m\u001b[38;5;124mWhat is your pet\u001b[39m\u001b[38;5;130;01m\\'\u001b[39;00m\u001b[38;5;124ms name? \u001b[39m\u001b[38;5;124m'\u001b[39m)\n",
      "\u001b[0;31mImportError\u001b[0m: cannot import name 'Pet' from 'pets' (/Users/caseymiller/Documents/GitHub/pythonpracticeV2/pets.py)"
     ]
    }
   ],
   "source": [
    "from pets import Pet\n",
    "\n",
    "def main():\n",
    "    name = input('What is your pet\\'s name? ')\n",
    "    animal_type = input('What type of animal is your pet? ')\n",
    "    age = input('How old is your pet? ')\n",
    "    \n",
    "    pet = Pet(name, animal_type, age)\n",
    "    \n",
    "    print(pet.get_name, pet.get_type, pet.get_age)\n",
    "\n",
    "if __name__ == '__main__':\n",
    "    main()"
   ]
  },
  {
   "cell_type": "markdown",
   "id": "e70852ac",
   "metadata": {},
   "source": [
    "# Above I tried to test my class module, and I am having trouble calling it successfully. After struggling with the module being saved as a json file again, I did a little research and found that this can happen with Jupyter for whatever reason. In my research I found a workaround to this issue where you save the module to a .txt file and call it from there. It got me one step further, and I was able to get the interpreter to recognize my pets.py file, however, now I am having trouble with the actual class within the module being recognized. I will try a different method of import below "
   ]
  },
  {
   "cell_type": "code",
   "execution_count": 14,
   "id": "f78de1a9",
   "metadata": {},
   "outputs": [
    {
     "ename": "ImportError",
     "evalue": "cannot import name 'Pet' from 'pets' (/Users/caseymiller/Documents/GitHub/pythonpracticeV2/pets.py)",
     "output_type": "error",
     "traceback": [
      "\u001b[0;31m---------------------------------------------------------------------------\u001b[0m",
      "\u001b[0;31mImportError\u001b[0m                               Traceback (most recent call last)",
      "Cell \u001b[0;32mIn[14], line 1\u001b[0m\n\u001b[0;32m----> 1\u001b[0m \u001b[38;5;28;01mfrom\u001b[39;00m \u001b[38;5;21;01mpets\u001b[39;00m \u001b[38;5;28;01mimport\u001b[39;00m Pet\n\u001b[1;32m      3\u001b[0m \u001b[38;5;28;01mdef\u001b[39;00m \u001b[38;5;21mmain\u001b[39m():\n\u001b[1;32m      4\u001b[0m     name \u001b[38;5;241m=\u001b[39m \u001b[38;5;28minput\u001b[39m(\u001b[38;5;124m'\u001b[39m\u001b[38;5;124mWhat is your pet\u001b[39m\u001b[38;5;130;01m\\'\u001b[39;00m\u001b[38;5;124ms name? \u001b[39m\u001b[38;5;124m'\u001b[39m)\n",
      "\u001b[0;31mImportError\u001b[0m: cannot import name 'Pet' from 'pets' (/Users/caseymiller/Documents/GitHub/pythonpracticeV2/pets.py)"
     ]
    }
   ],
   "source": [
    "from pets import Pet\n",
    "\n",
    "def main():\n",
    "    name = input('What is your pet\\'s name? ')\n",
    "    animal_type = input('What type of animal is your pet? ')\n",
    "    age = input('How old is your pet? ')\n",
    "    \n",
    "    pet = pets.Pet(name, animal_type, age)\n",
    "    \n",
    "    print(pets.get_name, pets.get_type, pets.get_age)\n",
    "\n",
    "if __name__ == '__main__':\n",
    "    main()"
   ]
  },
  {
   "cell_type": "markdown",
   "id": "3b3923c7",
   "metadata": {},
   "source": [
    "# I noticed that my accessor method statements in line 10 were incorrect, and I added an 's' at the end of each to make them pets.get_name instead of pet.get_name. I am still having the same issue with not being able to call the module"
   ]
  },
  {
   "cell_type": "code",
   "execution_count": 19,
   "id": "bb320bb4",
   "metadata": {},
   "outputs": [
    {
     "name": "stdout",
     "output_type": "stream",
     "text": [
      "What is your pet's name? Goose\n",
      "What type of animal is your pet? Cat\n",
      "How old is your pet? 2\n",
      "Goose Cat 2\n"
     ]
    }
   ],
   "source": [
    "from pet import Pet\n",
    "\n",
    "def main():\n",
    "    name = input('What is your pet\\'s name? ')\n",
    "    animal_type = input('What type of animal is your pet? ')\n",
    "    age = input('How old is your pet? ')\n",
    "    \n",
    "    my_pet = Pet(name, animal_type, age)\n",
    "    \n",
    "    print(my_pet.get_name(), my_pet.get_type(), my_pet.get_age())\n",
    "\n",
    "if __name__ == '__main__':\n",
    "    main()"
   ]
  },
  {
   "cell_type": "markdown",
   "id": "c97cc2ef",
   "metadata": {},
   "source": [
    "# After messing with the names of the class module as well as the variable assigned to each instance of pet, I finally got it working, although I'm not entirely sure how. I know there was some sort of naming error with the different variables so I'm hoping this solves it once and for all! "
   ]
  },
  {
   "cell_type": "code",
   "execution_count": null,
   "id": "2957e854",
   "metadata": {},
   "outputs": [],
   "source": [
    "from pet import Pet\n",
    "\n",
    "def main():\n",
    "    name = input('What is your pet\\'s name? ')\n",
    "    animal_type = input('What type of animal is your pet? ')\n",
    "    age = input('How old is your pet? ')\n",
    "    \n",
    "    my_pet = Pet(name, animal_type, age)\n",
    "    \n",
    "    print(my_pet.get_name(), my_pet.get_type(), my_pet.get_age())\n",
    "\n",
    "if __name__ == '__main__':\n",
    "    main()"
   ]
  },
  {
   "cell_type": "markdown",
   "id": "3850495b",
   "metadata": {},
   "source": [
    "## Once you have written the class, write a program that creates an object of the class and prompts the user to enter the name, type, and age of his or her pet. This data should be stored as the object’s attributes. Use the object’s accessor methods to retrieve the pet’s name, type, and age and display this data on the screen."
   ]
  },
  {
   "cell_type": "code",
   "execution_count": null,
   "id": "ca1b0505",
   "metadata": {},
   "outputs": [],
   "source": []
  }
 ],
 "metadata": {
  "kernelspec": {
   "display_name": "Python 3 (ipykernel)",
   "language": "python",
   "name": "python3"
  },
  "language_info": {
   "codemirror_mode": {
    "name": "ipython",
    "version": 3
   },
   "file_extension": ".py",
   "mimetype": "text/x-python",
   "name": "python",
   "nbconvert_exporter": "python",
   "pygments_lexer": "ipython3",
   "version": "3.10.9"
  }
 },
 "nbformat": 4,
 "nbformat_minor": 5
}
