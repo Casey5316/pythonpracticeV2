{
 "cells": [
  {
   "cell_type": "code",
   "execution_count": 80,
   "id": "8a595531",
   "metadata": {},
   "outputs": [
    {
     "name": "stdout",
     "output_type": "stream",
     "text": [
      "Enter number of seconds: 36805\n",
      "Here is the time in hours, minutes, and seconds: \n",
      "Hours:  10.0\n",
      "Minutes:  13.0\n",
      "Seconds:  25.0\n"
     ]
    }
   ],
   "source": [
    "# Get total number of seconds\n",
    "total_seconds = float(input('Enter number of seconds: '))\n",
    "\n",
    "# Calculate with remainders\n",
    "hours = total_seconds // 3600\n",
    "\n",
    "minutes = (total_seconds // 60) % 60\n",
    "\n",
    "seconds = total_seconds % 60\n",
    "\n",
    "# Display the amount of time in H, M, S, from seconds only\n",
    "print('Here is the time in hours, minutes, and seconds: ')\n",
    "print('Hours: ', hours)\n",
    "print('Minutes: ', minutes)\n",
    "print('Seconds: ', seconds)"
   ]
  },
  {
   "cell_type": "code",
   "execution_count": 12,
   "id": "94999fa0",
   "metadata": {},
   "outputs": [
    {
     "name": "stdout",
     "output_type": "stream",
     "text": [
      "12\n"
     ]
    }
   ],
   "source": [
    "print('1' + '2')"
   ]
  },
  {
   "cell_type": "code",
   "execution_count": 13,
   "id": "fba7f8ed",
   "metadata": {},
   "outputs": [
    {
     "name": "stdout",
     "output_type": "stream",
     "text": [
      "hello\n"
     ]
    }
   ],
   "source": [
    "print('h' 'e' 'l' 'l' 'o')"
   ]
  },
  {
   "cell_type": "code",
   "execution_count": 14,
   "id": "05917e66",
   "metadata": {},
   "outputs": [
    {
     "name": "stdout",
     "output_type": "stream",
     "text": [
      "Hello\tI\tam\tbored\n"
     ]
    }
   ],
   "source": [
    "# \\t is tab \n",
    "print('Hello\\tI\\tam\\tbored')"
   ]
  },
  {
   "cell_type": "code",
   "execution_count": 15,
   "id": "da2abf34",
   "metadata": {},
   "outputs": [
    {
     "name": "stdout",
     "output_type": "stream",
     "text": [
      "Hello\n",
      "I\n",
      "am\n",
      "bored\n"
     ]
    }
   ],
   "source": [
    "# \\n is newline \n",
    "print('Hello\\nI\\nam\\nbored')"
   ]
  },
  {
   "cell_type": "code",
   "execution_count": 16,
   "id": "94d49c69",
   "metadata": {},
   "outputs": [
    {
     "name": "stdout",
     "output_type": "stream",
     "text": [
      "Enter any number: 4543\n",
      "Enter any number, again: 23555\n",
      "Your total is 107010365.00\n"
     ]
    }
   ],
   "source": [
    "# Gather numbers to calculate\n",
    "number_1 = float(input('Enter any number: '))\n",
    "number_2 = float(input('Enter any number, again: '))\n",
    "\n",
    "# Calculate numbers\n",
    "calculation = number_1 * number_2\n",
    "\n",
    "# Display result with only 2 decimal places\n",
    "print(f'Your total is {calculation:.2f}')"
   ]
  },
  {
   "cell_type": "code",
   "execution_count": 20,
   "id": "b456c487",
   "metadata": {},
   "outputs": [
    {
     "name": "stdout",
     "output_type": "stream",
     "text": [
      "0.7\n"
     ]
    }
   ],
   "source": [
    "# Format with only one decimal place to a math equation\n",
    "a = 2\n",
    "b = 3\n",
    "print(f'{a / b:.1f}')"
   ]
  },
  {
   "cell_type": "code",
   "execution_count": 22,
   "id": "80e67bbd",
   "metadata": {},
   "outputs": [
    {
     "name": "stdout",
     "output_type": "stream",
     "text": [
      "123,456,789.12345679\n"
     ]
    }
   ],
   "source": [
    "# Format with comma separation\n",
    "number = 123456789.123456789\n",
    "print(f'{number:,}')"
   ]
  },
  {
   "cell_type": "code",
   "execution_count": 23,
   "id": "833f92e5",
   "metadata": {},
   "outputs": [
    {
     "name": "stdout",
     "output_type": "stream",
     "text": [
      "123,456,789.12\n"
     ]
    }
   ],
   "source": [
    "# Format with comma separation and only 2 decimal places\n",
    "number = 123456789.123456789\n",
    "print(f'{number:,.2f}')"
   ]
  },
  {
   "cell_type": "code",
   "execution_count": 28,
   "id": "49dfb27b",
   "metadata": {},
   "outputs": [
    {
     "name": "stdout",
     "output_type": "stream",
     "text": [
      "Your annual pay is $50,610.48\n"
     ]
    }
   ],
   "source": [
    "# Format amount to display with dollar sign\n",
    "monthly_pay = 4217.54\n",
    "annual_pay = monthly_pay * 12\n",
    "\n",
    "print(f'Your annual pay is ${annual_pay:,.2f}')"
   ]
  },
  {
   "cell_type": "code",
   "execution_count": 33,
   "id": "14249b6c",
   "metadata": {},
   "outputs": [
    {
     "name": "stdout",
     "output_type": "stream",
     "text": [
      "Your discount earned you 20% off today!\n"
     ]
    }
   ],
   "source": [
    "# Format amount in a percentage\n",
    "discount = 0.2\n",
    "print(f'Your discount earned you {discount:.0%} off today!')"
   ]
  },
  {
   "cell_type": "code",
   "execution_count": 34,
   "id": "d90a8552",
   "metadata": {},
   "outputs": [
    {
     "name": "stdout",
     "output_type": "stream",
     "text": [
      "1.234568e+04\n"
     ]
    }
   ],
   "source": [
    "# Display equations in scientific notation\n",
    "number = 12345.6789\n",
    "print(f'{number:e}')"
   ]
  },
  {
   "cell_type": "code",
   "execution_count": 41,
   "id": "83063b20",
   "metadata": {},
   "outputs": [
    {
     "name": "stdout",
     "output_type": "stream",
     "text": [
      "1.23e+04\n"
     ]
    }
   ],
   "source": [
    "# Display equation in scientific notation with only 2 decimal places\n",
    "number = 12345.6789\n",
    "print(f'{number:.2e}')"
   ]
  },
  {
   "cell_type": "code",
   "execution_count": 43,
   "id": "255ff2d4",
   "metadata": {},
   "outputs": [
    {
     "name": "stdout",
     "output_type": "stream",
     "text": [
      "123,456\n"
     ]
    }
   ],
   "source": [
    "# Formatting Integers\n",
    "# Separating an integer with commas using\n",
    "number = 123456\n",
    "print(f'{number:,d}')"
   ]
  },
  {
   "cell_type": "code",
   "execution_count": 47,
   "id": "b5a7307f",
   "metadata": {},
   "outputs": [
    {
     "name": "stdout",
     "output_type": "stream",
     "text": [
      "The number is              99\n"
     ]
    }
   ],
   "source": [
    "# Specifying field width or number of characters that display in a number\n",
    "number = 99\n",
    "print(f'The number is {number:15}')\n",
    "# The variable is printed 15 spaces away from the rest of the string\n",
    "# 99 is only two digits long, however it is displayed as if it were 15 characters long"
   ]
  },
  {
   "cell_type": "code",
   "execution_count": 48,
   "id": "fe640aac",
   "metadata": {},
   "outputs": [
    {
     "name": "stdout",
     "output_type": "stream",
     "text": [
      "The number is    12,345.68\n"
     ]
    }
   ],
   "source": [
    "# Formatting a floating point number to 2 decimal places, with comma separators, and field width of 12 \n",
    "number = 12345.6789\n",
    "print(f'The number is {number:12,.2f}')"
   ]
  },
  {
   "cell_type": "code",
   "execution_count": 52,
   "id": "9e30a3ed",
   "metadata": {},
   "outputs": [
    {
     "name": "stdout",
     "output_type": "stream",
     "text": [
      "        3438.48         438.44\n",
      "        3892.43        3897.23\n",
      "       23897.23       34245.68\n"
     ]
    }
   ],
   "source": [
    "# This program displays numbers in two columns \n",
    "num1 = 3438.484\n",
    "num2 = 438.438\n",
    "num3 = 3892.43\n",
    "num4 = 3897.234\n",
    "num5 = 23897.23\n",
    "num6 = 34245.675\n",
    "\n",
    "# Each number displayed with field width of 15 spaces and rounded to 2 decimal places\n",
    "print(f'{num1:15.2f}{num2:15.2f}')\n",
    "print(f'{num3:15.2f}{num4:15.2f}')\n",
    "print(f'{num5:15.2f}{num6:15.2f}')"
   ]
  },
  {
   "cell_type": "code",
   "execution_count": 53,
   "id": "593cfeaa",
   "metadata": {},
   "outputs": [
    {
     "name": "stdout",
     "output_type": "stream",
     "text": [
      "The number is         22.\n"
     ]
    }
   ],
   "source": [
    "# Numbers default right-align to the field width \n",
    "number = 22\n",
    "print(f'The number is {number:10}.')"
   ]
  },
  {
   "cell_type": "code",
   "execution_count": 55,
   "id": "502fbe24",
   "metadata": {},
   "outputs": [
    {
     "name": "stdout",
     "output_type": "stream",
     "text": [
      "Hello Casey     , nice to meet you.\n"
     ]
    }
   ],
   "source": [
    "# Strings default left-align to the field of width\n",
    "name = \"Casey\"\n",
    "print(f'Hello {name:10}, nice to meet you.')"
   ]
  },
  {
   "cell_type": "code",
   "execution_count": 58,
   "id": "ef2f2ff1",
   "metadata": {},
   "outputs": [
    {
     "name": "stdout",
     "output_type": "stream",
     "text": [
      "        15\n",
      "15        \n",
      "           15\n",
      "    15    \n"
     ]
    }
   ],
   "source": [
    "# Change alignment in integers with <, >, ^\n",
    "number = 15\n",
    "print(f'{number:10d}')\n",
    "print(f'{number:<10d}')\n",
    "print(f'{number:>13d}')\n",
    "print(f'{number:^10d}')"
   ]
  },
  {
   "cell_type": "code",
   "execution_count": 60,
   "id": "a90835d1",
   "metadata": {},
   "outputs": [
    {
     "name": "stdout",
     "output_type": "stream",
     "text": [
      "     15.34\n",
      "15.34     \n",
      "        15.34\n",
      "  15.34   \n"
     ]
    }
   ],
   "source": [
    "# Change alignment in floating point numbers with <, >, ^\n",
    "number = 15.335\n",
    "print(f'{number:10f}')\n",
    "print(f'{number:<10f}')\n",
    "print(f'{number:>13f}')\n",
    "print(f'{number:^10f}')"
   ]
  },
  {
   "cell_type": "code",
   "execution_count": 62,
   "id": "18e08339",
   "metadata": {},
   "outputs": [
    {
     "name": "stdout",
     "output_type": "stream",
     "text": [
      "***       Casey        ***\n",
      "***       Logan        ***\n",
      "***       Skylar       ***\n",
      "***       Monke        ***\n",
      "***      Peepants      ***\n",
      "***      Poopants      ***\n"
     ]
    }
   ],
   "source": [
    "# Center strings with names\n",
    "name1 = \"Casey\" \n",
    "name2 = \"Logan\"\n",
    "name3 = \"Skylar\"\n",
    "name4 = \"Monke\"\n",
    "name5 = \"Peepants\"\n",
    "name6 = \"Poopants\"\n",
    "\n",
    "print(f'***{name1:^20}***')\n",
    "print(f'***{name2:^20}***')\n",
    "print(f'***{name3:^20}***')\n",
    "print(f'***{name4:^20}***')\n",
    "print(f'***{name5:^20}***')\n",
    "print(f'***{name6:^20}***')      "
   ]
  },
  {
   "cell_type": "code",
   "execution_count": 64,
   "id": "a372fa8d",
   "metadata": {},
   "outputs": [
    {
     "name": "stdout",
     "output_type": "stream",
     "text": [
      "      2,500.60      \n"
     ]
    }
   ],
   "source": [
    "# Shows the order of designators\n",
    "#[alignment][width][,][.precision][type]\n",
    "number = 2500.598734\n",
    "print(f'{number:^20,.2f}')"
   ]
  },
  {
   "cell_type": "code",
   "execution_count": 68,
   "id": "1f1d3853",
   "metadata": {},
   "outputs": [
    {
     "name": "stdout",
     "output_type": "stream",
     "text": [
      "Employee name: Casey, +Department: sales, +Position: manager.\n",
      "Employee name: Casey, Department: {department}, Position: {position}.\n"
     ]
    }
   ],
   "source": [
    "# Formatted strings that span multiple lines must be lead with \"f'\"\n",
    "# If not, string will not print {}\n",
    "name = 'Casey'\n",
    "department = 'sales'\n",
    "position = 'manager'\n",
    "\n",
    "print(f'Employee name: {name}, +'\n",
    "     f'Department: {department}, +'\n",
    "     f'Position: {position}.')\n",
    "\n",
    "# If you forget to format it will print as an unformatted string\n",
    "# Also, using implicit concatenation (missing the +)\n",
    "name = 'Casey'\n",
    "department = 'sales'\n",
    "position = 'manager'\n",
    "\n",
    "print(f'Employee name: {name}, '\n",
    "     'Department: {department}, '\n",
    "     'Position: {position}.')"
   ]
  },
  {
   "cell_type": "code",
   "execution_count": 89,
   "id": "16b7329f",
   "metadata": {},
   "outputs": [
    {
     "name": "stdout",
     "output_type": "stream",
     "text": [
      "Your total is $123.41. You saved $13.71 today!\n"
     ]
    }
   ],
   "source": [
    "# Named constant exercise \n",
    "# Creating a named constant for a 10% discount (ALL CAPS)\n",
    "DISCOUNT = 0.1\n",
    "\n",
    "# Items to apply discount to \n",
    "item_1 = 64.25\n",
    "item_2 = 72.87\n",
    "\n",
    "# Calculating discount percentage\n",
    "discount_1 = item_1 * DISCOUNT\n",
    "discount_2 = item_2 * DISCOUNT\n",
    "\n",
    "# Applying discount to each item individually and adding total\n",
    "price_1 = item_1 - discount_1\n",
    "price_2 = item_2 - discount_2\n",
    "\n",
    "# Totalling items and discounts\n",
    "total = price_1 + price_2\n",
    "discount = discount_1 + discount_2\n",
    "\n",
    "# Display total price and total money saved via discounts\n",
    "print(f'Your total is ${total:.2f}. You saved ${discount:.2f} today!')\n"
   ]
  },
  {
   "cell_type": "code",
   "execution_count": null,
   "id": "9cddb809",
   "metadata": {},
   "outputs": [],
   "source": []
  }
 ],
 "metadata": {
  "kernelspec": {
   "display_name": "Python 3 (ipykernel)",
   "language": "python",
   "name": "python3"
  },
  "language_info": {
   "codemirror_mode": {
    "name": "ipython",
    "version": 3
   },
   "file_extension": ".py",
   "mimetype": "text/x-python",
   "name": "python",
   "nbconvert_exporter": "python",
   "pygments_lexer": "ipython3",
   "version": "3.10.9"
  }
 },
 "nbformat": 4,
 "nbformat_minor": 5
}
