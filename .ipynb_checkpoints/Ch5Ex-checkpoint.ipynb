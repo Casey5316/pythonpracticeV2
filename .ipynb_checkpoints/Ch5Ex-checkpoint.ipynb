{
 "cells": [
  {
   "cell_type": "markdown",
   "id": "1b2fed37",
   "metadata": {},
   "source": [
    "# Chapter 5 Exercises\n",
    "## Algorithm Workbench"
   ]
  },
  {
   "cell_type": "markdown",
   "id": "e130785d",
   "metadata": {},
   "source": [
    "## Problem 6\n",
    "Write a statement that generates a random number in the range of 1 through 100 and assigns it to a variable named rand."
   ]
  },
  {
   "cell_type": "code",
   "execution_count": 4,
   "id": "fa058b3c",
   "metadata": {},
   "outputs": [
    {
     "name": "stdout",
     "output_type": "stream",
     "text": [
      "62\n",
      "53\n",
      "83\n",
      "26\n",
      "98\n",
      "19\n",
      "85\n",
      "94\n",
      "4\n",
      "68\n"
     ]
    }
   ],
   "source": [
    "# import random library to \n",
    "# randomize our integer\n",
    "import random\n",
    "\n",
    "# Added a for loop to show that\n",
    "# number is random\n",
    "# Statement displays random integer in range\n",
    "# 1 - 100. Loop generates 10 numbers\n",
    "for i in range(10):\n",
    "    rand = random.randint(1, 100)\n",
    "    print(rand)"
   ]
  },
  {
   "cell_type": "markdown",
   "id": "ea988946",
   "metadata": {},
   "source": [
    "## Problem 7\n",
    "The following statement calls a function named half, which returns a value that is half that of the argument. (Assume the number variable references a float value.) Write code for the function.\n",
    "\n",
    "result = half(number)"
   ]
  },
  {
   "cell_type": "code",
   "execution_count": 7,
   "id": "0a576b73",
   "metadata": {},
   "outputs": [
    {
     "name": "stdout",
     "output_type": "stream",
     "text": [
      "Enter a number to be divided in half: 1234564586095738\n",
      "617,282,293,047,869.0 is half of the number you entered.\n"
     ]
    }
   ],
   "source": [
    "# main program requests a number\n",
    "# calls half(number) function to divide number\n",
    "# displays result\n",
    "def main():\n",
    "    number = float(input('Enter a number to be divided in half: '))\n",
    "    half(number)\n",
    "    print(f'{half(number):,} is half of the number you entered.')\n",
    "    \n",
    "# function that divides number in half \n",
    "# and returns the result\n",
    "def half(number):\n",
    "    result = number / 2\n",
    "    return result\n",
    "\n",
    "# call main function to run the program\n",
    "main()"
   ]
  },
  {
   "cell_type": "markdown",
   "id": "3acc8cc0",
   "metadata": {},
   "source": [
    "### I checked the above and it is indeed correct! I mainly wanted to see that my comma format was correct here."
   ]
  },
  {
   "cell_type": "markdown",
   "id": "830f43d6",
   "metadata": {},
   "source": [
    "## Programming Exercises"
   ]
  },
  {
   "cell_type": "markdown",
   "id": "976d22a9",
   "metadata": {},
   "source": [
    "## Question 1\n",
    "## Kilometer Converter\n",
    "Write a program that asks the user to enter a distance in kilometers, then converts that distance to miles. The conversion formula is as follows:\n",
    "\n",
    "miles = kilometers * 0.6214"
   ]
  },
  {
   "cell_type": "code",
   "execution_count": 5,
   "id": "08d39609",
   "metadata": {},
   "outputs": [
    {
     "name": "stdout",
     "output_type": "stream",
     "text": [
      "This program converts kilometers to miles.\n",
      "Would you like to start? Press 'y' for yes\n",
      "or 'n' for no: y\n",
      "Enter the number of kilometers: 45\n",
      "45.0 kilometers is equal to 28.0 miles.\n",
      "Do you want to convert another value?\n",
      "Enter 'y' for yes or 'n' for no: y\n",
      "Enter the number of kilometers: 75\n",
      "75.0 kilometers is equal to 46.6 miles.\n",
      "Do you want to convert another value?\n",
      "Enter 'y' for yes or 'n' for no: y\n",
      "Enter the number of kilometers: 17554.56\n",
      "17,554.6 kilometers is equal to 10,908.4 miles.\n",
      "Do you want to convert another value?\n",
      "Enter 'y' for yes or 'n' for no: n\n"
     ]
    }
   ],
   "source": [
    "# Displays intro instructions \n",
    "# Gets number of kilometers and \n",
    "# displays conversion utilizing \n",
    "# convert_to_miles function\n",
    "def main():\n",
    "    kilometers = float(input('Enter the number of kilometers: '))\n",
    "    print(f'{kilometers:,.1f} kilometers is equal to {convert_to_miles(kilometers):,.1f} miles.')\n",
    "\n",
    "# Conversion function that\n",
    "# converts kilometers to miles\n",
    "# returns value to main\n",
    "def convert_to_miles(kilometers):\n",
    "    miles = kilometers * 0.6214\n",
    "    return miles\n",
    "\n",
    "# prints intro message and starts while loop for another conversion\n",
    "another_conversion = input('This program converts kilometers to miles.\\n'\n",
    "                          + 'Would you like to start? Press \\'y\\' for yes\\n'\n",
    "                          + 'or \\'n\\' for no: ')\n",
    "\n",
    "# while loop that runs main while user wants to convert a value\n",
    "while another_conversion == 'y' or another_conversion == 'Y':\n",
    "    main()\n",
    "    another_conversion = input('Do you want to convert another value?\\n'\n",
    "                          + 'Enter \\'y\\' for yes or \\'n\\' for no: ')"
   ]
  },
  {
   "cell_type": "markdown",
   "id": "ff2c337f",
   "metadata": {},
   "source": [
    "## I'm very surprised that I got this one first try! I intend on spicing it up with a while loop that allows multiple conversions "
   ]
  },
  {
   "cell_type": "markdown",
   "id": "1a2f2d5a",
   "metadata": {},
   "source": [
    "## I was able to surround the call to main( ) with a while loop that enables as many conversions as the user may need. "
   ]
  },
  {
   "cell_type": "markdown",
   "id": "f1c97ad4",
   "metadata": {},
   "source": [
    "## Problem 17 - Prime Numbers\n",
    "A prime number is a number that is only evenly divisible by itself and 1. For example, the number 5 is prime because it can only be evenly divided by 1 and 5. The number 6, however, is not prime because it can be divided evenly by 1, 2, 3, and 6.\n",
    "\n",
    "Write a Boolean function named is_prime which takes an integer as an argument and returns true if the argument is a prime number, or false otherwise. Use the function in a program that prompts the user to enter a number then displays a message indicating whether the number is prime.\n",
    "\n"
   ]
  },
  {
   "cell_type": "code",
   "execution_count": 13,
   "id": "ada26827",
   "metadata": {},
   "outputs": [
    {
     "name": "stdout",
     "output_type": "stream",
     "text": [
      "Enter a number: -5\n",
      "Invalid data entry. Please enter\n",
      "a number greater than zero.\n",
      "Enter a number: -2\n",
      "Invalid data entry. Please enter\n",
      "a number greater than zero.\n",
      "Enter a number: 86\n",
      "The number is not a prime number.\n"
     ]
    }
   ],
   "source": [
    "# main function that runs is_prime \n",
    "# and if statement determines whether\n",
    "# number returned is prime\n",
    "def main():\n",
    "    is_prime(number)\n",
    "\n",
    "    if is_prime(number) == True:\n",
    "        print('The number is a prime number.')\n",
    "    \n",
    "    else:\n",
    "        print('The number is not a prime number.')\n",
    "        \n",
    "        \n",
    "        \n",
    "# function that determines whether a number\n",
    "# is prime or not\n",
    "def is_prime(number):\n",
    "    for i in range(2, number):\n",
    "        if (number % i) == 0:\n",
    "            return False\n",
    "    return True\n",
    "\n",
    "\n",
    "\n",
    "# gets number from user\n",
    "number = int(input('Enter a number: '))\n",
    "\n",
    "# while loop that won't allow a\n",
    "# number entry less than 1\n",
    "while number < 1:\n",
    "    print('Invalid data entry. Please enter\\n'\n",
    "         + 'a number greater than zero.')\n",
    "    number = int(input('Enter a number: '))\n",
    "\n",
    "# calls main function    \n",
    "main()"
   ]
  },
  {
   "cell_type": "markdown",
   "id": "c1ad05b2",
   "metadata": {},
   "source": [
    "## Problem 18 - Prime Number List \n",
    "This exercise assumes that you have already written the is_prime function in Programming Exercise 17. Write another program that displays all of the prime numbers from 1 to 100. The program should have a loop that calls the is_prime function.\n",
    "\n"
   ]
  },
  {
   "cell_type": "code",
   "execution_count": 14,
   "id": "c0d4e55d",
   "metadata": {},
   "outputs": [
    {
     "name": "stdout",
     "output_type": "stream",
     "text": [
      "1\n",
      "2\n",
      "3\n",
      "5\n",
      "7\n",
      "11\n",
      "13\n",
      "17\n",
      "19\n",
      "23\n",
      "29\n",
      "31\n",
      "37\n",
      "41\n",
      "43\n",
      "47\n",
      "53\n",
      "59\n",
      "61\n",
      "67\n",
      "71\n",
      "73\n",
      "79\n",
      "83\n",
      "89\n",
      "97\n"
     ]
    }
   ],
   "source": [
    "# for loop that determines prime numbers\n",
    "# between 1 and 100 using the is_prime\n",
    "# function\n",
    "for i in range(1, 101):\n",
    "    if is_prime(i):\n",
    "        print(i)"
   ]
  },
  {
   "cell_type": "markdown",
   "id": "0d2b3d15",
   "metadata": {},
   "source": [
    "## Problem 20 - Random Number Guessing Game\n",
    "Write a program that generates a random number in the range of 1 through 100, and asks the user to guess what the number is. If the user’s guess is higher than the random number, the program should display “Too high, try again.” If the user’s guess is lower than the random number, the program should display “Too low, try again.” If the user guesses the number, the application should congratulate the user and generate a new random number so the game can start over.\n",
    "\n",
    "Optional Enhancement: Enhance the game so it keeps count of the number of guesses that the user makes. When the user correctly guesses the random number, the program should display the number of guesses.\n",
    "\n"
   ]
  },
  {
   "cell_type": "code",
   "execution_count": 3,
   "id": "d58f4dee",
   "metadata": {},
   "outputs": [
    {
     "name": "stdout",
     "output_type": "stream",
     "text": [
      "Welcome to the random number guessing game!\n",
      "Guess a number between 1 and 100!\n",
      "15\n",
      "Too low, try again.\n",
      "Enter a number: 45\n",
      "Too high, try again.\n",
      "Enter a number: 34\n",
      "Too low, try again.\n",
      "Enter a number: 36\n",
      "Too high, try again.\n",
      "Enter a number: 35\n",
      "Well done! You guessed the random number!\n",
      "You guessed the number in 4 guesses!\n"
     ]
    }
   ],
   "source": [
    "# import random libraries\n",
    "import random\n",
    "\n",
    "# main function runs program\n",
    "# gets guess and generates random number\n",
    "# uses if statements to give hints if too\n",
    "# high or too low\n",
    "# congratulates user if guesses correct\n",
    "def main():\n",
    "    guess = int(input(''))\n",
    "    number = number_generation(guess)\n",
    "    number_of_guesses = 0\n",
    "    while guess != number:\n",
    "        number_of_guesses += 1\n",
    "        \n",
    "        if guess < number:\n",
    "            print('Too low, try again.')\n",
    "        \n",
    "        elif guess > number:\n",
    "            print('Too high, try again.')\n",
    "        \n",
    "        elif guess < 0 or guess > 100:\n",
    "            print('Invalid number entry. Enter a\\n'\n",
    "                 + 'number between 1 and 100.')\n",
    "        guess = int(input('Enter a number: '))\n",
    "    if guess == number:\n",
    "            print('Well done! You guessed the random number!')\n",
    "            print(f'You guessed the number in {number_of_guesses} guesses!')\n",
    "        \n",
    "        \n",
    "# function that generates random number\n",
    "# and returns to main\n",
    "def number_generation(guess):\n",
    "    number = random.randint(1, 100)\n",
    "    return number\n",
    "    \n",
    "    \n",
    "# Beginning message displays at startup\n",
    "# Runs main program\n",
    "print('Welcome to the random number guessing game!\\n'\n",
    "      + 'Guess a number between 1 and 100!')\n",
    "main()"
   ]
  },
  {
   "cell_type": "markdown",
   "id": "d41ad775",
   "metadata": {},
   "source": [
    "## I'm not entirely sure why my elif statement on line 20 won't execute, but overall everything else seems to work fine! "
   ]
  },
  {
   "cell_type": "markdown",
   "id": "4298014e",
   "metadata": {},
   "source": [
    "## I came back and added the guess counter a little later for fun"
   ]
  },
  {
   "cell_type": "markdown",
   "id": "34b678ec",
   "metadata": {},
   "source": [
    "# Problems for fun \n",
    "## Problem 11 - Math Quiz\n",
    "Write a program that gives simple math quizzes. The program should display two random numbers that are to be added, such as:\n",
    "\n",
    "247 + 129\n"
   ]
  },
  {
   "cell_type": "code",
   "execution_count": 2,
   "id": "d1cdada0",
   "metadata": {},
   "outputs": [
    {
     "name": "stdout",
     "output_type": "stream",
     "text": [
      "INTEGER ADDITION QUIZ!\n",
      "\n",
      "Two random numbers will be generated,\n",
      "see if you can guess the sum of the\n",
      "two numbers. There are 10 questions!\n",
      "-------------------------------------\n",
      "\n",
      "Question 1: 25 + 4 = ?\n",
      "\n",
      "29\n",
      "\n",
      "Answer 1: Correct!\n",
      "\n",
      "*******************************\n",
      "\n",
      "Question 2: 15 + 82 = ?\n",
      "\n",
      "97\n",
      "\n",
      "Answer 2: Correct!\n",
      "\n",
      "*******************************\n",
      "\n",
      "Question 3: 37 + 78 = ?\n",
      "\n",
      "115\n",
      "\n",
      "Answer 3: Correct!\n",
      "\n",
      "*******************************\n",
      "\n",
      "Question 4: 82 + 56 = ?\n",
      "\n",
      "138\n",
      "\n",
      "Answer 4: Correct!\n",
      "\n",
      "*******************************\n",
      "\n",
      "Question 5: 54 + 60 = ?\n",
      "\n",
      "114\n",
      "\n",
      "Answer 5: Correct!\n",
      "\n",
      "*******************************\n",
      "\n",
      "Question 6: 44 + 87 = ?\n",
      "\n",
      "131\n",
      "\n",
      "Answer 6: Correct!\n",
      "\n",
      "*******************************\n",
      "\n",
      "Question 7: 56 + 60 = ?\n",
      "\n",
      "116\n",
      "\n",
      "Answer 7: Correct!\n",
      "\n",
      "*******************************\n",
      "\n",
      "Question 8: 26 + 37 = ?\n",
      "\n",
      "3\n",
      "\n",
      "Answer 8: Incorrect, try again.\n",
      "\n",
      "*******************************\n",
      "\n",
      "Question 9: 87 + 67 = ?\n",
      "\n",
      "3\n",
      "\n",
      "Answer 9: Incorrect, try again.\n",
      "\n",
      "*******************************\n",
      "\n",
      "Question 10: 61 + 38 = ?\n",
      "\n",
      "3\n",
      "\n",
      "Answer 10: Incorrect.\n",
      "You have no more attempts.\n",
      "\n",
      "*******************************\n",
      "\n",
      "Number correct:  7\n",
      "You scored a C on the test.\n",
      "Not too bad!\n"
     ]
    }
   ],
   "source": [
    "import random\n",
    "\n",
    "# main function takes two random numbers \n",
    "# from random_numbers inside a for loop\n",
    "# that creates 10 questions\n",
    "def main():\n",
    "    MIN_Q = 0\n",
    "    MAX_Q = 10\n",
    "    correct = 0\n",
    "    for question in range(MIN_Q, MAX_Q):\n",
    "        number_1, number_2 = random_numbers(0, 1)\n",
    "        print(f'Question {question + 1}: {number_1} + {number_2} = ?\\n')\n",
    "        guess = int(input(''))\n",
    "        print()\n",
    "        \n",
    "        if guess == (number_1 + number_2):              # if statement determines if user answer is correct\n",
    "            print(f'Answer {question + 1}: Correct!\\n') \n",
    "            print('*******************************\\n')\n",
    "            correct += 1  # if user is correct, a correct answer is added to the total\n",
    "            \n",
    "        else:\n",
    "            if question == MAX_Q - 1:\n",
    "                print(f'Answer {question + 1}: Incorrect.\\n'\n",
    "                      + 'You have no more attempts.\\n')\n",
    "                print('*******************************\\n')\n",
    "        \n",
    "            elif guess != (number_1 + number_2):\n",
    "                print(f'Answer {question + 1}: Incorrect, try again.\\n')\n",
    "                print('*******************************\\n')\n",
    "    \n",
    "    # Displays number of correct answers and letter grade assigned\n",
    "    # at end of test\n",
    "    print('Number correct: ', correct)\n",
    "    letter_grade = assign_letter_grade(correct)\n",
    "        \n",
    "\n",
    "# function that calculates average and uses\n",
    "# if statement to determine a letter grade \n",
    "def assign_letter_grade(number_correct):\n",
    "    average = number_correct / 10\n",
    "    if average >= 0.9:\n",
    "        letter_grade = print('You scored an A on the test!\\n'\n",
    "             + 'Great job!\\n')\n",
    "        \n",
    "    elif average >= 0.8:\n",
    "        letter_grade = print('You scored a B on the test.\\n'\n",
    "             + 'Well done!\\n')\n",
    "        \n",
    "    elif average >= 0.7:\n",
    "        letter_grade = print('You scored a C on the test.\\n'\n",
    "             + 'Not too bad!')\n",
    "        \n",
    "    elif average >= 0.6:\n",
    "        letter_grade = print('You scored a D on the test.\\n'\n",
    "             + 'Best to study harder!')\n",
    "        \n",
    "    elif average < 0.6:\n",
    "        letter_grade = print('You failed the test. Better\\n'\n",
    "             + 'crack open a book!')  \n",
    "\n",
    "        \n",
    "\n",
    "        \n",
    "# creates and returns two random numbers\n",
    "# to be added\n",
    "def random_numbers(num1, num2):\n",
    "    number_1 = random.randint(1, 100)\n",
    "    number_2 = random.randint(1, 100)\n",
    "    return (number_1, number_2)\n",
    "\n",
    "\n",
    "\n",
    "\n",
    "# Prints intro message\n",
    "print('INTEGER ADDITION QUIZ!\\n\\n'\n",
    "         + 'Two random numbers will be generated,\\n'\n",
    "         + 'see if you can guess the sum of the\\n'\n",
    "      + 'two numbers. There are 10 questions!')\n",
    "print('-------------------------------------\\n')\n",
    "\n",
    "# call to main function\n",
    "main()"
   ]
  },
  {
   "cell_type": "markdown",
   "id": "5bd2b909",
   "metadata": {},
   "source": []
  }
 ],
 "metadata": {
  "kernelspec": {
   "display_name": "Python 3 (ipykernel)",
   "language": "python",
   "name": "python3"
  },
  "language_info": {
   "codemirror_mode": {
    "name": "ipython",
    "version": 3
   },
   "file_extension": ".py",
   "mimetype": "text/x-python",
   "name": "python",
   "nbconvert_exporter": "python",
   "pygments_lexer": "ipython3",
   "version": "3.10.9"
  }
 },
 "nbformat": 4,
 "nbformat_minor": 5
}
