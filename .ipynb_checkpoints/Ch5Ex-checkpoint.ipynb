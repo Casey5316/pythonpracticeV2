{
 "cells": [
  {
   "cell_type": "markdown",
   "id": "04948f19",
   "metadata": {},
   "source": [
    "# Chapter 5 Exercises\n",
    "## Algorithm Workbench"
   ]
  },
  {
   "cell_type": "markdown",
   "id": "0118e405",
   "metadata": {},
   "source": [
    "## Problem 6\n",
    "Write a statement that generates a random number in the range of 1 through 100 and assigns it to a variable named rand."
   ]
  },
  {
   "cell_type": "code",
   "execution_count": 4,
   "id": "8ee8536b",
   "metadata": {},
   "outputs": [
    {
     "name": "stdout",
     "output_type": "stream",
     "text": [
      "62\n",
      "53\n",
      "83\n",
      "26\n",
      "98\n",
      "19\n",
      "85\n",
      "94\n",
      "4\n",
      "68\n"
     ]
    }
   ],
   "source": [
    "# import random library to \n",
    "# randomize our integer\n",
    "import random\n",
    "\n",
    "# Added a for loop to show that\n",
    "# number is random\n",
    "# Statement displays random integer in range\n",
    "# 1 - 100. Loop generates 10 numbers\n",
    "for i in range(10):\n",
    "    rand = random.randint(1, 100)\n",
    "    print(rand)"
   ]
  },
  {
   "cell_type": "markdown",
   "id": "8413615a",
   "metadata": {},
   "source": [
    "## Problem 7\n",
    "The following statement calls a function named half, which returns a value that is half that of the argument. (Assume the number variable references a float value.) Write code for the function.\n",
    "\n",
    "result = half(number)"
   ]
  },
  {
   "cell_type": "code",
   "execution_count": 6,
   "id": "4be557d9",
   "metadata": {},
   "outputs": [
    {
     "name": "stdout",
     "output_type": "stream",
     "text": [
      "Enter a number to be divided in half: 5.489\n",
      "2.7445 is half of the number you entered.\n"
     ]
    }
   ],
   "source": [
    "# main program requests a number\n",
    "# calls half(number) function to divide number\n",
    "# displays result\n",
    "def main():\n",
    "    number = float(input('Enter a number to be divided in half: '))\n",
    "    half(number)\n",
    "    print(f'{half(number):,} is half of the number you entered.')\n",
    "    \n",
    "# function that divides number in half \n",
    "# and returns the result\n",
    "def half(number):\n",
    "    result = number / 2\n",
    "    return result\n",
    "\n",
    "# call main function to run the program\n",
    "main()"
   ]
  },
  {
   "cell_type": "markdown",
   "id": "1d6d6488",
   "metadata": {},
   "source": [
    "## Programming Exercises"
   ]
  },
  {
   "cell_type": "markdown",
   "id": "3eef7798",
   "metadata": {},
   "source": [
    "## Question 1\n",
    "## Kilometer Converter\n",
    "Write a program that asks the user to enter a distance in kilometers, then converts that distance to miles. The conversion formula is as follows:\n",
    "\n",
    "miles = kilometers * 0.6214"
   ]
  },
  {
   "cell_type": "code",
   "execution_count": null,
   "id": "69f75b7d",
   "metadata": {},
   "outputs": [],
   "source": []
  }
 ],
 "metadata": {
  "kernelspec": {
   "display_name": "Python 3 (ipykernel)",
   "language": "python",
   "name": "python3"
  },
  "language_info": {
   "codemirror_mode": {
    "name": "ipython",
    "version": 3
   },
   "file_extension": ".py",
   "mimetype": "text/x-python",
   "name": "python",
   "nbconvert_exporter": "python",
   "pygments_lexer": "ipython3",
   "version": "3.10.9"
  }
 },
 "nbformat": 4,
 "nbformat_minor": 5
}
