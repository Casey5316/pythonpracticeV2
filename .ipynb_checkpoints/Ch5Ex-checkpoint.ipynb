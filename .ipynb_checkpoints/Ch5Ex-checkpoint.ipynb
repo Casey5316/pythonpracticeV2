{
 "cells": [
  {
   "cell_type": "markdown",
   "id": "4ad4d34b",
   "metadata": {},
   "source": [
    "# Chapter 5 Exercises\n",
    "## Algorithm Workbench"
   ]
  },
  {
   "cell_type": "markdown",
   "id": "ddb431a2",
   "metadata": {},
   "source": [
    "## Problem 6\n",
    "Write a statement that generates a random number in the range of 1 through 100 and assigns it to a variable named rand."
   ]
  },
  {
   "cell_type": "code",
   "execution_count": 4,
   "id": "ae2cfba9",
   "metadata": {},
   "outputs": [
    {
     "name": "stdout",
     "output_type": "stream",
     "text": [
      "62\n",
      "53\n",
      "83\n",
      "26\n",
      "98\n",
      "19\n",
      "85\n",
      "94\n",
      "4\n",
      "68\n"
     ]
    }
   ],
   "source": [
    "# import random library to \n",
    "# randomize our integer\n",
    "import random\n",
    "\n",
    "# Added a for loop to show that\n",
    "# number is random\n",
    "# Statement displays random integer in range\n",
    "# 1 - 100. Loop generates 10 numbers\n",
    "for i in range(10):\n",
    "    rand = random.randint(1, 100)\n",
    "    print(rand)"
   ]
  },
  {
   "cell_type": "markdown",
   "id": "2e5d7a68",
   "metadata": {},
   "source": [
    "## Problem 7\n",
    "The following statement calls a function named half, which returns a value that is half that of the argument. (Assume the number variable references a float value.) Write code for the function.\n",
    "\n",
    "result = half(number)"
   ]
  },
  {
   "cell_type": "code",
   "execution_count": 7,
   "id": "6cf1a22d",
   "metadata": {},
   "outputs": [
    {
     "name": "stdout",
     "output_type": "stream",
     "text": [
      "Enter a number to be divided in half: 1234564586095738\n",
      "617,282,293,047,869.0 is half of the number you entered.\n"
     ]
    }
   ],
   "source": [
    "# main program requests a number\n",
    "# calls half(number) function to divide number\n",
    "# displays result\n",
    "def main():\n",
    "    number = float(input('Enter a number to be divided in half: '))\n",
    "    half(number)\n",
    "    print(f'{half(number):,} is half of the number you entered.')\n",
    "    \n",
    "# function that divides number in half \n",
    "# and returns the result\n",
    "def half(number):\n",
    "    result = number / 2\n",
    "    return result\n",
    "\n",
    "# call main function to run the program\n",
    "main()"
   ]
  },
  {
   "cell_type": "markdown",
   "id": "cf6beafc",
   "metadata": {},
   "source": [
    "### I checked the above and it is indeed correct! I mainly wanted to see that my comma format was correct here."
   ]
  },
  {
   "cell_type": "markdown",
   "id": "f77bc269",
   "metadata": {},
   "source": [
    "## Programming Exercises"
   ]
  },
  {
   "cell_type": "markdown",
   "id": "a8477a5e",
   "metadata": {},
   "source": [
    "## Question 1\n",
    "## Kilometer Converter\n",
    "Write a program that asks the user to enter a distance in kilometers, then converts that distance to miles. The conversion formula is as follows:\n",
    "\n",
    "miles = kilometers * 0.6214"
   ]
  },
  {
   "cell_type": "code",
   "execution_count": 5,
   "id": "b4c905fa",
   "metadata": {},
   "outputs": [
    {
     "name": "stdout",
     "output_type": "stream",
     "text": [
      "This program converts kilometers to miles.\n",
      "Would you like to start? Press 'y' for yes\n",
      "or 'n' for no: y\n",
      "Enter the number of kilometers: 45\n",
      "45.0 kilometers is equal to 28.0 miles.\n",
      "Do you want to convert another value?\n",
      "Enter 'y' for yes or 'n' for no: y\n",
      "Enter the number of kilometers: 75\n",
      "75.0 kilometers is equal to 46.6 miles.\n",
      "Do you want to convert another value?\n",
      "Enter 'y' for yes or 'n' for no: y\n",
      "Enter the number of kilometers: 17554.56\n",
      "17,554.6 kilometers is equal to 10,908.4 miles.\n",
      "Do you want to convert another value?\n",
      "Enter 'y' for yes or 'n' for no: n\n"
     ]
    }
   ],
   "source": [
    "# Displays intro instructions \n",
    "# Gets number of kilometers and \n",
    "# displays conversion utilizing \n",
    "# convert_to_miles function\n",
    "def main():\n",
    "    kilometers = float(input('Enter the number of kilometers: '))\n",
    "    print(f'{kilometers:,.1f} kilometers is equal to {convert_to_miles(kilometers):,.1f} miles.')\n",
    "\n",
    "# Conversion function that\n",
    "# converts kilometers to miles\n",
    "# returns value to main\n",
    "def convert_to_miles(kilometers):\n",
    "    miles = kilometers * 0.6214\n",
    "    return miles\n",
    "\n",
    "# Call main function\n",
    "\n",
    "another_conversion = input('This program converts kilometers to miles.\\n'\n",
    "                          + 'Would you like to start? Press \\'y\\' for yes\\n'\n",
    "                          + 'or \\'n\\' for no: ')\n",
    "\n",
    "while another_conversion == 'y' or another_conversion == 'Y':\n",
    "    main()\n",
    "    another_conversion = input('Do you want to convert another value?\\n'\n",
    "                          + 'Enter \\'y\\' for yes or \\'n\\' for no: ')"
   ]
  },
  {
   "cell_type": "markdown",
   "id": "1fd43791",
   "metadata": {},
   "source": [
    "## I'm very surprised that I got this one first try! I intend on spicing it up with a while loop that allows multiple conversions "
   ]
  },
  {
   "cell_type": "markdown",
   "id": "3dd6f905",
   "metadata": {},
   "source": [
    "## I was able to surround the call to main( ) with a while loop that enables as many conversions as the user may need. "
   ]
  },
  {
   "cell_type": "markdown",
   "id": "b6bd1c3e",
   "metadata": {},
   "source": [
    "## Problem 17 - Prime Numbers\n",
    "A prime number is a number that is only evenly divisible by itself and 1. For example, the number 5 is prime because it can only be evenly divided by 1 and 5. The number 6, however, is not prime because it can be divided evenly by 1, 2, 3, and 6.\n",
    "\n",
    "Write a Boolean function named is_prime which takes an integer as an argument and returns true if the argument is a prime number, or false otherwise. Use the function in a program that prompts the user to enter a number then displays a message indicating whether the number is prime.\n",
    "\n"
   ]
  },
  {
   "cell_type": "code",
   "execution_count": 29,
   "id": "c0db6121",
   "metadata": {},
   "outputs": [
    {
     "name": "stdout",
     "output_type": "stream",
     "text": [
      "Enter a number: 56\n",
      "The number is a prime number.\n"
     ]
    }
   ],
   "source": [
    "def main():\n",
    "    number = int(input('Enter a number: '))\n",
    "\n",
    "    is_prime(number)\n",
    "\n",
    "    if is_prime(number) == True:\n",
    "        print('The number is a prime number.')\n",
    "    \n",
    "    else:\n",
    "        print('The number is not a prime number.')\n",
    "\n",
    "def is_prime(number):\n",
    "    if number % 1 != 0 and number % number != 0:\n",
    "        status = False\n",
    "        \n",
    "    else:\n",
    "        status = True\n",
    "        \n",
    "    return status\n",
    "\n",
    "main()"
   ]
  },
  {
   "cell_type": "markdown",
   "id": "4c99271e",
   "metadata": {},
   "source": [
    "## Problem 18 - Prime Number List \n",
    "This exercise assumes that you have already written the is_prime function in Programming Exercise 17. Write another program that displays all of the prime numbers from 1 to 100. The program should have a loop that calls the is_prime function.\n",
    "\n"
   ]
  },
  {
   "cell_type": "code",
   "execution_count": null,
   "id": "fa76bd6e",
   "metadata": {},
   "outputs": [],
   "source": []
  },
  {
   "cell_type": "markdown",
   "id": "331c5a53",
   "metadata": {},
   "source": [
    "## Problem 20 - Random Number Guessing Game\n",
    "Write a program that generates a random number in the range of 1 through 100, and asks the user to guess what the number is. If the user’s guess is higher than the random number, the program should display “Too high, try again.” If the user’s guess is lower than the random number, the program should display “Too low, try again.” If the user guesses the number, the application should congratulate the user and generate a new random number so the game can start over.\n",
    "\n",
    "Optional Enhancement: Enhance the game so it keeps count of the number of guesses that the user makes. When the user correctly guesses the random number, the program should display the number of guesses.\n",
    "\n"
   ]
  },
  {
   "cell_type": "code",
   "execution_count": 4,
   "id": "9904d94c",
   "metadata": {},
   "outputs": [
    {
     "name": "stdout",
     "output_type": "stream",
     "text": [
      "Welcome to the random number guessing game!\n",
      "Guess a number between 1 and 100!\n",
      "99\n",
      "Too high, try again.\n",
      "Enter a number: 55\n",
      "Too high, try again.\n",
      "Enter a number: 33\n",
      "Too low, try again.\n",
      "Enter a number: 44\n",
      "Too high, try again.\n",
      "Enter a number: 36\n",
      "Too low, try again.\n",
      "Enter a number: 39\n",
      "Too low, try again.\n",
      "Enter a number: 40\n",
      "Too low, try again.\n",
      "Enter a number: 41\n",
      "Too low, try again.\n",
      "Enter a number: 42\n",
      "Well done! You guessed the random number!\n"
     ]
    }
   ],
   "source": [
    "# import random libraries\n",
    "import random\n",
    "\n",
    "# main function runs program\n",
    "# gets guess and generates random number\n",
    "# uses if statements to give hints if too\n",
    "# high or too low\n",
    "# congratulates user if guesses correct\n",
    "def main():\n",
    "    guess = int(input(''))\n",
    "    number = number_generation(guess)\n",
    "    while guess != number:\n",
    "        \n",
    "        if guess < number:\n",
    "            print('Too low, try again.')\n",
    "        \n",
    "        elif guess > number:\n",
    "            print('Too high, try again.')\n",
    "        \n",
    "        elif guess < 0 or guess > 100:\n",
    "            print('Invalid number entry. Enter a\\n'\n",
    "                 + 'number between 1 and 100.')\n",
    "        guess = int(input('Enter a number: '))\n",
    "    if guess == number:\n",
    "            print('Well done! You guessed the random number!')\n",
    "            \n",
    "        \n",
    "        \n",
    "# function that generates random number\n",
    "# and returns to main\n",
    "def number_generation(guess):\n",
    "    number = random.randint(1, 100)\n",
    "    return number\n",
    "    \n",
    "    \n",
    "# Beginning message displays at startup\n",
    "# Runs main program\n",
    "print('Welcome to the random number guessing game!\\n'\n",
    "      + 'Guess a number between 1 and 100!')\n",
    "main()"
   ]
  },
  {
   "cell_type": "markdown",
   "id": "14e7f4a6",
   "metadata": {},
   "source": [
    "## I'm not entirely sure why my elif statement on line 20 won't execute, but overall everything else seems to work fine! "
   ]
  },
  {
   "cell_type": "code",
   "execution_count": null,
   "id": "c0051083",
   "metadata": {},
   "outputs": [],
   "source": []
  }
 ],
 "metadata": {
  "kernelspec": {
   "display_name": "Python 3 (ipykernel)",
   "language": "python",
   "name": "python3"
  },
  "language_info": {
   "codemirror_mode": {
    "name": "ipython",
    "version": 3
   },
   "file_extension": ".py",
   "mimetype": "text/x-python",
   "name": "python",
   "nbconvert_exporter": "python",
   "pygments_lexer": "ipython3",
   "version": "3.10.9"
  }
 },
 "nbformat": 4,
 "nbformat_minor": 5
}
