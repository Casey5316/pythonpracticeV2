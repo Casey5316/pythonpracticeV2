{
 "cells": [
  {
   "cell_type": "markdown",
   "id": "094d656c",
   "metadata": {},
   "source": [
    "# Chapter 2 Exercises"
   ]
  },
  {
   "cell_type": "markdown",
   "id": "f75a1eea",
   "metadata": {},
   "source": [
    "## Algorithm Workbench\n",
    "## Problem 1"
   ]
  },
  {
   "cell_type": "code",
   "execution_count": 4,
   "id": "840418e5",
   "metadata": {},
   "outputs": [
    {
     "name": "stdout",
     "output_type": "stream",
     "text": [
      "What is your height? 74\"\n"
     ]
    }
   ],
   "source": [
    "# Write a code that prompts the user to enter their height and stores it as a variable\n",
    "# The simplest way to do this is below\n",
    "height = input('What is your height? ')"
   ]
  },
  {
   "cell_type": "code",
   "execution_count": 5,
   "id": "3bab0d8f",
   "metadata": {},
   "outputs": [
    {
     "name": "stdout",
     "output_type": "stream",
     "text": [
      "What is your height in inches? 74\n",
      "Your height is 6' 2\".\n"
     ]
    }
   ],
   "source": [
    "# We can make more practical use out of this by converting the height from inches to feet\n",
    "# Get height in inches\n",
    "height = int(input('What is your height in inches? '))\n",
    "\n",
    "# Convert inches to feet while keeping the remainder in inches\n",
    "feet = int(height // 12)\n",
    "\n",
    "inches = int(height % 12)\n",
    "\n",
    "# Display height in formatted appearance\n",
    "print(f'''Your height is {feet}' {inches}\".''')"
   ]
  },
  {
   "cell_type": "markdown",
   "id": "f8c48efa",
   "metadata": {},
   "source": [
    "## Problem 3"
   ]
  },
  {
   "cell_type": "markdown",
   "id": "94f7c30c",
   "metadata": {},
   "source": [
    "Using the variables a, b, and c, write assignment statements that perform the following operations:"
   ]
  },
  {
   "cell_type": "markdown",
   "id": "67fbf5fe",
   "metadata": {},
   "source": [
    "Adds 2 to a and assigns the result to b. "
   ]
  },
  {
   "cell_type": "code",
   "execution_count": null,
   "id": "e113812c",
   "metadata": {},
   "outputs": [],
   "source": [
    "b = 2 + a"
   ]
  },
  {
   "cell_type": "markdown",
   "id": "461a9829",
   "metadata": {},
   "source": [
    "Multiplies b times 4 and assigns the result to a"
   ]
  },
  {
   "cell_type": "code",
   "execution_count": null,
   "id": "ba24af47",
   "metadata": {},
   "outputs": [],
   "source": [
    "a = b * 4"
   ]
  },
  {
   "cell_type": "markdown",
   "id": "a0a0a05b",
   "metadata": {},
   "source": [
    "Divides a by 3.14 and assigns the result to b"
   ]
  },
  {
   "cell_type": "code",
   "execution_count": null,
   "id": "76408669",
   "metadata": {},
   "outputs": [],
   "source": [
    "b = a / 3.14"
   ]
  },
  {
   "cell_type": "markdown",
   "id": "cc52d9a7",
   "metadata": {},
   "source": [
    "Subtracts 8 from b and assigns the result to a"
   ]
  },
  {
   "cell_type": "code",
   "execution_count": null,
   "id": "67875989",
   "metadata": {},
   "outputs": [],
   "source": [
    "a = b - 8"
   ]
  },
  {
   "cell_type": "markdown",
   "id": "89d57af4",
   "metadata": {},
   "source": [
    "# Programming Exercises\n",
    "Problems 5, 6, 7, and 13"
   ]
  },
  {
   "cell_type": "markdown",
   "id": "d24c0f7b",
   "metadata": {},
   "source": [
    "## Problem 5\n",
    "\n",
    "Write a python statement that assigns the sum of 14 and 10 to the variable \"total\". "
   ]
  },
  {
   "cell_type": "code",
   "execution_count": null,
   "id": "2521c804",
   "metadata": {},
   "outputs": [],
   "source": [
    "# Assign the sum of 14 and 10 to the variable total\n",
    "total = 14 + 10 "
   ]
  },
  {
   "cell_type": "markdown",
   "id": "ae4b3ce2",
   "metadata": {},
   "source": [
    "## Problem 6\n",
    "Write a python statement that subtracts the variable down_payment from the variable \"total\" and assigns the value to the variable \"due\""
   ]
  },
  {
   "cell_type": "code",
   "execution_count": 7,
   "id": "ce77652e",
   "metadata": {},
   "outputs": [
    {
     "name": "stdout",
     "output_type": "stream",
     "text": [
      "$232,500\n"
     ]
    }
   ],
   "source": [
    "# Get the total value and down_payment value\n",
    "total = 250000\n",
    "down_payment = 17500\n",
    "\n",
    "# Assign the value to the \"due\" variable\n",
    "due = total - down_payment\n",
    "\n",
    "# Display due amount as an integer with a dollar sign and comma separation\n",
    "print(f'${due:,}')"
   ]
  },
  {
   "cell_type": "markdown",
   "id": "a75a4a95",
   "metadata": {},
   "source": [
    "## Problem 7\n",
    "Write a python statement that multiplies the variable \"subtotal\" by 0.15 and assign the result to the variable \"total\"."
   ]
  },
  {
   "cell_type": "code",
   "execution_count": 8,
   "id": "9eb8b456",
   "metadata": {},
   "outputs": [
    {
     "name": "stdout",
     "output_type": "stream",
     "text": [
      "225.0\n"
     ]
    }
   ],
   "source": [
    "# Get variable values \n",
    "subtotal = 1500\n",
    "rate = 0.15\n",
    "\n",
    "# Multiply subtotal by the rate and store as total\n",
    "total = float(subtotal * rate)\n",
    "\n",
    "print(total)"
   ]
  },
  {
   "cell_type": "markdown",
   "id": "5f47e0cb",
   "metadata": {},
   "source": [
    "## Problem 13\n",
    "Write a turtle graphics statement that draws a circle with a radius of 75 pixels"
   ]
  },
  {
   "cell_type": "code",
   "execution_count": 9,
   "id": "f25e7d15",
   "metadata": {},
   "outputs": [],
   "source": [
    "# Call upon the turtle \n",
    "import turtle\n",
    "\n",
    "# Show the turtle so you can see your circle\n",
    "turtle.showturtle()\n",
    "\n",
    "# Command turtle to draw circle at radius of 75 pixels\n",
    "turtle.circle(75)"
   ]
  }
 ],
 "metadata": {
  "kernelspec": {
   "display_name": "Python 3 (ipykernel)",
   "language": "python",
   "name": "python3"
  },
  "language_info": {
   "codemirror_mode": {
    "name": "ipython",
    "version": 3
   },
   "file_extension": ".py",
   "mimetype": "text/x-python",
   "name": "python",
   "nbconvert_exporter": "python",
   "pygments_lexer": "ipython3",
   "version": "3.10.9"
  }
 },
 "nbformat": 4,
 "nbformat_minor": 5
}
