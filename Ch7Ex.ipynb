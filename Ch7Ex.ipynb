{
 "cells": [
  {
   "cell_type": "markdown",
   "id": "5d22a7bc",
   "metadata": {},
   "source": [
    "# Chapter 7 Exercises\n",
    "## Algorithm Workbench - Any 2 questions"
   ]
  },
  {
   "cell_type": "markdown",
   "id": "bb9d5a6f",
   "metadata": {},
   "source": [
    "### Question 1\n",
    "Write a statement that creates a list with the following strings: 'Einstein', 'Newton', 'Copernicus', and 'Kepler'.\n",
    "\n",
    "### Question 2\n",
    "Assume names references a list. Write a for loop that displays each element of the list."
   ]
  },
  {
   "cell_type": "code",
   "execution_count": 30,
   "id": "8a6daca9",
   "metadata": {},
   "outputs": [
    {
     "name": "stdout",
     "output_type": "stream",
     "text": [
      "Einstein\n",
      "Newton\n",
      "Copernicus\n",
      "Kepler\n"
     ]
    }
   ],
   "source": [
    "# statement that creates a list of names and saves \n",
    "# as the variable 'names'\n",
    "names = ['Einstein', 'Newton', 'Copernicus', 'Kepler']\n",
    "\n",
    "# for loop iterates for each element in list\n",
    "# prints the element, in this case, our names\n",
    "for element in names:\n",
    "    print(element)"
   ]
  },
  {
   "cell_type": "markdown",
   "id": "2313b9ff",
   "metadata": {},
   "source": [
    "### Question 3\n",
    "Assume the list numbers1 has 100 elements, and numbers2 is an empty list. Write code that copies the values in numbers1 to numbers2."
   ]
  },
  {
   "cell_type": "code",
   "execution_count": 10,
   "id": "b60710d3",
   "metadata": {},
   "outputs": [
    {
     "name": "stdout",
     "output_type": "stream",
     "text": [
      "[34, 55, 93, 234]\n"
     ]
    }
   ],
   "source": [
    "# Assume the list is 100 numbers long\n",
    "# I added some to show that it works\n",
    "list_1 = [34, 55, 93, 234]\n",
    "\n",
    "# set list_2 as an empty list\n",
    "list_2 = []\n",
    "\n",
    "# append list_1 to list_2\n",
    "list_2.append(list_1)\n",
    "\n",
    "# print the list that was empty \n",
    "for element in list_2:\n",
    "    print(element)"
   ]
  },
  {
   "cell_type": "markdown",
   "id": "746fc63e",
   "metadata": {},
   "source": [
    "### Question 5\n",
    "Write a function that accepts a list as an argument (assume the list contains integers) and returns the total of the values in the list."
   ]
  },
  {
   "cell_type": "code",
   "execution_count": 18,
   "id": "52488c4a",
   "metadata": {},
   "outputs": [
    {
     "name": "stdout",
     "output_type": "stream",
     "text": [
      "This program allows you to enter numbers\n",
      "and calculate the sum of all the numbers entered.Press 'y' to begin or 'n' to end: y\n",
      "Enter a number to add to the list: 55\n",
      "Do you want to add another number\n",
      "to the list? Enter 'y' for yes\n",
      "or 'n' for no: y\n",
      "Enter a number to add to the list: 74\n",
      "Do you want to add another number\n",
      "to the list? Enter 'y' for yes\n",
      "or 'n' for no: y\n",
      "Enter a number to add to the list: 56\n",
      "Do you want to add another number\n",
      "to the list? Enter 'y' for yes\n",
      "or 'n' for no: n\n",
      "185\n"
     ]
    }
   ],
   "source": [
    "# main function gets numbers from user and adds them \n",
    "# to a list and calls the totaler function to calculate\n",
    "# the total of all the user entered numbers\n",
    "def main():\n",
    "    numbers = []\n",
    "    \n",
    "    another = input('This program allows you to enter numbers\\n'\n",
    "                   + 'and calculate the sum of all the numbers entered.'\n",
    "                   + 'Press \\'y\\' to begin or \\'n\\' to end: ')\n",
    "    \n",
    "# while loop allows user to enter as many numbers as needed\n",
    "    while another == 'y' or another == 'Y':\n",
    "        user_nums = int(input('Enter a number to add to the list: '))\n",
    "        numbers.append(user_nums)\n",
    "        another = input('Do you want to add another number\\n'\n",
    "                       + 'to the list? Enter \\'y\\' for yes\\n'\n",
    "                       + 'or \\'n\\' for no: ')\n",
    "\n",
    "        \n",
    "# calls totaler function and saves the\n",
    "# result as the variable total\n",
    "    total = totaler(numbers)\n",
    "    \n",
    "    print(total)\n",
    "    \n",
    "    \n",
    "# function that takes a list from the user and \n",
    "# returns the sum of all the numbers in the list\n",
    "def totaler(number_list):\n",
    "    sum_of_list = 0\n",
    "    \n",
    "    for num in number_list:\n",
    "        sum_of_list += num\n",
    "    return sum_of_list\n",
    "    \n",
    "\n",
    "\n",
    "# call to main function \n",
    "if __name__ == '__main__':\n",
    "    main()"
   ]
  },
  {
   "cell_type": "markdown",
   "id": "016a08c5",
   "metadata": {},
   "source": [
    "## Programming Exercises\n",
    "### Question 1 - Total Sales\n",
    "Design a program that asks the user to enter a store’s sales for each day of the week. The amounts should be stored in a list. Use a loop to calculate the total sales for the week and display the result."
   ]
  },
  {
   "cell_type": "code",
   "execution_count": 19,
   "id": "41f9f7af",
   "metadata": {},
   "outputs": [
    {
     "name": "stdout",
     "output_type": "stream",
     "text": [
      "Enter the amount of sales on day 1: 5000\n",
      "Enter the amount of sales on day 2: 5000\n",
      "Enter the amount of sales on day 3: 5000\n",
      "Enter the amount of sales on day 4: 5000\n",
      "Enter the amount of sales on day 5: 5000\n",
      "The total of the numbers in the list is: 25000\n"
     ]
    }
   ],
   "source": [
    "# main function gets sales for each day of the week\n",
    "# from user and adds them to a list then calls the\n",
    "# totaler function to calculate amount of sales for\n",
    "# a given week\n",
    "def main():\n",
    "    numbers = []\n",
    "    \n",
    "    DAYS = 5\n",
    "    \n",
    "    \n",
    "    \n",
    "    for day in range(DAYS):\n",
    "        user_nums = int(input(f'Enter the amount of sales on day {day + 1}: '))\n",
    "        numbers.append(user_nums)\n",
    "        \n",
    "    total = 0\n",
    "\n",
    "    for element in numbers: \n",
    "        total += element\n",
    "        \n",
    "        \n",
    "    print(f'The total of the numbers in the list is: {total}')\n",
    "    \n",
    "\n",
    "\n",
    "# call to main function \n",
    "if __name__ == '__main__':\n",
    "    main()"
   ]
  },
  {
   "cell_type": "markdown",
   "id": "8f56f302",
   "metadata": {},
   "source": [
    "### Question 14 - Expense Pie Chart\n",
    "Create a text file that contains your expenses for last month in the following categories:\n",
    "\n",
    "Rent\n",
    "\n",
    "Gas\n",
    "\n",
    "Food\n",
    "\n",
    "Clothing\n",
    "\n",
    "Car payment\n",
    "\n",
    "Misc\n",
    "\n",
    "Write a Python program that reads the data from the file and uses matplotlib to plot a pie chart showing how you spend your money."
   ]
  },
  {
   "cell_type": "code",
   "execution_count": 39,
   "id": "ad50049e",
   "metadata": {},
   "outputs": [
    {
     "name": "stdout",
     "output_type": "stream",
     "text": [
      "Enter your total rent expense last month: 800\n",
      "Enter your total gas expense last month: 200\n",
      "Enter your total food expense last month: 200\n",
      "Enter your total clothing expense last month: 30\n",
      "Enter your total car payments last month: 180\n",
      "Enter any other miscellaneous expenses last month: 34\n",
      "Expenses saved to expenses.txt\n",
      "['800', '200', '200', '30', '180', '34']\n"
     ]
    },
    {
     "data": {
      "image/png": "[encoded data removed]",
      "text/plain": [
       "<Figure size 640x480 with 1 Axes>"
      ]
     },
     "metadata": {},
     "output_type": "display_data"
    }
   ],
   "source": [
    "import matplotlib.pyplot as plt\n",
    "\n",
    "def main():\n",
    "    with open('expenses.txt', 'w') as expense_file:\n",
    "        rent = input('Enter your total rent expense last month: ')\n",
    "        \n",
    "        gas = input('Enter your total gas expense last month: ')\n",
    "        \n",
    "        food = input('Enter your total food expense last month: ')\n",
    "        \n",
    "        clothes = input('Enter your total clothing expense last month: ')\n",
    "        \n",
    "        car_payment = input('Enter your total car payments last month: ')\n",
    "        \n",
    "        misc = input('Enter any other miscellaneous expenses last month: ')\n",
    "        \n",
    "        expenses = [rent, gas, food, clothes, car_payment, misc]\n",
    "        \n",
    "        for element in expenses:\n",
    "            expense_file.write(f'{element}\\n')\n",
    "        \n",
    "        print('Expenses saved to expenses.txt')\n",
    "        \n",
    "        \n",
    "    with open('expenses.txt', 'r') as expense_file:\n",
    "        expense_list = expense_file.readlines()\n",
    "        \n",
    "        values = [value.strip('\\n') for value in expense_list]\n",
    "\n",
    "        print([value.strip('\\n') for value in values])\n",
    "        \n",
    "        slice_labels = ['Rent', 'Gas', 'Food', 'Clothes', 'Car Payment', 'Misc']\n",
    "\n",
    "        plt.pie(values, labels = slice_labels, colors = ['c', 'k', 'g', 'b', 'r', 'y'])\n",
    "        \n",
    "        plt.show()\n",
    "        \n",
    "if __name__ == '__main__':\n",
    "    main()"
   ]
  },
  {
   "cell_type": "markdown",
   "id": "cc68d403",
   "metadata": {},
   "source": [
    "## With the help of ChatGPT on proper syntax and usage of .strip - ing the newline characters in lines 28 and 30, I've completed the problem. "
   ]
  },
  {
   "cell_type": "markdown",
   "id": "6e4aa551",
   "metadata": {},
   "source": [
    "### Question 2 - Lottery Number Generator\n",
    "Design a program that generates a seven-digit lottery number. The program should generate seven random numbers, each in the range of 0 through 9, and assign each number to a list element. (Random numbers were discussed in Chapter 5.) Then write another loop that displays the contents of the list.\n",
    "\n",
    "\n"
   ]
  },
  {
   "cell_type": "code",
   "execution_count": 29,
   "id": "a3175d85",
   "metadata": {},
   "outputs": [
    {
     "name": "stdout",
     "output_type": "stream",
     "text": [
      "7\n",
      "9\n",
      "3\n",
      "2\n",
      "8\n",
      "6\n",
      "3\n",
      "3\n",
      "2\n"
     ]
    }
   ],
   "source": [
    "# import random library to generate random numbers\n",
    "import random\n",
    "\n",
    "# main function generates a list of 9 random \n",
    "# numbers and displays each number \n",
    "def main():\n",
    "    numbers = generator()\n",
    "    \n",
    "    for number in numbers:\n",
    "        print(number)\n",
    "    \n",
    "    \n",
    "# generator function generates 9 random\n",
    "# integers and assigns them to a list\n",
    "# returns list to main function\n",
    "def generator(): \n",
    "    number_1 = random.randint(0, 9)\n",
    "    number_2 = random.randint(0, 9)\n",
    "    number_3 = random.randint(0, 9)\n",
    "    number_4 = random.randint(0, 9)\n",
    "    number_5 = random.randint(0, 9)\n",
    "    number_6 = random.randint(0, 9)\n",
    "    number_7 = random.randint(0, 9)\n",
    "    number_8 = random.randint(0, 9)\n",
    "    number_9 = random.randint(0, 9)\n",
    "    \n",
    "    random_numbers = [number_1, number_2, number_3, number_4,\n",
    "                          number_5, number_6, number_7, number_8, number_9]\n",
    "    \n",
    "    return random_numbers\n",
    "    \n",
    "    \n",
    "    \n",
    "    \n",
    "    \n",
    "# calls main function\n",
    "if __name__ == '__main__': \n",
    "    main()"
   ]
  },
  {
   "cell_type": "markdown",
   "id": "1d49010e",
   "metadata": {},
   "source": [
    "### Question - 4 Number Analysis Program\n",
    "Design a program that asks the user to enter a series of 20 numbers. The program should store the numbers in a list then display the following data:\n",
    "\n",
    "The lowest number in the list\n",
    "\n",
    "The highest number in the list\n",
    "\n",
    "The total of the numbers in the list\n",
    "\n",
    "The average of the numbers in the list"
   ]
  },
  {
   "cell_type": "code",
   "execution_count": 6,
   "id": "3c774c12",
   "metadata": {},
   "outputs": [
    {
     "name": "stdout",
     "output_type": "stream",
     "text": [
      "Enter a number to be saved in the list: 34\n",
      "Enter a number to be saved in the list: 44\n",
      "Enter a number to be saved in the list: 66\n",
      "Enter a number to be saved in the list: 33\n",
      "Enter a number to be saved in the list: 45\n",
      "Enter a number to be saved in the list: 65\n",
      "Enter a number to be saved in the list: 35\n",
      "Enter a number to be saved in the list: 35\n",
      "Enter a number to be saved in the list: 77\n",
      "Enter a number to be saved in the list: 89\n",
      "Enter a number to be saved in the list: 36\n",
      "Enter a number to be saved in the list: 43\n",
      "Enter a number to be saved in the list: 87\n",
      "Enter a number to be saved in the list: 09\n",
      "Enter a number to be saved in the list: 22\n",
      "Enter a number to be saved in the list: 267\n",
      "Enter a number to be saved in the list: 45\n",
      "Enter a number to be saved in the list: 67\n",
      "Enter a number to be saved in the list: 62\n",
      "Enter a number to be saved in the list: 93\n",
      "The highest number in the list is 267, and the\n",
      "lowest number in the list is 9.\n",
      "The total of all the numbers in the list is 1254.\n",
      "The average of all the numbers in the list is 63.\n"
     ]
    }
   ],
   "source": [
    "# main function gets 20 numbers from user and adds them to a list\n",
    "# calculates lowest and highest number, total, and average of all\n",
    "# numbers within the list\n",
    "def main():\n",
    "    NUMS = 20\n",
    "    \n",
    "    total = 0\n",
    "\n",
    "    numbers = []\n",
    "\n",
    "    for number in range(NUMS):\n",
    "        number = int(input('Enter a number to be saved in the list: '))\n",
    "                        \n",
    "        numbers.append(number)\n",
    "    \n",
    "    print(f'The highest number in the list is {max(numbers)}, and the\\n'\n",
    "         + f'lowest number in the list is {min(numbers)}.')\n",
    "        \n",
    "    for element in numbers:\n",
    "        total += element\n",
    "        \n",
    "    print(f'The total of all the numbers in the list is {total}.')\n",
    "    \n",
    "    avg = total / len(numbers)\n",
    "        \n",
    "    print(f'The average of all the numbers in the list is {avg}.')\n",
    "    \n",
    "\n",
    "\n",
    "# call main function \n",
    "if __name__ == '__main__':\n",
    "    main()"
   ]
  },
  {
   "cell_type": "code",
   "execution_count": null,
   "id": "7503c9f7",
   "metadata": {},
   "outputs": [],
   "source": []
  }
 ],
 "metadata": {
  "kernelspec": {
   "display_name": "Python 3 (ipykernel)",
   "language": "python",
   "name": "python3"
  },
  "language_info": {
   "codemirror_mode": {
    "name": "ipython",
    "version": 3
   },
   "file_extension": ".py",
   "mimetype": "text/x-python",
   "name": "python",
   "nbconvert_exporter": "python",
   "pygments_lexer": "ipython3",
   "version": "3.10.9"
  }
 },
 "nbformat": 4,
 "nbformat_minor": 5
}
