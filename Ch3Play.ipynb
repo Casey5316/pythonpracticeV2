{
 "cells": [
  {
   "cell_type": "markdown",
   "id": "aa83ca68",
   "metadata": {},
   "source": [
    "## Chapter 3 Practice \n",
    "# Boolean Logic Operators "
   ]
  },
  {
   "cell_type": "markdown",
   "id": "e88a09ba",
   "metadata": {},
   "source": [
    "Kathryn teaches a science class and her students are required to take three tests. She wants to write a program that her students can use to calculate their average test score. She also wants the program to congratulate the student enthusiastically if their average is greater than 95. "
   ]
  },
  {
   "cell_type": "markdown",
   "id": "f46c7491",
   "metadata": {},
   "source": [
    "# Pseudocode\n",
    "Get first test score\n",
    "Get second test score\n",
    "Get third test score\n",
    "Calculate average \n",
    "Display average \n",
    "If average is greater than 95\n",
    "    congratulate"
   ]
  },
  {
   "cell_type": "code",
   "execution_count": 26,
   "id": "187e9bed",
   "metadata": {},
   "outputs": [
    {
     "name": "stdout",
     "output_type": "stream",
     "text": [
      "What was your first test score? 96\n",
      "What was your second test score? 99\n",
      "What was your third test score? 97\n",
      "Excellent work! Your average test score was 97.33%!\n"
     ]
    }
   ],
   "source": [
    "# Get test scores \n",
    "score_1 = int(input('What was your first test score? '))\n",
    "score_2 = int(input('What was your second test score? '))\n",
    "score_3 = int(input('What was your third test score? '))\n",
    "\n",
    "# Set High score variable \n",
    "HIGH_SCORE = 95\n",
    "\n",
    "# Calculate avg \n",
    "average = (score_1 + score_2 + score_3) / 3\n",
    "\n",
    "# Display average and congratulate those over 95%\n",
    "if average >= HIGH_SCORE:\n",
    "    print(f'Excellent work! Your average test score was {average:.2f}%!')\n",
    "else:\n",
    "    print(f'Your average test score was {average:.2f}%.')\n"
   ]
  },
  {
   "cell_type": "markdown",
   "id": "3ec9ddf7",
   "metadata": {},
   "source": [
    "Create an overtime calculator"
   ]
  },
  {
   "cell_type": "markdown",
   "id": "2a1ab12b",
   "metadata": {},
   "source": [
    "Get hours worked\n",
    "Get pay rate\n",
    "If hours worked > 40 \n",
    "    display pay including overtime \n"
   ]
  },
  {
   "cell_type": "code",
   "execution_count": 29,
   "id": "0ebaa611",
   "metadata": {},
   "outputs": [
    {
     "name": "stdout",
     "output_type": "stream",
     "text": [
      "What is your hourly wage? 10\n",
      "How many hours did your work this pay period? 50\n",
      "Your gross pay this pay period is $550.00.\n"
     ]
    }
   ],
   "source": [
    "# Get hours worked and pay rate\n",
    "pay_rate = float(input('What is your hourly pay rate? '))\n",
    "\n",
    "hours = float(input('How many hours did your work this pay period? '))\n",
    "\n",
    "# Set constant variables\n",
    "BASE_HOURS = 40\n",
    "\n",
    "OT_RATE = 1.5\n",
    "\n",
    "# Determine number of overtime hours worked \n",
    "# Calculate gross pay with overtime \n",
    "if hours > BASE_HOURS:\n",
    "    \n",
    "    OT_hours = hours - BASE_HOURS \n",
    "    \n",
    "    OT_pay = OT_hours * pay_rate * OT_RATE \n",
    "    \n",
    "    gross_pay = BASE_HOURS * pay_rate + OT_pay\n",
    "    \n",
    "    print(f'Your gross pay this period is ${gross_pay:,.2f}.')\n",
    "    \n",
    "# Calculate and display gross pay without overtime\n",
    "else:\n",
    "    \n",
    "    gross_pay = pay_rate * hours\n",
    "print(f'Your gross pay this pay period is ${gross_pay:,.2f}.')"
   ]
  },
  {
   "cell_type": "markdown",
   "id": "9243969e",
   "metadata": {},
   "source": [
    "# Password "
   ]
  },
  {
   "cell_type": "code",
   "execution_count": 37,
   "id": "769e4fda",
   "metadata": {},
   "outputs": [
    {
     "name": "stdout",
     "output_type": "stream",
     "text": [
      "Please enter the password: Monke\n",
      "That is the correct password.\n"
     ]
    }
   ],
   "source": [
    "# Request user to enter password\n",
    "password = input('Please enter the password: ')\n",
    "\n",
    "# conditional statement to determine if password is correct \n",
    "if password == 'Monke':\n",
    "    print('That is the correct password.')\n",
    "    \n",
    "else: \n",
    "    print('Incorrect password. Access denied.')"
   ]
  },
  {
   "cell_type": "markdown",
   "id": "8b7b4f3a",
   "metadata": {},
   "source": [
    "# Using ASCII codes to compare strings"
   ]
  },
  {
   "cell_type": "code",
   "execution_count": 38,
   "id": "381e6bc5",
   "metadata": {},
   "outputs": [
    {
     "name": "stdout",
     "output_type": "stream",
     "text": [
      "Z is greater than A.\n"
     ]
    }
   ],
   "source": [
    "if 'z' < 'a':\n",
    "    print('Z is less than A.')\n",
    "else: \n",
    "    print('Z is greater than A.')"
   ]
  },
  {
   "cell_type": "markdown",
   "id": "5252adcf",
   "metadata": {},
   "source": [
    "# Whether a bank customer qualifies for a loan\n",
    "## Using nested decision structures"
   ]
  },
  {
   "cell_type": "code",
   "execution_count": 49,
   "id": "4469e0b1",
   "metadata": {},
   "outputs": [
    {
     "name": "stdout",
     "output_type": "stream",
     "text": [
      "What is your average annual salary? 25000\n",
      "How many years have you been at your current job? 1\n",
      "You must make at least $30,000.00 per year to qualify.\n"
     ]
    }
   ],
   "source": [
    "# Set constant variables\n",
    "MIN_SALARY = 30000\n",
    "MIN_YEARS = 2\n",
    "\n",
    "# Get annual salary\n",
    "salary = float(input('What is your average annual salary? '))\n",
    "\n",
    "# Get number of years worked at job\n",
    "years = int(input('How many years have you been at your current job? '))\n",
    "\n",
    "# Use nested decision structure to determine if customer qualifies for loan\n",
    "if salary >= MIN_SALARY:\n",
    "    if years >= MIN_YEARS:\n",
    "        print('Congratulations! You qualify for the loan.')\n",
    "    else: \n",
    "        print(f'You must have been employed at your job for {MIN_YEARS:.0f} years to qualify.')\n",
    "else: \n",
    "    print(f'You must make at least ${MIN_SALARY:,.2f} per year to qualify.')\n",
    "    "
   ]
  },
  {
   "cell_type": "markdown",
   "id": "19ee8eb2",
   "metadata": {},
   "source": [
    "# Create a grading program that determines a letter grade based on percentage"
   ]
  },
  {
   "cell_type": "code",
   "execution_count": 74,
   "id": "a49e97d6",
   "metadata": {},
   "outputs": [
    {
     "name": "stdout",
     "output_type": "stream",
     "text": [
      "What did you score on your test? 77\n",
      "Good job, you got a C!\n"
     ]
    }
   ],
   "source": [
    "# Set constant variables \n",
    "A = 90\n",
    "B = 80\n",
    "C = 70\n",
    "D = 60 \n",
    "\n",
    "# Request user to input grade percentage \n",
    "user_grade = float(input('What did you score on your test? '))\n",
    "\n",
    "# Nested decision structure to determine grade \n",
    "if user_grade >= A:\n",
    "    print('Congratulations! You got an A!')\n",
    "else: \n",
    "    if user_grade >= B:\n",
    "        print('Well done! You got a B!')\n",
    "    else:\n",
    "        if user_grade >= C:\n",
    "            print('Good job, you got a C!')\n",
    "        else:\n",
    "            if user_grade >= D:\n",
    "                print('Better luck next time. You got a D.')\n",
    "            else:\n",
    "                print('You got an F. Time to study!')\n",
    "                "
   ]
  },
  {
   "cell_type": "markdown",
   "id": "c8056739",
   "metadata": {},
   "source": [
    "# Create grading program using elif "
   ]
  },
  {
   "cell_type": "code",
   "execution_count": 78,
   "id": "e63eacba",
   "metadata": {},
   "outputs": [
    {
     "name": "stdout",
     "output_type": "stream",
     "text": [
      "What did you score on your test? 90\n",
      "Congratulations! You got an A.\n"
     ]
    }
   ],
   "source": [
    "# Constant variables\n",
    "A = 90\n",
    "B = 80\n",
    "C = 70\n",
    "D = 60\n",
    "\n",
    "# Request user input\n",
    "user_grade = float(input('What did you score on your test? '))\n",
    "\n",
    "# Nested decision structure using elif function\n",
    "if user_grade >= A:\n",
    "    print('Congratulations! You got an A.')\n",
    "elif user_grade >= B:\n",
    "        print('Well done, you got a B!')\n",
    "elif user_grade >= C:\n",
    "        print('Nice job, you got a C!')\n",
    "elif user_grade >= D:\n",
    "        print('Nice try, you got a D.')\n",
    "else:\n",
    "    print('You got an F. Time to study!')\n",
    "    "
   ]
  },
  {
   "cell_type": "markdown",
   "id": "fcc544b8",
   "metadata": {},
   "source": [
    "   if number == 1:\n",
    "        print('One')\n",
    "    else:\n",
    "        if number == 2:\n",
    "            print('Two')\n",
    "        else:\n",
    "            if number == 3:\n",
    "                print('Three')\n",
    "            else:\n",
    "                print('Unknown')\n",
    "                \n",
    "# Convert into elif "
   ]
  },
  {
   "cell_type": "code",
   "execution_count": 82,
   "id": "de58d7b5",
   "metadata": {},
   "outputs": [
    {
     "name": "stdout",
     "output_type": "stream",
     "text": [
      "Enter a number: 4\n",
      "The number is unknown.\n"
     ]
    }
   ],
   "source": [
    "# Request user to input number\n",
    "number = int(input('Enter a number: '))\n",
    "\n",
    "# Nested if-elif structure\n",
    "if number == 1:\n",
    "    print('The number is 1.')\n",
    "elif number == 2:\n",
    "    print('The number is 2.')\n",
    "elif number == 3:\n",
    "    print('The number is 3.')\n",
    "else:\n",
    "    print('The number is unknown.')"
   ]
  },
  {
   "cell_type": "markdown",
   "id": "3f507263",
   "metadata": {},
   "source": [
    "# Revisiting loan qualification using the \"and\" operator"
   ]
  },
  {
   "cell_type": "code",
   "execution_count": 86,
   "id": "413406c3",
   "metadata": {},
   "outputs": [
    {
     "name": "stdout",
     "output_type": "stream",
     "text": [
      "What is your annual salary? 30000\n",
      "How many years have you worked at your job? 2\n",
      "Congratulations! You qualify for the loan.\n"
     ]
    }
   ],
   "source": [
    "# Set constant variables \n",
    "MIN_SALARY = 30000\n",
    "MIN_YEARS = 2\n",
    "\n",
    "# Request input from user \n",
    "salary = float(input('What is your annual salary? '))\n",
    "years = int(input('How many years have you worked at your job? '))\n",
    "               \n",
    "# Use the \"and\" operator to simplify program\n",
    "if salary >= MIN_SALARY and years >= MIN_YEARS:\n",
    "               print('Congratulations! You qualify for the loan.')\n",
    "else:\n",
    "    print('You do not qualify for this loan.')"
   ]
  },
  {
   "cell_type": "markdown",
   "id": "e362987f",
   "metadata": {},
   "source": [
    "# Write a program that displays whether a number is between or outside of the range of 0 - 200"
   ]
  },
  {
   "cell_type": "code",
   "execution_count": 93,
   "id": "a7d194b4",
   "metadata": {},
   "outputs": [
    {
     "name": "stdout",
     "output_type": "stream",
     "text": [
      "Enter a number: 300\n",
      "The number is invalid.\n"
     ]
    }
   ],
   "source": [
    "speed = int(input('Enter a number: '))\n",
    "\n",
    "if speed >= 0 and speed <=200:\n",
    "    print('The number is valid.')\n",
    "else: \n",
    "    print('The number is invalid.')\n",
    "    "
   ]
  },
  {
   "cell_type": "code",
   "execution_count": 98,
   "id": "1db323f1",
   "metadata": {},
   "outputs": [
    {
     "name": "stdout",
     "output_type": "stream",
     "text": [
      "Entere a number: 200\n",
      "The number is valid.\n"
     ]
    }
   ],
   "source": [
    "speed = int(input('Entere a number: '))\n",
    "\n",
    "if speed <= 0 or speed >= 200:\n",
    "    print('The number is valid.')\n",
    "else:\n",
    "    print('The number is invalid.')"
   ]
  },
  {
   "cell_type": "code",
   "execution_count": 100,
   "id": "72ea943f",
   "metadata": {},
   "outputs": [],
   "source": [
    "# Turtle graphics game\n",
    "import turtle\n",
    "\n",
    "SCREEN_WIDTH = 600     # Screen width\n",
    "SCREEN_HEIGHT = 600    # Screen height\n",
    "TARGET_LLEFT_X = 100   # Target's lower-left X\n",
    "TARGET_LLEFT_Y = 250   # Target's lower-left Y\n",
    "TARGET_WIDTH = 25      # Width of the target\n",
    "FORCE_FACTOR = 30      # Arbitrary force factor\n",
    "PROJECTILE_SPEED = 1   # Projectile's animation speed\n",
    "NORTH = 90             # Angle of north direction\n",
    "SOUTH = 270            # Angle of south direction\n",
    "EAST = 0               # Angle of east direction\n",
    "WEST = 180             # Angle of west direction\n",
    "\n",
    "# Set up the window \n",
    "turtle.setup(SCREEN_WIDTH, SCREEN_HEIGHT)\n",
    "\n",
    "# Draw the target\n",
    "turtle.hideturtle()\n",
    "turtle.speed(0)\n",
    "turtle.penup()\n",
    "turtle.goto(TARGET_LLEFT_X, TARGET_LLEFT_Y)\n",
    "turtle.pendown()\n",
    "turtle.setheading(EAST)\n",
    "turtle.forward(TARGET_WIDTH)\n",
    "turtle.setheading(NORTH)\n",
    "turtle.forward(TARGET_WIDTH)\n",
    "turtle.setheading(WEST)\n",
    "turtle.forward(TARGET_WIDTH)\n",
    "turtle.setheading(SOUTH)\n",
    "turtle.forward(TARGET_WIDTH)\n",
    "turtle.penup()"
   ]
  },
  {
   "cell_type": "markdown",
   "id": "3123ee20",
   "metadata": {},
   "source": [
    "# Programming Exercise\n",
    "## Problem 2 - Areas of Rectangles\n",
    "The area of a rectangle is the rectangle’s length times its width. Write a program that asks for the length and width of two rectangles. The program should tell the user which rectangle has the greater area, or if the areas are the same."
   ]
  },
  {
   "cell_type": "code",
   "execution_count": 4,
   "id": "68613c71",
   "metadata": {},
   "outputs": [
    {
     "name": "stdout",
     "output_type": "stream",
     "text": [
      "What is the length of the first rectangle? 5\n",
      "What is the width of the first rectangle? 2\n",
      "What is the length of the second rectangle? 10\n",
      "What is the width of the second rectangle? 2\n",
      "The area of rectangle 2 is greater than the area of rectangle 1.\n"
     ]
    }
   ],
   "source": [
    "length_1 = float(input('What is the length of the first rectangle? '))\n",
    "width_1 = float(input('What is the width of the first rectangle? '))\n",
    "\n",
    "length_2 = float(input('What is the length of the second rectangle? '))\n",
    "width_2 = float(input('What is the width of the second rectangle? '))\n",
    "\n",
    "area_1 = length_1 * width_1\n",
    "area_2 = length_2 * width_2\n",
    "\n",
    "if area_1 > area_2:\n",
    "    print('The area of rectangle 1 is greater than the area of rectangle 2.')\n",
    "elif area_1 < area_2:\n",
    "    print('The area of rectangle 2 is greater than the area of rectangle 1.')"
   ]
  },
  {
   "cell_type": "markdown",
   "id": "b21098ac",
   "metadata": {},
   "source": [
    "## Problem 3 - Age Classifier\n",
    "Write a program that asks the user to enter a person’s age. The program should display a message indicating whether the person is an infant, a child, a teenager, or an adult. Following are the guidelines:\n",
    "\n",
    "If the person is 1 year old or less, he or she is an infant.\n",
    "\n",
    "If the person is older than 1 year, but younger than 13 years, he or she is a child.\n",
    "\n",
    "If the person is at least 13 years old, but less than 20 years old, he or she is a teenager.\n",
    "\n",
    "If the person is at least 20 years old, he or she is an adult."
   ]
  },
  {
   "cell_type": "code",
   "execution_count": 13,
   "id": "4b860251",
   "metadata": {},
   "outputs": [
    {
     "name": "stdout",
     "output_type": "stream",
     "text": [
      "Enter your age: 19\n",
      "You are a teenager.\n"
     ]
    }
   ],
   "source": [
    "age = int(input('Enter your age: '))\n",
    "\n",
    "if age < 1:\n",
    "    print('You are an infant.')\n",
    "    \n",
    "elif age >= 1 and age < 13:\n",
    "    print('You are a child.')\n",
    "    \n",
    "elif age >= 13 and age < 20:\n",
    "    print('You are a teenager.')\n",
    "    \n",
    "elif age >= 20:\n",
    "    print('You are an adult.')"
   ]
  },
  {
   "cell_type": "markdown",
   "id": "2ae83354",
   "metadata": {},
   "source": [
    "## Problem 6 - Magic Dates\n",
    "The date June 10, 1960, is special because when it is written in the following format, the month times the day equals the year:\n",
    "\n",
    "6/10/60\n",
    "\n",
    "Design a program that asks the user to enter a month (in numeric form), a day, and a two-digit year. The program should then determine whether the month times the day equals the year. If so, it should display a message saying the date is magic. Otherwise, it should display a message saying the date is not magic."
   ]
  },
  {
   "cell_type": "code",
   "execution_count": 2,
   "id": "748eb1b9",
   "metadata": {},
   "outputs": [
    {
     "name": "stdout",
     "output_type": "stream",
     "text": [
      "*************************\n",
      "* MAGIC YEAR CALCULATOR *\n",
      "*************************\n",
      "\n",
      "When the month times the day equals the year, this is called a magic year.\n",
      "\n",
      "This calculator will determine if the exact date entered is a magic year or not.\n",
      "\n",
      "Enter a day, month, and year in two digit format to find out if it is a magic year or not!\n",
      "\n",
      "Enter a month: 14\n",
      "Enter a day: 13\n",
      "Enter a year: 66\n",
      "Error, there are only 12 months in a year.\n",
      "It is not a magic year.\n"
     ]
    }
   ],
   "source": [
    "# Beginning prompt to explain and ask for day, month, and year in two digit format\n",
    "print('*************************')\n",
    "print('* MAGIC YEAR CALCULATOR *')\n",
    "print('*************************')\n",
    "print()\n",
    "print('When the month times the day equals the year, this is called a magic year.\\n\\n' +\n",
    "     'This calculator will determine if the exact date entered is a magic year or not.\\n\\n' + \n",
    "     'Enter a month, day, and year in two digit format to find out if it is a magic year or not!\\n')\n",
    "\n",
    "month = int(input('Enter a month: '))\n",
    "day = int(input('Enter a day: '))\n",
    "year = int(input('Enter a year: '))\n",
    "\n",
    "while True:\n",
    "    if month < 1 or month > 12:\n",
    "        print('Error, there are only 12 months in a year.')\n",
    "        break\n",
    "\n",
    "if month == 1:\n",
    "    if day < 1 or day > 31:\n",
    "        while True:\n",
    "            print('There are 31 days in January.')\n",
    "            break\n",
    "\n",
    "elif month == 2:\n",
    "    if day < 1 or day > 28:\n",
    "        while True:\n",
    "            print('There are 28 days in February.')\n",
    "            break\n",
    "\n",
    "elif month == 3:\n",
    "    if day < 1 or day > 31:\n",
    "        while True:\n",
    "            print('There are 31 days in March.')\n",
    "            break\n",
    "\n",
    "elif month == 4:\n",
    "    if day < 1 or day > 30:\n",
    "        while True:\n",
    "            print('There are 30 days in April.')\n",
    "            break\n",
    "\n",
    "elif month == 5:\n",
    "    if day < 1 or day > 31:\n",
    "        while True:\n",
    "            print('There are 31 days in May.')\n",
    "            break\n",
    "\n",
    "elif month == 6:\n",
    "    if day < 1 or day > 30:\n",
    "        while True:\n",
    "            print('There are 30 days in June.')\n",
    "            break\n",
    "\n",
    "elif month == 7:\n",
    "    if day < 1 or day > 31:\n",
    "        while True:\n",
    "            print('There are 31 days in July.')\n",
    "            break\n",
    "\n",
    "elif month == 8:\n",
    "    if day < 1 or day > 31:\n",
    "        while True:\n",
    "            print('There are 31 days in August.')\n",
    "            break\n",
    "\n",
    "elif month == 9:\n",
    "    if day < 1 or day > 30:\n",
    "        while True:\n",
    "            print('There are 30 days in September.')\n",
    "            break\n",
    "\n",
    "elif month == 10:\n",
    "    if day < 1 or day > 31:\n",
    "        while True:\n",
    "            print('There are 31 days in October.')\n",
    "            break\n",
    "\n",
    "elif month == 11:\n",
    "    if day < 1 or day > 30:\n",
    "        while True:\n",
    "            print('There are 30 days in November.')\n",
    "            break\n",
    "\n",
    "elif month == 12:\n",
    "    if day < 1 or day > 31:\n",
    "        while True:\n",
    "            print('There are 31 days in December.')\n",
    "            break    \n",
    "\n",
    "# if statement to determine whether it is a magic year          \n",
    "else:\n",
    "    if (day * month) == year:\n",
    "        print('It is a magic year!')\n",
    "\n",
    "    else:\n",
    "        print('It is not a magic year.')\n",
    "    "
   ]
  },
  {
   "cell_type": "markdown",
   "id": "62e50a15",
   "metadata": {},
   "source": [
    "## Problem 10 Money Counting Game\n",
    "Create a change-counting game that gets the user to enter the number of coins required to make exactly one dollar. The program should prompt the user to enter the number of pennies, nickels, dimes, and quarters. If the total value of the coins entered is equal to one dollar, the program should congratulate the user for winning the game. Otherwise, the program should display a message indicating whether the amount entered was more than or less than one dollar.\n",
    "\n"
   ]
  },
  {
   "cell_type": "code",
   "execution_count": null,
   "id": "36b1ecae",
   "metadata": {},
   "outputs": [],
   "source": [
    "print('***********************')\n",
    "print('* MONEY COUNTING GAME *')\n",
    "print('***********************')\n",
    "print()\n",
    "print('Welcome to the money counting game! Please enter a number of different coins.\\n\\n'\n",
    "     + 'If the total adds up to a dollar, you win!\\n\\n' +\n",
    "     'If you go over, however, you lose! Enter your amount below.')\n",
    "\n",
    "num_pennies = float(input('Enter a number of pennies: '))\n",
    "num_nickels = float(input('Enter a number of nickels: '))\n",
    "num_dimes = float(input('Enter a number of dimes: '))\n",
    "num_quarters = float(input('Enter a number of quarters: '))\n",
    "\n",
    "value_p = num_pennies * 0.01\n",
    "value_n = num_nickels * 0.05\n",
    "value_d = num_dimes * 0.1\n",
    "value_q = num_quarters * 0.25\n",
    "                     \n",
    "WIN = 1\n",
    "                     \n",
    "TOTAL = value_p + value_n + value_d + value_q\n",
    "                     \n",
    "if TOTAL == WIN:\n",
    "    print('CONGRATULATIONS! YOU WIN!')\n",
    "else:\n",
    "    print('Sorry, you lose. Please try again.')"
   ]
  },
  {
   "cell_type": "markdown",
   "id": "8028ff2f",
   "metadata": {},
   "source": [
    "## Problem 11 - Book Club Points \n",
    "Serendipity Booksellers has a book club that awards points to its customers based on the number of books purchased each month. The points are awarded as follows:\n",
    "\n",
    "If a customer purchases 0 books, he or she earns 0 points.\n",
    "\n",
    "If a customer purchases 2 books, he or she earns 5 points.\n",
    "\n",
    "If a customer purchases 4 books, he or she earns 15 points.\n",
    "\n",
    "If a customer purchases 6 books, he or she earns 30 points.\n",
    "\n",
    "If a customer purchases 8 or more books, he or she earns 60 points.\n",
    "\n",
    "Write a program that asks the user to enter the number of books that he or she has purchased this month, then displays the number of points awarded."
   ]
  },
  {
   "cell_type": "code",
   "execution_count": 10,
   "id": "d31bfb22",
   "metadata": {},
   "outputs": [
    {
     "name": "stdout",
     "output_type": "stream",
     "text": [
      "Enter the number of books you purchased this month: 8\n",
      "You earned 60 points this month!\n"
     ]
    }
   ],
   "source": [
    "num_books = int(input('Enter the number of books you purchased this month: '))\n",
    "\n",
    "points = 0\n",
    "\n",
    "if num_books == 0 and num_books == 1:\n",
    "    points += 0\n",
    "\n",
    "elif num_books >= 2 and num_books <= 3:\n",
    "    points += 5\n",
    "    \n",
    "elif num_books >= 4 and num_books <= 5:\n",
    "    points += 15\n",
    "    \n",
    "elif num_books >= 6 and num_books <= 7:\n",
    "    points += 30\n",
    "    \n",
    "elif num_books >= 8:\n",
    "    points += 60\n",
    "    \n",
    "print(f'You earned {points} points this month!')"
   ]
  },
  {
   "cell_type": "code",
   "execution_count": null,
   "id": "2f2ca0f2",
   "metadata": {},
   "outputs": [],
   "source": []
  }
 ],
 "metadata": {
  "kernelspec": {
   "display_name": "Python 3 (ipykernel)",
   "language": "python",
   "name": "python3"
  },
  "language_info": {
   "codemirror_mode": {
    "name": "ipython",
    "version": 3
   },
   "file_extension": ".py",
   "mimetype": "text/x-python",
   "name": "python",
   "nbconvert_exporter": "python",
   "pygments_lexer": "ipython3",
   "version": "3.10.9"
  }
 },
 "nbformat": 4,
 "nbformat_minor": 5
}
