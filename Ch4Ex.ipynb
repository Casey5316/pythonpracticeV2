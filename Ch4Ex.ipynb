{
 "cells": [
  {
   "cell_type": "markdown",
   "id": "5f019abf",
   "metadata": {},
   "source": [
    "# Chapter 4 Exercises\n",
    "# Algorithm Workbench"
   ]
  },
  {
   "cell_type": "markdown",
   "id": "2f50a9b4",
   "metadata": {},
   "source": [
    "## Problem 1\n",
    "Write a while loop that lets the user enter a number. The number should be multiplied by 10, and the result assigned to a variable named product. The loop should iterate as long as product is less than 100."
   ]
  },
  {
   "cell_type": "code",
   "execution_count": 5,
   "id": "db7ae4b7",
   "metadata": {},
   "outputs": [
    {
     "name": "stdout",
     "output_type": "stream",
     "text": [
      "Enter a number: 9.9\n",
      "99.0\n",
      "Enter a number: 9.99\n",
      "99.9\n",
      "Enter a number: 9.123456789\n",
      "91.23456789000001\n",
      "Enter a number: 10\n",
      "100.0\n",
      "Enter a number: 10.01\n"
     ]
    }
   ],
   "source": [
    "# Get number from user\n",
    "number = float(input('Enter a number: '))\n",
    "\n",
    "# Formula to calculate product \n",
    "product = number * 10\n",
    "\n",
    "# While loop that executes calculation while product is less than 100\n",
    "while product < 100:\n",
    "    product = number * 10\n",
    "    print(product)\n",
    "    number = float(input('Enter a number: '))"
   ]
  },
  {
   "cell_type": "markdown",
   "id": "d13b48d4",
   "metadata": {},
   "source": [
    "## Problem 2 \n",
    "Write a while loop that asks the user to enter two numbers. The numbers should be added and the sum displayed. The loop should ask the user if he or she wishes to perform the operation again. If so, the loop should repeat, otherwise it should terminate."
   ]
  },
  {
   "cell_type": "code",
   "execution_count": null,
   "id": "6539ced1",
   "metadata": {},
   "outputs": [
    {
     "name": "stdout",
     "output_type": "stream",
     "text": [
      "Enter a number: 4\n",
      "Enter a number: 4\n",
      "8\n",
      "Do you want to add another set of numbers? y\n",
      "Enter a number: 7\n",
      "Enter a number: 3\n",
      "8\n",
      "Do you want to add another set of numbers? n\n"
     ]
    }
   ],
   "source": [
    "# Get two numbers from user\n",
    "number1 = int(input('Enter a number: '))\n",
    "number2 = int(input('Enter a number: '))\n",
    "\n",
    "total = number1 + number2\n",
    "\n",
    "# Establish continuation of while loop\n",
    "keep_going = 'y'\n",
    "\n",
    "# While loop to add two numbers, display sum, and request input\n",
    "# for another calculation\n",
    "while keep_going == 'y' or keep_going == 'Y':\n",
    "    print(total)\n",
    "    input('Do you want to add another set of numbers? ')\n",
    "    number1 = int(input('Enter a number: '))\n",
    "    number2 = int(input('Enter a number: '))"
   ]
  },
  {
   "cell_type": "markdown",
   "id": "5beb559c",
   "metadata": {},
   "source": [
    "I noticed I didn't have the variable \"total\" inside of the while loop or keep_going assigned to the input within the loop"
   ]
  },
  {
   "cell_type": "code",
   "execution_count": null,
   "id": "82a5f9dc",
   "metadata": {},
   "outputs": [],
   "source": [
    "# Get two numbers from user\n",
    "number1 = int(input('Enter a number: '))\n",
    "number2 = int(input('Enter a number: '))\n",
    "\n",
    "# Establish continuation of while loop\n",
    "keep_going = 'y'\n",
    "\n",
    "# While loop to add two numbers, display sum, and request input \n",
    "# for another calculation\n",
    "while keep_going == 'y' or keep_going == 'Y':\n",
    "    total = number1 + number2\n",
    "    print(total)\n",
    "    keep_going = input('Do you want to add another set of numbers? ')\n",
    "    number1 = int(input('Enter a number: '))\n",
    "    number2 = int(input('Enter a number: '))"
   ]
  },
  {
   "cell_type": "markdown",
   "id": "38c48f6c",
   "metadata": {},
   "source": [
    "## Problem 3\n",
    "Write a for loop that displays the following set of numbers:\n",
    "\n",
    " 0, 10, 20, 30, 40, 50 . . . 1000"
   ]
  },
  {
   "cell_type": "code",
   "execution_count": 3,
   "id": "772cabb0",
   "metadata": {},
   "outputs": [
    {
     "name": "stdout",
     "output_type": "stream",
     "text": [
      "0\n",
      "10\n",
      "20\n",
      "30\n",
      "40\n",
      "50\n",
      "60\n",
      "70\n",
      "80\n",
      "90\n",
      "100\n",
      "110\n",
      "120\n",
      "130\n",
      "140\n",
      "150\n",
      "160\n",
      "170\n",
      "180\n",
      "190\n",
      "200\n",
      "210\n",
      "220\n",
      "230\n",
      "240\n",
      "250\n",
      "260\n",
      "270\n",
      "280\n",
      "290\n",
      "300\n",
      "310\n",
      "320\n",
      "330\n",
      "340\n",
      "350\n",
      "360\n",
      "370\n",
      "380\n",
      "390\n",
      "400\n",
      "410\n",
      "420\n",
      "430\n",
      "440\n",
      "450\n",
      "460\n",
      "470\n",
      "480\n",
      "490\n",
      "500\n",
      "510\n",
      "520\n",
      "530\n",
      "540\n",
      "550\n",
      "560\n",
      "570\n",
      "580\n",
      "590\n",
      "600\n",
      "610\n",
      "620\n",
      "630\n",
      "640\n",
      "650\n",
      "660\n",
      "670\n",
      "680\n",
      "690\n",
      "700\n",
      "710\n",
      "720\n",
      "730\n",
      "740\n",
      "750\n",
      "760\n",
      "770\n",
      "780\n",
      "790\n",
      "800\n",
      "810\n",
      "820\n",
      "830\n",
      "840\n",
      "850\n",
      "860\n",
      "870\n",
      "880\n",
      "890\n",
      "900\n",
      "910\n",
      "920\n",
      "930\n",
      "940\n",
      "950\n",
      "960\n",
      "970\n",
      "980\n",
      "990\n",
      "1000\n"
     ]
    }
   ],
   "source": [
    "# For loop that displays numbers 0 through 1000\n",
    "# in factors of 10\n",
    "for i in range(0, 1001, 10):\n",
    "    print(i)"
   ]
  },
  {
   "cell_type": "markdown",
   "id": "1ee2fcf7",
   "metadata": {},
   "source": [
    "## Problem 4\n",
    "Write a loop that asks the user to enter a number. The loop should iterate 10 times and keep a running total of the numbers entered."
   ]
  },
  {
   "cell_type": "code",
   "execution_count": 7,
   "id": "ef039913",
   "metadata": {},
   "outputs": [
    {
     "name": "stdout",
     "output_type": "stream",
     "text": [
      "Enter a number: 456\n",
      "Number: 456\n",
      " Total: 1\n",
      "Enter a number: 47645\n",
      "Number: 47645\n",
      " Total: 2\n",
      "Enter a number: 3245\n",
      "Number: 3245\n",
      " Total: 3\n",
      "Enter a number: 654\n",
      "Number: 654\n",
      " Total: 4\n",
      "Enter a number: 234\n",
      "Number: 234\n",
      " Total: 5\n",
      "Enter a number: 56\n",
      "Number: 56\n",
      " Total: 6\n",
      "Enter a number: 34\n",
      "Number: 34\n",
      " Total: 7\n",
      "Enter a number: 23\n",
      "Number: 23\n",
      " Total: 8\n",
      "Enter a number: 34\n",
      "Number: 34\n",
      " Total: 9\n",
      "Enter a number: 6\n"
     ]
    }
   ],
   "source": [
    "# Get number from user\n",
    "number = int(input('Enter a number: '))\n",
    "\n",
    "# Establish constant that is starting point of range\n",
    "START = 1\n",
    "\n",
    "# Establish constant that is ending point of range\n",
    "FINISH = 10\n",
    "\n",
    "# Running total variable \n",
    "total = 0\n",
    "\n",
    "# for loop that requests user to input a number\n",
    "# program will display the number and\n",
    "# keep a running total of numbers entered\n",
    "for i in range(START, FINISH):\n",
    "    total += 1\n",
    "    print(f'Number: {number}\\n Total: {total}')\n",
    "    number = int(input('Enter a number: '))"
   ]
  },
  {
   "cell_type": "markdown",
   "id": "c6539f4b",
   "metadata": {},
   "source": [
    "With the above program, I could not figure out how to display the final total statement without having to enter 11 numbers "
   ]
  },
  {
   "cell_type": "markdown",
   "id": "656da525",
   "metadata": {},
   "source": [
    "# Programming Exercises\n",
    "## Problem 1 - Bug Collector\n",
    "A bug collector collects bugs every day for five days. Write a program that keeps a running total of the number of bugs collected during the five days. The loop should ask for the number of bugs collected for each day, and when the loop is finished, the program should display the total number of bugs collected."
   ]
  },
  {
   "cell_type": "code",
   "execution_count": 105,
   "id": "03337c26",
   "metadata": {},
   "outputs": [
    {
     "name": "stdout",
     "output_type": "stream",
     "text": [
      "Enter the number of bugs collected during day 1 of the week: 5\n",
      "Enter the number of bugs collected during day 2 of the week: 5\n",
      "Enter the number of bugs collected during day 3 of the week: 5\n",
      "Enter the number of bugs collected during day 4 of the week: 5\n",
      "Enter the number of bugs collected during day 5 of the week: 5\n",
      "The total number of bugs collected this week is: 25\n"
     ]
    }
   ],
   "source": [
    "# Constant of 5 days per week\n",
    "DAYS = 5\n",
    "\n",
    "# Running total accumulator \n",
    "total = 0\n",
    "\n",
    "# For loop that iterates each day of DAYS\n",
    "# and requests input for bugs collected each day\n",
    "# Running total is total bugs per week \n",
    "for day_num in range(DAYS):\n",
    "    bugs = int(input(f'Enter the number of bugs collected during day {day_num + 1} of the week: '))\n",
    "    total += bugs\n",
    "\n",
    "# Display total number of bugs collected\n",
    "print(f'The total number of bugs collected this week is: {total}')"
   ]
  },
  {
   "cell_type": "markdown",
   "id": "758773ad",
   "metadata": {},
   "source": [
    "## Problem 4 - Distance Travelled\n",
    "The distance a vehicle travels can be calculated as follows:\n",
    "\n",
    "distance = speed x time\n",
    "\n",
    "For example, if a train travels 40 miles per hour for three hours, the distance traveled is 120 miles. Write a program that asks the user for the speed of a vehicle (in miles per hour) and the number of hours it has traveled. It should then use a loop to display the distance the vehicle has traveled for each hour of that time period. "
   ]
  },
  {
   "cell_type": "code",
   "execution_count": 17,
   "id": "d0813da9",
   "metadata": {},
   "outputs": [
    {
     "name": "stdout",
     "output_type": "stream",
     "text": [
      "Enter the speed travelled in mph: -10\n",
      "Enter the amount of hours travelled: 55\n",
      "Error: Invalid data entry. Please enter a valid\n",
      "number in the \"speed\" or \"hours travelled\" section.\n",
      "Enter the speed travelled at in mph: 70\n",
      "Enter the amount of hours travelled: 10\n",
      "70\n",
      "140\n",
      "210\n",
      "280\n",
      "350\n",
      "420\n",
      "490\n",
      "560\n",
      "630\n",
      "700\n"
     ]
    }
   ],
   "source": [
    "# Get speed and hours travelled from user\n",
    "speed = int(input('Enter the speed travelled in mph: '))\n",
    "hours_travelled = int(input('Enter the amount of hours travelled: '))\n",
    "\n",
    "# Running total for total distance travelled\n",
    "total_distance = 0\n",
    "\n",
    "# Input validation loop that does \n",
    "# not allow negative numbers\n",
    "while speed < 0 or hours_travelled < 0:\n",
    "    print('Error: Invalid data entry. Please enter a valid\\n'\n",
    "         + 'number in the \\\"speed\\\" or \\\"hours travelled\\\" section.')\n",
    "    speed = int(input('Enter the speed travelled at in mph: '))\n",
    "    hours_travelled = int(input('Enter the amount of hours travelled: '))\n",
    "\n",
    "# for loop that calculates miles travelled \n",
    "# at each hour of travel \n",
    "for hr in range(hours_travelled):\n",
    "    distance_in_hr = speed * 1\n",
    "    total_distance += distance_in_hr\n",
    "    print(total_distance)"
   ]
  },
  {
   "cell_type": "markdown",
   "id": "e960cdef",
   "metadata": {},
   "source": [
    "## Problem 11\n",
    "If a moderately active person cuts their calorie intake by 500 calories a day, they can typically lose about 4 pounds a month. Write a program that lets the user enter their starting weight, then creates and displays a table showing what their expected weight will be at the end of each month for the next 6 months if they stay on this diet."
   ]
  },
  {
   "cell_type": "code",
   "execution_count": 72,
   "id": "bd8a08af",
   "metadata": {},
   "outputs": [
    {
     "name": "stdout",
     "output_type": "stream",
     "text": [
      "Enter your starting weight: 200\n",
      "|Expected weight at end of month 1|\n",
      "|\t\t196\t\t  |\n",
      "|---------------------------------|\n",
      "|\t\t\t\t  |\n",
      "|Expected weight at end of month 2|\n",
      "|\t\t192\t\t  |\n",
      "|---------------------------------|\n",
      "|\t\t\t\t  |\n",
      "|Expected weight at end of month 3|\n",
      "|\t\t188\t\t  |\n",
      "|---------------------------------|\n",
      "|\t\t\t\t  |\n",
      "|Expected weight at end of month 4|\n",
      "|\t\t184\t\t  |\n",
      "|---------------------------------|\n",
      "|\t\t\t\t  |\n",
      "|Expected weight at end of month 5|\n",
      "|\t\t180\t\t  |\n",
      "|---------------------------------|\n",
      "|\t\t\t\t  |\n",
      "|Expected weight at end of month 6|\n",
      "|\t\t176\t\t  |\n",
      "|---------------------------------|\n",
      "|\t\t\t\t  |\n"
     ]
    }
   ],
   "source": [
    "# Get starting weight from user\n",
    "starting_weight = int(input('Enter your starting weight: '))\n",
    "\n",
    "# Constant for rate of loss 4 lb/month\n",
    "LOSS_RATE = 4\n",
    "\n",
    "# Constant for length of diet in months\n",
    "DIET_LENGTH = 6\n",
    "\n",
    "# Running total of starting weight to be subtracted from \n",
    "expected_weight = starting_weight\n",
    "\n",
    "# For loop that calculates weight at each\n",
    "# month during the diet and prints result\n",
    "# in table format \n",
    "for month in range(DIET_LENGTH):\n",
    "    monthly_weight = expected_weight - LOSS_RATE\n",
    "    expected_weight -= LOSS_RATE\n",
    "    print(f'|Expected weight at end of month {month + 1}|')\n",
    "    print(f'|\\t\\t{monthly_weight}\\t\\t  |')\n",
    "    print('|---------------------------------|')\n",
    "    print('|\\t\\t\\t\\t  |')"
   ]
  },
  {
   "cell_type": "markdown",
   "id": "17a2b721",
   "metadata": {},
   "source": [
    "The most difficult part for this one was formatting the table. I ended up centering the monthly weight using \\t, although I'm sure there is a better way to do it. Also couldn't find out how not to print the last portion of the table again. "
   ]
  },
  {
   "cell_type": "markdown",
   "id": "044cc72a",
   "metadata": {},
   "source": [
    "# Problem 14\n",
    "Write a program that uses nested loops to draw this pattern:\n",
    " *******\n",
    " ******\n",
    " *****\n",
    " ****\n",
    " ***\n",
    " **\n",
    " *"
   ]
  },
  {
   "cell_type": "code",
   "execution_count": 103,
   "id": "a847ca90",
   "metadata": {},
   "outputs": [
    {
     "name": "stdout",
     "output_type": "stream",
     "text": [
      "*******\n",
      "******\n",
      "*****\n",
      "****\n",
      "***\n",
      "**\n",
      "*\n"
     ]
    }
   ],
   "source": [
    "# Set base size for triangle since it is 7 by 7\n",
    "BASE_SIZE = 7\n",
    "\n",
    "# for loop that prints inverted triangle of asterisks\n",
    "for row in range(BASE_SIZE):\n",
    "    for col in range(BASE_SIZE - row):\n",
    "        print('*', end='')\n",
    "    print()"
   ]
  },
  {
   "cell_type": "markdown",
   "id": "72436b81",
   "metadata": {},
   "source": [
    "This one took more time than I expected. I found that if you reverse the loop in the inner for loop, it will invert the triangle from the original code we had from the book. "
   ]
  },
  {
   "cell_type": "code",
   "execution_count": null,
   "id": "0cb76fe7",
   "metadata": {},
   "outputs": [],
   "source": []
  }
 ],
 "metadata": {
  "kernelspec": {
   "display_name": "Python 3 (ipykernel)",
   "language": "python",
   "name": "python3"
  },
  "language_info": {
   "codemirror_mode": {
    "name": "ipython",
    "version": 3
   },
   "file_extension": ".py",
   "mimetype": "text/x-python",
   "name": "python",
   "nbconvert_exporter": "python",
   "pygments_lexer": "ipython3",
   "version": "3.10.9"
  }
 },
 "nbformat": 4,
 "nbformat_minor": 5
}
