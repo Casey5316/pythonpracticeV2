{
 "cells": [
  {
   "cell_type": "markdown",
   "id": "5624dd67",
   "metadata": {},
   "source": [
    "# Chapter 4 Exercises\n",
    "# Algorithm Workbench"
   ]
  },
  {
   "cell_type": "markdown",
   "id": "f43c21b3",
   "metadata": {},
   "source": [
    "## Problem 1\n",
    "Write a while loop that lets the user enter a number. The number should be multiplied by 10, and the result assigned to a variable named product. The loop should iterate as long as product is less than 100."
   ]
  },
  {
   "cell_type": "code",
   "execution_count": 5,
   "id": "a369a338",
   "metadata": {},
   "outputs": [
    {
     "name": "stdout",
     "output_type": "stream",
     "text": [
      "Enter a number: 9.9\n",
      "99.0\n",
      "Enter a number: 9.99\n",
      "99.9\n",
      "Enter a number: 9.123456789\n",
      "91.23456789000001\n",
      "Enter a number: 10\n",
      "100.0\n",
      "Enter a number: 10.01\n"
     ]
    }
   ],
   "source": [
    "# Get number from user\n",
    "number = float(input('Enter a number: '))\n",
    "\n",
    "# Formula to calculate product \n",
    "product = number * 10\n",
    "\n",
    "# While loop that executes calculation while product is less than 100\n",
    "while product < 100:\n",
    "    product = number * 10\n",
    "    print(product)\n",
    "    number = float(input('Enter a number: '))"
   ]
  },
  {
   "cell_type": "markdown",
   "id": "027ecddd",
   "metadata": {},
   "source": [
    "## Problem 2 \n",
    "Write a while loop that asks the user to enter two numbers. The numbers should be added and the sum displayed. The loop should ask the user if he or she wishes to perform the operation again. If so, the loop should repeat, otherwise it should terminate."
   ]
  },
  {
   "cell_type": "code",
   "execution_count": null,
   "id": "9c947754",
   "metadata": {},
   "outputs": [
    {
     "name": "stdout",
     "output_type": "stream",
     "text": [
      "Enter a number: 4\n",
      "Enter a number: 4\n",
      "8\n",
      "Do you want to add another set of numbers? y\n",
      "Enter a number: 7\n",
      "Enter a number: 3\n",
      "8\n",
      "Do you want to add another set of numbers? n\n"
     ]
    }
   ],
   "source": [
    "# Get two numbers from user\n",
    "number1 = int(input('Enter a number: '))\n",
    "number2 = int(input('Enter a number: '))\n",
    "\n",
    "total = number1 + number2\n",
    "\n",
    "# Establish continuation of while loop\n",
    "keep_going = 'y'\n",
    "\n",
    "# While loop to add two numbers, display sum, and request input\n",
    "# for another calculation\n",
    "while keep_going == 'y' or keep_going == 'Y':\n",
    "    print(total)\n",
    "    input('Do you want to add another set of numbers? ')\n",
    "    number1 = int(input('Enter a number: '))\n",
    "    number2 = int(input('Enter a number: '))"
   ]
  },
  {
   "cell_type": "markdown",
   "id": "8ad06c3f",
   "metadata": {},
   "source": [
    "I noticed I didn't have the variable \"total\" inside of the while loop or keep_going assigned to the input within the loop"
   ]
  },
  {
   "cell_type": "code",
   "execution_count": null,
   "id": "7249319c",
   "metadata": {},
   "outputs": [],
   "source": [
    "# Get two numbers from user\n",
    "number1 = int(input('Enter a number: '))\n",
    "number2 = int(input('Enter a number: '))\n",
    "\n",
    "# Establish continuation of while loop\n",
    "keep_going = 'y'\n",
    "\n",
    "# While loop to add two numbers, display sum, and request input \n",
    "# for another calculation\n",
    "while keep_going == 'y' or keep_going == 'Y':\n",
    "    total = number1 + number2\n",
    "    print(total)\n",
    "    keep_going = input('Do you want to add another set of numbers? ')\n",
    "    number1 = int(input('Enter a number: '))\n",
    "    number2 = int(input('Enter a number: '))"
   ]
  },
  {
   "cell_type": "markdown",
   "id": "bd931613",
   "metadata": {},
   "source": []
  }
 ],
 "metadata": {
  "kernelspec": {
   "display_name": "Python 3 (ipykernel)",
   "language": "python",
   "name": "python3"
  },
  "language_info": {
   "codemirror_mode": {
    "name": "ipython",
    "version": 3
   },
   "file_extension": ".py",
   "mimetype": "text/x-python",
   "name": "python",
   "nbconvert_exporter": "python",
   "pygments_lexer": "ipython3",
   "version": "3.10.9"
  }
 },
 "nbformat": 4,
 "nbformat_minor": 5
}
