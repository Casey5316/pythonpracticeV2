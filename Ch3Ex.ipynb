{
 "cells": [
  {
   "cell_type": "markdown",
   "id": "a219e7e5",
   "metadata": {},
   "source": [
    "# Chapter 3 Exercises"
   ]
  },
  {
   "cell_type": "markdown",
   "id": "1701f724",
   "metadata": {},
   "source": [
    "# Algorithm Workbench \n",
    "## Problem 4"
   ]
  },
  {
   "cell_type": "markdown",
   "id": "a18e7af2",
   "metadata": {},
   "source": [
    "The following code contains several nested if-else statements. Unfortunately, it was written without proper alignment and indentation. Rewrite the code and use the proper conventions of alignment and indentation."
   ]
  },
  {
   "cell_type": "code",
   "execution_count": null,
   "id": "3cebba5b",
   "metadata": {},
   "outputs": [],
   "source": [
    "# Code that needs indentation/alignment\n",
    "if score >= A_score:\n",
    " print('Your grade is A.')\n",
    " else:\n",
    " if score >= B_score:\n",
    " print('Your grade is B.')\n",
    " else:\n",
    " if score >= C_score:\n",
    " print('Your grade is C.')\n",
    " else:\n",
    " if score >= D_score:\n",
    " print('Your grade is D.')\n",
    " else:\n",
    " print('Your grade is F.')"
   ]
  },
  {
   "cell_type": "markdown",
   "id": "07c68f4d",
   "metadata": {},
   "source": [
    "## Along with correcting the indentation, I also added variables to make sure the output came out correct. "
   ]
  },
  {
   "cell_type": "code",
   "execution_count": 53,
   "id": "31058ddf",
   "metadata": {},
   "outputs": [
    {
     "name": "stdout",
     "output_type": "stream",
     "text": [
      "Enter your test score: 55\n",
      "Your grade is F.\n"
     ]
    }
   ],
   "source": [
    "# Establish constant variables\n",
    "A_score = 90\n",
    "B_score = 80\n",
    "C_score = 70\n",
    "D_score = 60\n",
    "\n",
    "# Get test score from user and store as score \n",
    "score = int(input('Enter your test score: '))\n",
    "\n",
    "# If-else statements to determine the letter grade based on user entry\n",
    "if score >= A_score:\n",
    "    print('Your grade is A.')\n",
    "else:\n",
    "    if score >= B_score:\n",
    "        print('Your grade is B.')\n",
    "    else:\n",
    "        if score >= C_score:\n",
    "            print('Your grade is C.')\n",
    "        else:\n",
    "            if score >= D_score:\n",
    "                print('Your grade is D.')\n",
    "            else:\n",
    "                print('Your grade is F.')\n",
    "    "
   ]
  },
  {
   "cell_type": "markdown",
   "id": "7b021b05",
   "metadata": {},
   "source": [
    "## Problem 5\n",
    "Write nested decision structures that perform the following: If amount1 is greater than 10 and amount2 is less than 100, display the greater of amount1 and amount2."
   ]
  },
  {
   "cell_type": "code",
   "execution_count": 73,
   "id": "769b410a",
   "metadata": {},
   "outputs": [
    {
     "name": "stdout",
     "output_type": "stream",
     "text": [
      "Enter a number: 77\n",
      "Enter a number: 54\n",
      "77\n"
     ]
    }
   ],
   "source": [
    "# Get the two numbers and store as variables \n",
    "amount1 = int(input('Enter a number: '))\n",
    "amount2 = int(input('Enter a number: '))\n",
    "\n",
    "# Display the greater value of two numbers within the range of 10 - 100\n",
    "if amount1 > 10 and amount2 < 100:\n",
    "    if amount1 > amount2:\n",
    "        print(amount1)\n",
    "    else:\n",
    "        print(amount2)"
   ]
  },
  {
   "cell_type": "markdown",
   "id": "492a0a37",
   "metadata": {},
   "source": [
    "# Programming Exercises"
   ]
  },
  {
   "cell_type": "markdown",
   "id": "45a966d1",
   "metadata": {},
   "source": [
    "# Problem 1"
   ]
  },
  {
   "cell_type": "markdown",
   "id": "e59be9b3",
   "metadata": {},
   "source": [
    "Write a program that asks the user for a number in the range of 1 through 7. The program should display the corresponding day of the week, where 1 = Monday, 2 = Tuesday, 3 = Wednesday, 4 = Thursday, 5 = Friday, 6 = Saturday, and 7 = Sunday. The program should display an error message if the user enters a number that is outside the range of 1 through 7."
   ]
  },
  {
   "cell_type": "code",
   "execution_count": 35,
   "id": "e72412a9",
   "metadata": {},
   "outputs": [
    {
     "name": "stdout",
     "output_type": "stream",
     "text": [
      "Enter a number: 2\n",
      "The day is Tuesday.\n"
     ]
    }
   ],
   "source": [
    "# Set constant variables for days of the week\n",
    "D1 = 'Monday'\n",
    "D2 = 'Tuesday'\n",
    "D3 = 'Wednesday'\n",
    "D4 = 'Thursday'\n",
    "D5 = 'Friday'\n",
    "D6 = 'Saturday'\n",
    "D7 = 'Sunday'\n",
    "\n",
    "# Request user to input a day\n",
    "user_number = int(input('Enter a number: '))\n",
    "\n",
    "# Determine the day of the week using the number entered by the user\n",
    "if user_number < 1 or user_number > 7:\n",
    "    print('ERROR INVALID NUMBER ENTRY')\n",
    "    \n",
    "elif user_number == 1:\n",
    "    print(f'The day is {D1}.')\n",
    "    \n",
    "elif user_number == 2:\n",
    "    print(f'The day is {D2}.')\n",
    "    \n",
    "elif user_number == 3:\n",
    "    print(f'The day is {D3}.')\n",
    "    \n",
    "elif user_number == 4:\n",
    "    print(f'The day is {D4}.')\n",
    "    \n",
    "elif user_number == 5:\n",
    "    print(f'The day is {D5}.')\n",
    "    \n",
    "elif user_number == 6:\n",
    "    print(f'The day is {D6}.')\n",
    "    \n",
    "elif user_number == 7:\n",
    "    print(f'The day is {D7}.')"
   ]
  },
  {
   "cell_type": "markdown",
   "id": "245d13e4",
   "metadata": {},
   "source": [
    "# Problem 4\n",
    "Write a program that prompts the user to enter a number within the range of 1 through 10. The program should display the Roman numeral version of that number. If the number is outside the range of 1 through 10, the program should display an error message. The following table shows the Roman numerals for the numbers 1 through 10:"
   ]
  },
  {
   "cell_type": "code",
   "execution_count": 22,
   "id": "dd007b9f",
   "metadata": {},
   "outputs": [
    {
     "name": "stdout",
     "output_type": "stream",
     "text": [
      "Enter a number: 3\n",
      "III\n"
     ]
    }
   ],
   "source": [
    "# Set constant variables for the Roman numerals\n",
    "R1 = 'I'\n",
    "R2 = 'II'\n",
    "R3 = 'III'\n",
    "R4 = 'IV'\n",
    "R5 = 'V' \n",
    "R6 = 'VI'\n",
    "R7 = 'VII'\n",
    "R8 = 'VIII'\n",
    "R9 = 'IX'\n",
    "R10 = 'X'\n",
    "\n",
    "# Request user to input a number \n",
    "user_number = int(input('Enter a number: '))\n",
    "\n",
    "# Determine whether number is within range using an if-elif statement\n",
    "# Display user-entered number in roman numerals \n",
    "# Error message if number is out of given range\n",
    "if user_number < 1 or user_number > 10:\n",
    "    print('ERROR INVALID NUMBER ENTRY. PLEASE ENTER A NUMBER BETWEEN 1 AND 10.')\n",
    "    \n",
    "elif user_number == 1:\n",
    "    print(R1)\n",
    "elif user_number == 2:\n",
    "    print(R2)\n",
    "elif user_number == 3:\n",
    "    print(R3)\n",
    "elif user_number == 4:\n",
    "    print(R4)\n",
    "elif user_number == 5:\n",
    "    print(R5)\n",
    "elif user_number == 6:\n",
    "    print(R6)\n",
    "elif user_number == 7:\n",
    "    print(R7)\n",
    "elif user_number == 8:\n",
    "    print(R8)\n",
    "elif user_number == 9:\n",
    "    print(R9)\n",
    "elif user_number == 10:\n",
    "    print(R10)"
   ]
  },
  {
   "cell_type": "markdown",
   "id": "698edfef",
   "metadata": {},
   "source": [
    "# Problem 5\n",
    "Scientists measure an object’s mass in kilograms and its weight in newtons. If you know the amount of mass of an object in kilograms, you can calculate its weight in newtons with the following formula: weight = mass * 9.8.\n",
    "\n",
    "Write a program that asks the user to enter an object’s mass, then calculates its weight. If the object weighs more than 500 newtons, display a message indicating that it is too heavy. If the object weighs less than 100 newtons, display a message indicating that it is too light."
   ]
  },
  {
   "cell_type": "code",
   "execution_count": 29,
   "id": "349ae372",
   "metadata": {},
   "outputs": [
    {
     "name": "stdout",
     "output_type": "stream",
     "text": [
      "Enter mass in kilograms: 17.9\n",
      "The object weighs 175.4 Newtons.\n"
     ]
    }
   ],
   "source": [
    "# We don't have to set a constant, but we can assuming 9.8 is the force of gravity\n",
    "GRAVITY = 9.8\n",
    "\n",
    "# Prompt user to enter mass in kg\n",
    "mass = float(input('Enter mass in kilograms: '))\n",
    "\n",
    "# Convert weight from kilograms to newtons\n",
    "weight = mass * GRAVITY\n",
    "\n",
    "# Set a range for the error message using if-elif-else statements\n",
    "# If within range, print result in Newtons. \n",
    "if weight < 100:\n",
    "    print('Object is too light.')\n",
    "elif weight > 500:\n",
    "    print('Object is too heavy.')\n",
    "else:\n",
    "    print(f'The object weighs {weight:.1f} Newtons.')"
   ]
  },
  {
   "cell_type": "markdown",
   "id": "b97f690c",
   "metadata": {},
   "source": [
    "# Problem 17 Wifi Diagnostic Tree"
   ]
  },
  {
   "cell_type": "code",
   "execution_count": 9,
   "id": "0874f5f0",
   "metadata": {},
   "outputs": [
    {
     "name": "stdout",
     "output_type": "stream",
     "text": [
      "ERROR DISCONNECTED FROM NETWORK\n",
      "Reboot the computer and try to reconnect.\n",
      "Did this solve the problem? no\n",
      "Please reboot the router and try to reconnect.\n",
      "Did this solve the problem? no\n",
      "Check cables between router and modem and try to reconnect.\n",
      "Did this solve the problem? yes\n",
      "You are now connected to your wireless network.\n"
     ]
    }
   ],
   "source": [
    "print('ERROR DISCONNECTED FROM NETWORK')\n",
    "print('Reboot the computer and try to reconnect.')\n",
    "\n",
    "answer = input('Did this solve the problem? ')\n",
    "\n",
    "if answer == 'yes' or answer == 'no':\n",
    "    if answer == 'no':\n",
    "        print('Please reboot the router and try to reconnect.')\n",
    "        answer = input('Did this solve the problem? ')\n",
    "        \n",
    "        if answer == 'yes' or answer == 'no':\n",
    "            if answer =='no':\n",
    "                print('Check cables between router and modem and try to reconnect.')\n",
    "                answer = input('Did this solve the problem? ')\n",
    "                \n",
    "                if answer == 'yes' or answer == 'no':\n",
    "                    if answer == 'no':\n",
    "                        print('Move the router to a new location and try to reconnect.')\n",
    "                        answer = input('Did this solve the problem? ')\n",
    "                        \n",
    "                        if answer == 'yes' or answer == 'no':\n",
    "                            if answer == 'no':\n",
    "                                print('Get a new router.')\n",
    "                            else:\n",
    "                                print('You are now connected to your wireless network.')\n",
    "                        else:\n",
    "                            print('You are now connected to your wireless network.')\n",
    "                    else:\n",
    "                        print('You are now connected to your wireless network.')\n",
    "                else:\n",
    "                    print('You are now connected to your wireless network.')\n",
    "            else:\n",
    "                print('You are now connected to your wireless network.')\n",
    "        else:\n",
    "            print('You are now connected to your wireless network.')\n",
    "    else:\n",
    "        print('You are now connected to your wireless network.') \n",
    "else:\n",
    "    print('You are now connected to your wireless network.')"
   ]
  },
  {
   "cell_type": "markdown",
   "id": "c2fbc461",
   "metadata": {},
   "source": [
    "## Problem 16\n",
    "The month of February normally has 28 days. But if it is a leap year, February has 29 days. Write a program that asks the user to enter a year. The program should then display the number of days in February that year. Use the following criteria to identify leap years:\n",
    "\n",
    "Determine whether the year is divisible by 100. If it is, then it is a leap year if and only if it is also divisible by 400. For example, 2000 is a leap year, but 2100 is not.\n",
    "\n",
    "If the year is not divisible by 100, then it is a leap year if and only if it is divisible by 4. For example, 2008 is a leap year, but 2009 is not."
   ]
  },
  {
   "cell_type": "code",
   "execution_count": 14,
   "id": "1d3e35f8",
   "metadata": {},
   "outputs": [
    {
     "name": "stdout",
     "output_type": "stream",
     "text": [
      "Enter a year: 1054\n",
      "February, 1054, has 28 days and is not a leap year.\n"
     ]
    }
   ],
   "source": [
    "year = int(input('Enter a year: '))\n",
    "\n",
    "if (year % 100) == 0 and (year % 400) == 0:\n",
    "    print(f'February, {year}, has 29 days and is a leap year.')\n",
    "\n",
    "elif (year % 100) != 0 and (year % 4) == 0:\n",
    "    print(f'February, {year}, has 29 days and is a leap year.')\n",
    "    \n",
    "else:\n",
    "    print(f'February, {year}, has 28 days and is not a leap year.')"
   ]
  },
  {
   "cell_type": "code",
   "execution_count": null,
   "id": "8ae8b25e",
   "metadata": {},
   "outputs": [],
   "source": []
  }
 ],
 "metadata": {
  "kernelspec": {
   "display_name": "Python 3 (ipykernel)",
   "language": "python",
   "name": "python3"
  },
  "language_info": {
   "codemirror_mode": {
    "name": "ipython",
    "version": 3
   },
   "file_extension": ".py",
   "mimetype": "text/x-python",
   "name": "python",
   "nbconvert_exporter": "python",
   "pygments_lexer": "ipython3",
   "version": "3.10.9"
  }
 },
 "nbformat": 4,
 "nbformat_minor": 5
}
