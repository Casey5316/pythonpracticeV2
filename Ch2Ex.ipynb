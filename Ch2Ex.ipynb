{
 "cells": [
  {
   "cell_type": "markdown",
   "id": "094d656c",
   "metadata": {},
   "source": [
    "# Chapter 2 Exercises"
   ]
  },
  {
   "cell_type": "markdown",
   "id": "f75a1eea",
   "metadata": {},
   "source": [
    "## Algorithm Workbench\n",
    "## Problem 1"
   ]
  },
  {
   "cell_type": "code",
   "execution_count": 4,
   "id": "840418e5",
   "metadata": {},
   "outputs": [
    {
     "name": "stdout",
     "output_type": "stream",
     "text": [
      "What is your height? 74\"\n"
     ]
    }
   ],
   "source": [
    "# Write a code that prompts the user to enter their height and stores it as a variable\n",
    "# The simplest way to do this is below\n",
    "height = input('What is your height? ')"
   ]
  },
  {
   "cell_type": "code",
   "execution_count": 5,
   "id": "3bab0d8f",
   "metadata": {},
   "outputs": [
    {
     "name": "stdout",
     "output_type": "stream",
     "text": [
      "What is your height in inches? 74\n",
      "Your height is 6' 2\".\n"
     ]
    }
   ],
   "source": [
    "# We can make more practical use out of this by converting the height from inches to feet\n",
    "# Get height in inches\n",
    "height = int(input('What is your height in inches? '))\n",
    "\n",
    "# Convert inches to feet while keeping the remainder in inches\n",
    "feet = int(height // 12)\n",
    "\n",
    "inches = int(height % 12)\n",
    "\n",
    "# Display height in formatted appearance\n",
    "print(f'''Your height is {feet}' {inches}\".''')"
   ]
  },
  {
   "cell_type": "markdown",
   "id": "f8c48efa",
   "metadata": {},
   "source": [
    "## Problem 3"
   ]
  },
  {
   "cell_type": "markdown",
   "id": "94f7c30c",
   "metadata": {},
   "source": [
    "Using the variables a, b, and c, write assignment statements that perform the following operations:"
   ]
  },
  {
   "cell_type": "markdown",
   "id": "67fbf5fe",
   "metadata": {},
   "source": [
    "Adds 2 to a and assigns the result to b. "
   ]
  },
  {
   "cell_type": "code",
   "execution_count": null,
   "id": "e113812c",
   "metadata": {},
   "outputs": [],
   "source": [
    "b = 2 + a"
   ]
  },
  {
   "cell_type": "markdown",
   "id": "461a9829",
   "metadata": {},
   "source": [
    "Multiplies b times 4 and assigns the result to a"
   ]
  },
  {
   "cell_type": "code",
   "execution_count": null,
   "id": "ba24af47",
   "metadata": {},
   "outputs": [],
   "source": [
    "a = b * 4"
   ]
  },
  {
   "cell_type": "markdown",
   "id": "a0a0a05b",
   "metadata": {},
   "source": [
    "Divides a by 3.14 and assigns the result to b"
   ]
  },
  {
   "cell_type": "code",
   "execution_count": null,
   "id": "76408669",
   "metadata": {},
   "outputs": [],
   "source": [
    "b = a / 3.14"
   ]
  },
  {
   "cell_type": "markdown",
   "id": "cc52d9a7",
   "metadata": {},
   "source": [
    "Subtracts 8 from b and assigns the result to a"
   ]
  },
  {
   "cell_type": "code",
   "execution_count": null,
   "id": "67875989",
   "metadata": {},
   "outputs": [],
   "source": [
    "a = b - 8"
   ]
  },
  {
   "cell_type": "markdown",
   "id": "d24c0f7b",
   "metadata": {},
   "source": [
    "## Problem 5\n",
    "\n",
    "Write a python statement that assigns the sum of 14 and 10 to the variable \"total\". "
   ]
  },
  {
   "cell_type": "code",
   "execution_count": null,
   "id": "2521c804",
   "metadata": {},
   "outputs": [],
   "source": [
    "# Assign the sum of 14 and 10 to the variable total\n",
    "total = 14 + 10 "
   ]
  },
  {
   "cell_type": "markdown",
   "id": "ae4b3ce2",
   "metadata": {},
   "source": [
    "## Problem 6\n",
    "Write a python statement that subtracts the variable down_payment from the variable \"total\" and assigns the value to the variable \"due\""
   ]
  },
  {
   "cell_type": "code",
   "execution_count": 7,
   "id": "ce77652e",
   "metadata": {},
   "outputs": [
    {
     "name": "stdout",
     "output_type": "stream",
     "text": [
      "$232,500\n"
     ]
    }
   ],
   "source": [
    "# Get the total value and down_payment value\n",
    "total = 250000\n",
    "down_payment = 17500\n",
    "\n",
    "# Assign the value to the \"due\" variable\n",
    "due = total - down_payment\n",
    "\n",
    "# Display due amount as an integer with a dollar sign and comma separation\n",
    "print(f'${due:,}')"
   ]
  },
  {
   "cell_type": "markdown",
   "id": "a75a4a95",
   "metadata": {},
   "source": [
    "## Problem 7\n",
    "Write a python statement that multiplies the variable \"subtotal\" by 0.15 and assign the result to the variable \"total\"."
   ]
  },
  {
   "cell_type": "code",
   "execution_count": 8,
   "id": "9eb8b456",
   "metadata": {},
   "outputs": [
    {
     "name": "stdout",
     "output_type": "stream",
     "text": [
      "225.0\n"
     ]
    }
   ],
   "source": [
    "# Get variable values \n",
    "subtotal = 1500\n",
    "rate = 0.15\n",
    "\n",
    "# Multiply subtotal by the rate and store as total\n",
    "total = float(subtotal * rate)\n",
    "\n",
    "print(total)"
   ]
  },
  {
   "cell_type": "markdown",
   "id": "5f47e0cb",
   "metadata": {},
   "source": [
    "## Problem 13\n",
    "Write a turtle graphics statement that draws a circle with a radius of 75 pixels"
   ]
  },
  {
   "cell_type": "code",
   "execution_count": 9,
   "id": "f25e7d15",
   "metadata": {},
   "outputs": [],
   "source": [
    "# Call upon the turtle \n",
    "import turtle\n",
    "\n",
    "# Show the turtle so you can see your circle\n",
    "turtle.showturtle()\n",
    "\n",
    "# Command turtle to draw circle at radius of 75 pixels\n",
    "turtle.circle(75)"
   ]
  },
  {
   "cell_type": "markdown",
   "id": "4005c213",
   "metadata": {},
   "source": [
    "# Programming Exercises "
   ]
  },
  {
   "cell_type": "markdown",
   "id": "b42d07e9",
   "metadata": {},
   "source": [
    "## Problem 3"
   ]
  },
  {
   "cell_type": "code",
   "execution_count": 8,
   "id": "de1246fc",
   "metadata": {},
   "outputs": [
    {
     "name": "stdout",
     "output_type": "stream",
     "text": [
      "How many square feet is your property? 570000\n",
      "The area of your property is 13.1 acres.\n"
     ]
    }
   ],
   "source": [
    "# Create a program that converts square feet to acres \n",
    "# Request input for square feet area of land\n",
    "total_sqft = int(input('How many square feet is your property? '))\n",
    "\n",
    "# Calculate acreage by converting sq ft using this formula\n",
    "acreage = total_sqft / 43560\n",
    "\n",
    "# Display acreage conversion\n",
    "print(f'The area of your property is {acreage:.1f} acres.')"
   ]
  },
  {
   "cell_type": "markdown",
   "id": "7918ee74",
   "metadata": {},
   "source": [
    "## Problem 9"
   ]
  },
  {
   "cell_type": "code",
   "execution_count": 5,
   "id": "2d7a4add",
   "metadata": {},
   "outputs": [
    {
     "name": "stdout",
     "output_type": "stream",
     "text": [
      "What is the temperature in degrees Celsius? 23\n",
      "The temperature in Fahrenheit is 73 degrees.\n"
     ]
    }
   ],
   "source": [
    "# Create a Celsius to Fahrenheit converter\n",
    "# Request input for the value of temperature in degrees Celsius\n",
    "C = int(input('What is the temperature in degrees Celsius? '))\n",
    "\n",
    "# Use this formula to convert Celsius to Fahrenheit\n",
    "F = 9 / 5 * C + 32\n",
    "\n",
    "# Display the temperature converted into degrees Fahrenheit\n",
    "print(f'The temperature in Fahrenheit is {F:.0f} degrees.')"
   ]
  },
  {
   "cell_type": "markdown",
   "id": "71cf1e43",
   "metadata": {},
   "source": [
    "## Problem 13"
   ]
  },
  {
   "cell_type": "code",
   "execution_count": 4,
   "id": "109fd920",
   "metadata": {},
   "outputs": [
    {
     "name": "stdout",
     "output_type": "stream",
     "text": [
      "What is the length of the row in feet? 10\n",
      "What is the amount of space used by an end post assembly in feet? 2\n",
      "What is the amount of space between vines in feet? 1\n",
      "You can fit 6 grapevines per row.\n"
     ]
    }
   ],
   "source": [
    "# Create a program that can determine the amount of grapevines that can fit in a single row\n",
    "# Request user to input data for calculation\n",
    "row_length = int(input('What is the length of the row in feet? '))\n",
    "end_post = int(input('What is the amount of space used by an end post assembly in feet? '))\n",
    "space = int(input('What is the amount of space between vines in feet? '))\n",
    "\n",
    "# Use formula to calculate amount of vines that will fit in a row\n",
    "vines = row_length - 2 * end_post / space\n",
    "\n",
    "# Display amount of grapevines that can fit in a row as an integer\n",
    "print(f'You can fit {vines:.0f} grapevines per row.')\n"
   ]
  },
  {
   "cell_type": "code",
   "execution_count": null,
   "id": "a67c51ab",
   "metadata": {},
   "outputs": [],
   "source": []
  }
 ],
 "metadata": {
  "kernelspec": {
   "display_name": "Python 3 (ipykernel)",
   "language": "python",
   "name": "python3"
  },
  "language_info": {
   "codemirror_mode": {
    "name": "ipython",
    "version": 3
   },
   "file_extension": ".py",
   "mimetype": "text/x-python",
   "name": "python",
   "nbconvert_exporter": "python",
   "pygments_lexer": "ipython3",
   "version": "3.10.9"
  }
 },
 "nbformat": 4,
 "nbformat_minor": 5
}
