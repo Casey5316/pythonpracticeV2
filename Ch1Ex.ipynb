{
 "cells": [
  {
   "cell_type": "markdown",
   "id": "30cfddd3",
   "metadata": {},
   "source": [
    "# Ch. 1 Exercises\n",
    "\n",
    "Problems 1, 3, and 4"
   ]
  },
  {
   "cell_type": "markdown",
   "id": "9a9d10e6",
   "metadata": {},
   "source": [
    "## Problem 1"
   ]
  },
  {
   "cell_type": "code",
   "execution_count": 1,
   "id": "e5b0cdfb",
   "metadata": {},
   "outputs": [
    {
     "name": "stdout",
     "output_type": "stream",
     "text": [
      "This is a test of the Python interpreter.\n"
     ]
    }
   ],
   "source": [
    "print('This is a test of the Python interpreter.')"
   ]
  },
  {
   "cell_type": "code",
   "execution_count": 2,
   "id": "e43107f3",
   "metadata": {},
   "outputs": [
    {
     "name": "stdout",
     "output_type": "stream",
     "text": [
      "What is your name? Casey\n",
      "Hello, Casey!\n"
     ]
    }
   ],
   "source": [
    "name = input('What is your name? ')\n",
    "print(f'Hello, {name}!')"
   ]
  },
  {
   "cell_type": "code",
   "execution_count": 3,
   "id": "7f1a1d75",
   "metadata": {},
   "outputs": [
    {
     "name": "stdout",
     "output_type": "stream",
     "text": [
      "What is your name? Casey\n",
      "What school do you go to? Lansing Community College\n",
      "What are you going to school for? Computer Programming\n",
      "Hello, Casey! Welcome to Lansing Community College. We hope you achieve success in our Computer Programming program!\n"
     ]
    }
   ],
   "source": [
    "name = input('What is your name? ')\n",
    "school = input('What school do you go to? ')\n",
    "major = input('What are you going to school for? ')\n",
    "\n",
    "print(f'Hello, {name}! Welcome to {school}. We hope you achieve success in our {major} program!')"
   ]
  },
  {
   "cell_type": "code",
   "execution_count": 4,
   "id": "f7eae81b",
   "metadata": {},
   "outputs": [
    {
     "name": "stdout",
     "output_type": "stream",
     "text": [
      "What is your name? Casey\n",
      "What is your age? 27\n",
      "Casey is 27 years old.\n"
     ]
    }
   ],
   "source": [
    "name = input('What is your name? ')\n",
    "age = input('What is your age? ')\n",
    "\n",
    "print(name + ' is ' + age + ' years old.')"
   ]
  },
  {
   "cell_type": "markdown",
   "id": "26aab79c",
   "metadata": {},
   "source": [
    "## Problem 3"
   ]
  },
  {
   "cell_type": "markdown",
   "id": "2249e06c",
   "metadata": {},
   "source": [
    "## Convert these decimal numbers to binary\n",
    "\n",
    "11 = 00001011 = 8 + 2 + 1 \n",
    "\n",
    "65 = 01000001 = 64 + 1 \n",
    "\n",
    "100 = 01100100 = 64 + 32 + 4\n",
    "\n",
    "255 = 11111111 = 128 + 64 + 32 + 16 + 8 + 4 + 2 + 1\n",
    "\n",
    "To get these answers I took my decimal number and started from the farthest left binary value (128) and subtracted each binary value from my decimal number going right until I reach the farthest right binary value (1). If the binary place value cannot be subtracted from the decimal number, the number in the binary sequence will be 0. "
   ]
  },
  {
   "cell_type": "code",
   "execution_count": 5,
   "id": "0a083bc4",
   "metadata": {},
   "outputs": [
    {
     "name": "stdout",
     "output_type": "stream",
     "text": [
      "0b1011\n"
     ]
    }
   ],
   "source": [
    "print(bin(11))"
   ]
  },
  {
   "cell_type": "code",
   "execution_count": 10,
   "id": "2ca5957e",
   "metadata": {},
   "outputs": [
    {
     "name": "stdout",
     "output_type": "stream",
     "text": [
      "0b1000001\n"
     ]
    }
   ],
   "source": [
    "print(bin(65))"
   ]
  },
  {
   "cell_type": "code",
   "execution_count": 7,
   "id": "644779fd",
   "metadata": {},
   "outputs": [
    {
     "name": "stdout",
     "output_type": "stream",
     "text": [
      "0b1100100\n"
     ]
    }
   ],
   "source": [
    "print(bin(100))"
   ]
  },
  {
   "cell_type": "code",
   "execution_count": 8,
   "id": "49aa51a7",
   "metadata": {},
   "outputs": [
    {
     "name": "stdout",
     "output_type": "stream",
     "text": [
      "0b11111111\n"
     ]
    }
   ],
   "source": [
    "print(bin(255))"
   ]
  },
  {
   "cell_type": "markdown",
   "id": "0a8b39c9",
   "metadata": {},
   "source": [
    "You can also use the bin() and int() functions to change a decimal number to binary, or binary to a decimal number, respectively. "
   ]
  },
  {
   "cell_type": "markdown",
   "id": "41411c36",
   "metadata": {},
   "source": [
    "## Problem 4"
   ]
  },
  {
   "cell_type": "markdown",
   "id": "dbb36794",
   "metadata": {},
   "source": [
    "## Convert binary to decimal numbers"
   ]
  },
  {
   "cell_type": "markdown",
   "id": "e9b1beb6",
   "metadata": {},
   "source": [
    "1101 = 00001101 = 8 + 4 + 1 = 13\n",
    "\n",
    "1000 = 00001000 = 8\n",
    "\n",
    "101011 = 00101011 = 32 + 8 + 2 + 1\n",
    "\n",
    "Again, I followed the values of each binary digit from left to right, and added together the values of each binary digit place that showed a \"1\". The total sum is the binary number converted to a decimal. "
   ]
  },
  {
   "cell_type": "code",
   "execution_count": null,
   "id": "8376f37a",
   "metadata": {},
   "outputs": [],
   "source": []
  }
 ],
 "metadata": {
  "kernelspec": {
   "display_name": "Python 3 (ipykernel)",
   "language": "python",
   "name": "python3"
  },
  "language_info": {
   "codemirror_mode": {
    "name": "ipython",
    "version": 3
   },
   "file_extension": ".py",
   "mimetype": "text/x-python",
   "name": "python",
   "nbconvert_exporter": "python",
   "pygments_lexer": "ipython3",
   "version": "3.10.9"
  }
 },
 "nbformat": 4,
 "nbformat_minor": 5
}
