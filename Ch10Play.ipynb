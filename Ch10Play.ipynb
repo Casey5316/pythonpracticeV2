{
 "cells": [
  {
   "cell_type": "markdown",
   "id": "1eb07304",
   "metadata": {},
   "source": [
    "# Chapter 10 Notes\n",
    "\n",
    "## Classes - Basic syntax notes\n",
    "### When you define a class, it is a good rule of thumb to capitalize the first letter of the class to differentiate between variables and classes. Such as: \n",
    "class Coin: \n",
    "\n",
    "VS\n",
    "\n",
    "coin = 'whatever' \n",
    "\n",
    "### When defining a class, any method within the class takes a parameter called 'self' \n",
    "\n",
    "class Coin:\n",
    "\n",
    "\n",
    "    def __init__(self):\n",
    "    \n",
    "    \n",
    "    \n",
    "### __init__ is a method that initializes an object's data attributes. It is typically the first method called in a class. \n",
    "### ChatGPT shows a brilliant example of classes and the __init__ method below:"
   ]
  },
  {
   "cell_type": "code",
   "execution_count": null,
   "id": "3cb5a2eb",
   "metadata": {},
   "outputs": [],
   "source": [
    "class Dog:\n",
    "    def __init__(self, name, age):\n",
    "        self.name = name\n",
    "        self.age = age\n",
    "\n",
    "    def bark(self):\n",
    "        print(\"Woof!\")\n",
    "\n",
    "# Creating a new Dog object\n",
    "my_dog = Dog(\"Max\", 3)\n",
    "\n",
    "# Accessing the object's attributes\n",
    "print(my_dog.name)  # Output: Max\n",
    "print(my_dog.age)   # Output: 3\n",
    "\n",
    "# Calling the object's method\n",
    "my_dog.bark()       # Output: Woof!\n"
   ]
  },
  {
   "cell_type": "markdown",
   "id": "c7f638b5",
   "metadata": {},
   "source": [
    "### __init__ defines what data attributes the instance of the class you create is going to have. In this case, each instance of Dog is going to have a name and an age. Inside the __init__ method, we assign the name and age values to the object's instance variables (self.name and self.age). These variables hold the specific name and age values for each dog object.Then in a separate private method, the dog can bark. \n",
    "\n",
    "### If we truly want to simulate a coin that is being tossed, then we don’t want code outside the class to be able to change the result of the toss method. To prevent this from happening, we need to make the sideup attribute private. In Python, you can hide an attribute by starting its name with two underscore characters. If we change the name of the sideup attribute to _ _sideup, then code outside the Coin class will not be able to access it.\n",
    "\n",
    "### Displaying an object’s state is a common task. It is so common that many programmers equip their classes with a method that returns a string containing the object’s state. In Python, you give this method the special name _ _str_ _. "
   ]
  },
  {
   "cell_type": "markdown",
   "id": "39af60c9",
   "metadata": {},
   "source": [
    "# Example problem from the book of a class that represents a cell phone and has three attributes: a manufacturer, model, and retail price "
   ]
  },
  {
   "cell_type": "code",
   "execution_count": null,
   "id": "2a998910",
   "metadata": {},
   "outputs": [],
   "source": [
    "class CellPhone:\n",
    "    def __init__(self, __manufact, __model, __retail_price):\n",
    "        self.__manufact = manufact\n",
    "        self.__model = model\n",
    "        self.__retail = retail_price\n",
    "\n",
    "        \n",
    "        \n",
    "        \n",
    "        \n",
    "        \n",
    "    def set_manufact(self, manufact):\n",
    "        self.__manufact = manufact\n",
    "    \n",
    "    \n",
    "    \n",
    "    \n",
    "    \n",
    "        \n",
    "    def set_model(self, model):\n",
    "        self.__model = model\n",
    "        \n",
    "        \n",
    "        \n",
    "        \n",
    "    def set_retail_price(self, retail_price):\n",
    "        self.__retail = retail_price\n",
    "        \n",
    "        \n",
    "        \n",
    "        \n",
    "    def get_manufact(self):\n",
    "        return self.__manufact\n",
    "    \n",
    "    \n",
    "    \n",
    "    \n",
    "    def get_model(self):\n",
    "        return self.__model\n",
    "    \n",
    "    \n",
    "    \n",
    "    def get_retail(self):\n",
    "        return self.__retail"
   ]
  },
  {
   "cell_type": "markdown",
   "id": "879f38b4",
   "metadata": {},
   "source": [
    "# _ _str_ _ method explained below in a ChatGPT representation:\n",
    "\n",
    "# In Python, the _ _str_ _ method is a special method that you can define within a class. It's used to provide a human-readable string representation of an object. When you use the built-in str() function or the print() function on an object, Python will internally call the object's _ _str_ _ method to obtain the string representation."
   ]
  },
  {
   "cell_type": "code",
   "execution_count": null,
   "id": "1a11b57c",
   "metadata": {},
   "outputs": [],
   "source": [
    "class Person:\n",
    "    def __init__(self, name, age):\n",
    "        self.name = name\n",
    "        self.age = age\n",
    "\n",
    "    def __str__(self):\n",
    "        return f\"Person: {self.name}, {self.age} years old\"\n",
    "\n",
    "# Creating a new Person object\n",
    "person = Person(\"Alice\", 25)\n",
    "\n",
    "# Printing the object or using str() function\n",
    "print(person)      # Output: Person: Alice, 25 years old\n",
    "print(str(person)) # Output: Person: Alice, 25 years old"
   ]
  },
  {
   "cell_type": "markdown",
   "id": "b68e24c1",
   "metadata": {},
   "source": [
    "# One good way to determine the classes you need to create is to get a written description of the problem domain.\n",
    "\n",
    "# The problem domain description should include any of the following:\n",
    "\n",
    "# Physical objects such as vehicles, machines, or products\n",
    "\n",
    "# Any role played by a person, such as manager, employee, customer, teacher, student, etc.\n",
    "\n",
    "# The results of a business event, such as a customer order, or in this case a service quote\n",
    "\n",
    "# Recordkeeping items, such as customer histories and payroll records\n",
    "\n",
    "\n",
    "\n",
    "# Another good way to determine the classes you will need to create for an object oriented program is to identify all of the nouns within the description. They are all potential classes."
   ]
  },
  {
   "cell_type": "code",
   "execution_count": null,
   "id": "bdabf8f4",
   "metadata": {},
   "outputs": [],
   "source": []
  }
 ],
 "metadata": {
  "kernelspec": {
   "display_name": "Python 3 (ipykernel)",
   "language": "python",
   "name": "python3"
  },
  "language_info": {
   "codemirror_mode": {
    "name": "ipython",
    "version": 3
   },
   "file_extension": ".py",
   "mimetype": "text/x-python",
   "name": "python",
   "nbconvert_exporter": "python",
   "pygments_lexer": "ipython3",
   "version": "3.10.9"
  }
 },
 "nbformat": 4,
 "nbformat_minor": 5
}
