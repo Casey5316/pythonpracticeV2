{
 "cells": [
  {
   "cell_type": "markdown",
   "id": "480e752d",
   "metadata": {},
   "source": [
    "# Chapter 5 Practice\n"
   ]
  },
  {
   "cell_type": "code",
   "execution_count": 3,
   "id": "e5bba741",
   "metadata": {},
   "outputs": [
    {
     "name": "stdout",
     "output_type": "stream",
     "text": [
      "Hello there, Casey!\n",
      "You look tired.\n",
      "You should really work on your python skills!\n"
     ]
    }
   ],
   "source": [
    "def main():\n",
    "    print('Hello there, Casey!')\n",
    "    print('You look tired.')\n",
    "    display_message()\n",
    "    \n",
    "def display_message():\n",
    "    message = 'You should really work on your python skills!'\n",
    "    print(message)\n",
    "\n",
    "main()"
   ]
  },
  {
   "cell_type": "code",
   "execution_count": 2,
   "id": "afc945fe",
   "metadata": {},
   "outputs": [
    {
     "name": "stdout",
     "output_type": "stream",
     "text": [
      "This program converts\n",
      "cups to ounces. One cup is\n",
      "equal to eight fluid ounces.\n",
      "Enter the number of cups: 8\n",
      "That converts to 64 ounces.\n"
     ]
    }
   ],
   "source": [
    "def main():\n",
    "    intro()\n",
    "    cups_needed = int(input('Enter the number of cups: '))\n",
    "    cups_to_ounces(cups_needed)\n",
    "    \n",
    "def intro():\n",
    "    print('This program converts')\n",
    "    print('cups to ounces. One cup is')\n",
    "    print('equal to eight fluid ounces.')\n",
    "    \n",
    "def cups_to_ounces(cups):\n",
    "    ounces = cups * 8\n",
    "    print(f'That converts to {ounces} ounces.')\n",
    "    \n",
    "main()"
   ]
  },
  {
   "cell_type": "markdown",
   "id": "2b367297",
   "metadata": {},
   "source": [
    "Marilyn works for Integrated Systems, Inc., a software company that has a reputation for providing excellent fringe benefits. One of their benefits is a quarterly bonus that is paid to all employees. Another benefit is a retirement plan for each employee. The company contributes 5 percent of each employee’s gross pay and bonuses to their retirement plans. Marilyn wants to write a program that will calculate the company’s contribution to an employee’s retirement account for a year. She wants the program to show the amount of contribution for the employee’s gross pay and for the bonuses separately. Here is an algorithm for the program:\n",
    "\n",
    "Get the employee’s annual gross pay.\n",
    "\n",
    "Get the amount of bonuses paid to the employee.\n",
    "\n",
    "Calculate and display the contribution for the gross pay.\n",
    "\n",
    "Calculate and display the contribution for the bonuses.\n",
    "\n"
   ]
  },
  {
   "cell_type": "code",
   "execution_count": 6,
   "id": "3ae52f01",
   "metadata": {},
   "outputs": [
    {
     "name": "stdout",
     "output_type": "stream",
     "text": [
      "Enter your gross pay: 179000\n",
      "Enter your bonus: 25000\n",
      "Company contribution for pay is: $8,950.00.\n",
      "Company contribution for bonus is: $1,250.00.\n"
     ]
    }
   ],
   "source": [
    "# Global constant to represent company\n",
    "# contribution rate to bonus and\n",
    "# retirement fund\n",
    "CONTRIBUTION_RATE = 0.05\n",
    "\n",
    "# Calculates and displays company \n",
    "# contribution to bonus and gross pay \n",
    "def main():\n",
    "    gross_pay = float(input('Enter your gross pay: '))\n",
    "    bonus = float(input('Enter your bonus: '))\n",
    "    show_pay_contrib(gross_pay)\n",
    "    show_bonus_contrib(bonus)\n",
    "    \n",
    "# Calculates and displays company \n",
    "# contribution to gross pay\n",
    "def show_pay_contrib(gross):\n",
    "    contrib = gross * CONTRIBUTION_RATE\n",
    "    print(f'Company contribution for pay is: ${contrib:,.2f}.')\n",
    "    \n",
    "    \n",
    "# Calculates and displays company\n",
    "# contribution to bonus\n",
    "def show_bonus_contrib(bonus):\n",
    "    contrib = bonus * CONTRIBUTION_RATE\n",
    "    print(f'Company contribution for bonus is: ${contrib:,.2f}.')\n",
    "    \n",
    "main()"
   ]
  },
  {
   "cell_type": "markdown",
   "id": "0fc8db8d",
   "metadata": {},
   "source": [
    "Dr. Kimura teaches an introductory statistics class and has asked you to write a program that he can use in class to simulate the rolling of dice. The program should randomly generate two numbers in the range of 1 through 6 and display them. In your interview with Dr. Kimura, you learn that he would like to use the program to simulate several rolls of the dice, one after the other. Here is the pseudocode for the program:\n",
    "\n",
    "While the user wants to roll the dice:\n",
    "\n",
    "Display a random number in the range of 1 through 6\n",
    "\n",
    "Display another random number in the range of 1 through 6\n",
    "\n",
    "Ask the user if he or she wants to roll the dice again\n",
    "\n",
    "You will write a while loop that simulates one roll of the dice and then asks the user if another roll should be performed. As long as the user answers “y” for yes, the loop will repeat."
   ]
  },
  {
   "cell_type": "code",
   "execution_count": null,
   "id": "02ec5ffa",
   "metadata": {},
   "outputs": [],
   "source": [
    "import random\n",
    "\n",
    "def main():\n",
    "    keep_going = input('''Do you want to roll the dice?\\n \n",
    "Type \\'y\\' for yes or \\'n\\' for no: ''')\n",
    "    \n",
    "    while keep_going == 'y' or keep_going == 'Y':\n",
    "        print('Rolling the dice...')\n",
    "        print('Your rolls are: ')\n",
    "        roll_dice_1()\n",
    "        roll_dice_2()\n",
    "        keep_going = input('Do you want to roll again? ')\n",
    "\n",
    "def roll_dice_1():\n",
    "    roll_1 = print(random.randint(1,6))\n",
    "    \n",
    "def roll_dice_2():\n",
    "    roll_2 = print(random.randint(1,6))\n",
    "    \n",
    "main()"
   ]
  },
  {
   "cell_type": "markdown",
   "id": "9bf88b0f",
   "metadata": {},
   "source": [
    "Dr. Kimura was so happy with the dice rolling simulator that you wrote for him, he has asked you to write one more program. He would like a program that he can use to simulate ten coin tosses, one after the other. Each time the program simulates a coin toss, it should randomly display either “Heads” or “Tails”.\n",
    "\n",
    "You decide that you can simulate the tossing of a coin by randomly generating a number in the range of 1 through 2. You will write an if statement that displays “Heads” if the random number is 1, or “Tails” otherwise. Here is the pseudocode:\n",
    "\n",
    "Repeat 10 times:\n",
    "\n",
    "If a random number in the range of 1 through 2 equals 1 then:\n",
    "\n",
    "Display ‘Heads’\n",
    "\n",
    "Else:\n",
    "\n",
    "Display ‘Tails’"
   ]
  },
  {
   "cell_type": "code",
   "execution_count": 1,
   "id": "e2002a7e",
   "metadata": {},
   "outputs": [
    {
     "name": "stdout",
     "output_type": "stream",
     "text": [
      "Tossing the coin...\n",
      "Heads!\n",
      "\n",
      "Tossing the coin...\n",
      "Heads!\n",
      "\n",
      "Tossing the coin...\n",
      "Heads!\n",
      "\n",
      "Tossing the coin...\n",
      "Tails!\n",
      "\n",
      "Tossing the coin...\n",
      "Heads!\n",
      "\n",
      "Tossing the coin...\n",
      "Heads!\n",
      "\n",
      "Tossing the coin...\n",
      "Tails!\n",
      "\n",
      "Tossing the coin...\n",
      "Tails!\n",
      "\n",
      "Tossing the coin...\n",
      "Tails!\n",
      "\n",
      "Tossing the coin...\n",
      "Tails!\n",
      "\n"
     ]
    }
   ],
   "source": [
    "import random\n",
    "\n",
    "def main():\n",
    "    for tosses in range(10):\n",
    "        print('Tossing the coin...')\n",
    "        coin_toss()\n",
    "    \n",
    "def coin_toss():\n",
    "    toss = random.randint(1,2)\n",
    "    if toss == 1:\n",
    "        print('Heads!\\n')\n",
    "        \n",
    "    else:\n",
    "        print('Tails!\\n')\n",
    "        \n",
    "main()"
   ]
  },
  {
   "cell_type": "code",
   "execution_count": 23,
   "id": "5a9df6e9",
   "metadata": {},
   "outputs": [
    {
     "name": "stdout",
     "output_type": "stream",
     "text": [
      "Enter a number: 64\n",
      "The square root of 64.0 is 8.00.\n"
     ]
    }
   ],
   "source": [
    "import math\n",
    "\n",
    "def main():\n",
    "    number = float(input('Enter a number: '))\n",
    "    \n",
    "    square_root = math.sqrt(number)\n",
    "    \n",
    "    print(f'The square root of {number} is {square_root:.2f}.')\n",
    "    \n",
    "main()"
   ]
  },
  {
   "cell_type": "markdown",
   "id": "1afad317",
   "metadata": {},
   "source": [
    "Write a statement that uses a math module function to convert 45 degrees to radians and assigns the value to a variable."
   ]
  },
  {
   "cell_type": "code",
   "execution_count": 28,
   "id": "ded764cc",
   "metadata": {},
   "outputs": [
    {
     "name": "stdout",
     "output_type": "stream",
     "text": [
      "Enter a number of degrees: 90\n",
      "90.0 degrees is equal to 1.571 radians.\n"
     ]
    }
   ],
   "source": [
    "import math\n",
    "\n",
    "def main():\n",
    "    number_degrees = float(input('Enter a number of degrees: '))\n",
    "    number_radians = math.radians(number_degrees)\n",
    "    print(f'{number_degrees} degrees is equal to {number_radians:.3f} radians.')\n",
    "main()\n",
    "    "
   ]
  },
  {
   "cell_type": "code",
   "execution_count": null,
   "id": "682e71fc",
   "metadata": {},
   "outputs": [],
   "source": []
  }
 ],
 "metadata": {
  "kernelspec": {
   "display_name": "Python 3 (ipykernel)",
   "language": "python",
   "name": "python3"
  },
  "language_info": {
   "codemirror_mode": {
    "name": "ipython",
    "version": 3
   },
   "file_extension": ".py",
   "mimetype": "text/x-python",
   "name": "python",
   "nbconvert_exporter": "python",
   "pygments_lexer": "ipython3",
   "version": "3.10.9"
  }
 },
 "nbformat": 4,
 "nbformat_minor": 5
}
