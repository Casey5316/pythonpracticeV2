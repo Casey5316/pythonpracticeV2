{
 "cells": [
  {
   "cell_type": "markdown",
   "id": "1cbffb4d",
   "metadata": {},
   "source": [
    "# Chapter 8 Exercises\n",
    "## Algorithm Workbench \n",
    "### Any two questions"
   ]
  },
  {
   "cell_type": "markdown",
   "id": "e5e7a7f2",
   "metadata": {},
   "source": [
    "### Question 1\n",
    "Assume choice references a string. The following if statement determines whether choice is equal to ‘Y’ or ‘y’:\n",
    "\n",
    "if choice == 'y' or choice == 'Y'\n",
    "\n",
    "Rewrite this statement so it only makes one comparison, and does not use the or operator. (Hint: use either the upper or lower methods.)"
   ]
  },
  {
   "cell_type": "code",
   "execution_count": 2,
   "id": "4da57713",
   "metadata": {},
   "outputs": [
    {
     "name": "stdout",
     "output_type": "stream",
     "text": [
      "Enter a sentence: Y\n",
      "The 'y' you entered was lowercase.\n"
     ]
    }
   ],
   "source": [
    "# main function gets a string from user\n",
    "def main():\n",
    "    choice = input('Enter a sentence: ')\n",
    "    \n",
    "    # if statement determines if a y was entered\n",
    "    # regardless of upper or lowercase\n",
    "    if choice.lower() == 'y':\n",
    "       \n",
    "        \n",
    "\n",
    "\n",
    "\n",
    "# call to main function \n",
    "if __name__ == '__main__':\n",
    "    main()"
   ]
  },
  {
   "cell_type": "markdown",
   "id": "5f4fe3ed",
   "metadata": {},
   "source": [
    "### Question 2\n",
    "Write a loop that counts the number of space characters that appear in the string referenced by mystring."
   ]
  },
  {
   "cell_type": "code",
   "execution_count": 5,
   "id": "f2e249ba",
   "metadata": {},
   "outputs": [
    {
     "name": "stdout",
     "output_type": "stream",
     "text": [
      "Enter a sentence: I love music.\n",
      "There are 2 whitespace characters in your sentence.\n"
     ]
    }
   ],
   "source": [
    "# main function gets a string from user\n",
    "# and displays amount of spaces\n",
    "def main():\n",
    "    mystring = input('Enter a sentence: ')\n",
    "    \n",
    "    count = 0\n",
    "    \n",
    "    # for loop counts number of spaces in string\n",
    "    for char in mystring:\n",
    "        if char == ' ':\n",
    "            count += 1\n",
    "            \n",
    "    print(f'There are {count} whitespace characters in your sentence.')\n",
    "\n",
    "\n",
    "\n",
    "# call to main function \n",
    "if __name__ == '__main__':\n",
    "    main()"
   ]
  },
  {
   "cell_type": "markdown",
   "id": "0cfc0a93",
   "metadata": {},
   "source": [
    "## Programming Exercises\n",
    "### Question 1 - Initials\n",
    "Write a program that gets a string containing a person’s first, middle, and last names, and displays their first, middle, and last initials. For example, if the user enters John William Smith, the program should display J. W. S."
   ]
  },
  {
   "cell_type": "code",
   "execution_count": 7,
   "id": "d7e40af6",
   "metadata": {},
   "outputs": [
    {
     "name": "stdout",
     "output_type": "stream",
     "text": [
      "Enter your first name: casey\n",
      "Enter your middle name: patrick\n",
      "Enter your last name: miller\n",
      "Your initials are CPM.\n"
     ]
    }
   ],
   "source": [
    "# main function gets first, middle, and last\n",
    "# names and displays users intials \n",
    "def main():\n",
    "    first = input('Enter your first name: ')\n",
    "    middle = input('Enter your middle name: ')\n",
    "    last = input('Enter your last name: ')\n",
    "    \n",
    "    display_initials(first, middle, last)\n",
    "    \n",
    "    \n",
    "# function takes names and displays\n",
    "# first characters of each\n",
    "def display_initials(f, m, l):\n",
    "    initial_1 = f[0].upper()\n",
    "    \n",
    "    initial_2 = m[0].upper()\n",
    "    \n",
    "    initial_3 = l[0].upper()\n",
    "    \n",
    "    initials = initial_1 + initial_2 + initial_3\n",
    "    \n",
    "    print(f'Your initials are {initials}.')\n",
    "\n",
    "\n",
    "# call to main function \n",
    "if __name__ == '__main__':\n",
    "    main()"
   ]
  },
  {
   "cell_type": "markdown",
   "id": "900d86d6",
   "metadata": {},
   "source": [
    "## While I got this one correct on the first try, I went and added the .upper() method to the results in case the user enters their name without capital letters. "
   ]
  },
  {
   "cell_type": "markdown",
   "id": "f6e5ddda",
   "metadata": {},
   "source": [
    "### Question 2 - Sum of Digits in a String\n",
    "Write a program that asks the user to enter a series of single-digit numbers with nothing separating them. The program should display the sum of all the single digit numbers in the string. For example, if the user enters 2514, the method should return 12, which is the sum of 2, 5, 1, and 4."
   ]
  },
  {
   "cell_type": "code",
   "execution_count": 17,
   "id": "23de6560",
   "metadata": {},
   "outputs": [
    {
     "name": "stdout",
     "output_type": "stream",
     "text": [
      "Enter a series of numbers with no separations: 236\n",
      "11\n"
     ]
    }
   ],
   "source": [
    "# main function gets numbers from the user with no separations \n",
    "# between numbers and adds them to a list to be added \n",
    "def main():\n",
    "    numbers = input('Enter a series of numbers with no separations: ')\n",
    "    \n",
    "    number_list = []\n",
    "                \n",
    "    for num in numbers:\n",
    "        number_list.append(int(num))\n",
    "        \n",
    "    total = sum(number_list)\n",
    "    \n",
    "    print(total)\n",
    "        \n",
    "    \n",
    "    \n",
    "    \n",
    "\n",
    "\n",
    "\n",
    "# call to main function \n",
    "if __name__ == '__main__':\n",
    "    main()"
   ]
  },
  {
   "cell_type": "markdown",
   "id": "d0f63652",
   "metadata": {},
   "source": [
    "## Question 8 - Sentence Capitalizer\n",
    "Write a program with a function that accepts a string as an argument and returns a copy of the string with the first character of each sentence capitalized. For instance, if the argument is “hello. my name is Joe. what is your name?” the function should return the string “Hello. My name is Joe. What is your name?” The program should let the user enter a string and then pass it to the function. The modified string should be displayed."
   ]
  },
  {
   "cell_type": "code",
   "execution_count": null,
   "id": "46d0488b",
   "metadata": {},
   "outputs": [],
   "source": [
    "# main function gets a series of strings from the \n",
    "# user an utilizes the capitalize_after_period \n",
    "# function to capitalize the first letter after\n",
    "# every period\n",
    "def main():\n",
    "    sentences = input('Enter a few sentences: ')\n",
    "    \n",
    "    capitalize_after_period(sentences)\n",
    "\n",
    "    \n",
    "\n",
    "# function takes a string as argument, and capitalizes\n",
    "# the first letter after every period\n",
    "def capitalize_after_period(string):\n",
    "    result = ''\n",
    "    \n",
    "    capitalize_next = True\n",
    "    \n",
    "    # reads the string and flags each period. capitalizes\n",
    "    # after the flag is True \n",
    "    for ch in string:\n",
    "        if capitalize_next and ch.isalpha():\n",
    "            result += ch.upper()\n",
    "            capitalize_next = False\n",
    "                \n",
    "        else:\n",
    "            result += ch\n",
    "            \n",
    "            \n",
    "        if ch == '.':\n",
    "            capitalize_next = True\n",
    "            \n",
    "        \n",
    "                \n",
    "                \n",
    "                \n",
    "    print(result)\n",
    "    \n",
    "\n",
    "\n",
    "\n",
    "\n",
    "# call to main function \n",
    "if __name__ == '__main__':\n",
    "    main()"
   ]
  },
  {
   "cell_type": "markdown",
   "id": "87029b94",
   "metadata": {},
   "source": [
    "### The above problem gave me quite a bit more trouble than I expected! It turns out I just needed the isalpha() method so that it wouldn't try to capitalize the period. Other than that I didn't have too many issues and I accidentally forgot to push my previous attempt to github. The only thing I added was the isalpha() method, and the final if statement check at the end. "
   ]
  },
  {
   "cell_type": "markdown",
   "id": "12415b31",
   "metadata": {},
   "source": [
    "## Problem - 13 PowerBall Lottery\n",
    "To play the PowerBall lottery, you buy a ticket that has five numbers in the range of 1–69, and a “PowerBall” number in the range of 1–26. (You can pick the numbers yourself, or you can let the ticket machine randomly pick them for you.) Then, on a specified date, a winning set of numbers is randomly selected by a machine. If your first five numbers match the first five winning numbers in any order, and your PowerBall number matches the winning PowerBall number, then you win the jackpot, which is a very large amount of money. If your numbers match only some of the winning numbers, you win a lesser amount, depending on how many of the winning numbers you have matched.\n",
    "\n",
    "In the student sample programs for this book, you will find a file named pbnumbers.txt, containing the winning PowerBall numbers that were selected between February 3, 2010 and May 11, 2016 (the file contains 654 sets of winning numbers). Figure 8-7 shows an example of the first few lines of the file’s contents. Each line in the file contains the set of six numbers that were selected on a given date. The numbers are separated by a space, and the last number in each line is the PowerBall number for that day. For example, the first line in the file shows the numbers for February 3, 2010, which were 17, 22, 36, 37, 52, and the PowerBall number 24.\n",
    "\n"
   ]
  },
  {
   "cell_type": "code",
   "execution_count": 8,
   "id": "9d89d050",
   "metadata": {},
   "outputs": [
    {
     "name": "stdout",
     "output_type": "stream",
     "text": [
      "Welcome to the PowerBall!\n",
      "Choose five numbers between 1 and 69\n",
      "and a PowerBall number between 1 and 26.\n",
      "You can input your numbers manually, or you\n",
      "can have them randomly generated. Enter 'self'\n",
      "or 'random' to make your selection: \n",
      "random\n",
      "[16, 15, 59, 10, 49, 19]\n"
     ]
    }
   ],
   "source": [
    "import random\n",
    "def main():\n",
    "    print('Welcome to the PowerBall!\\n'\n",
    "         + 'Choose five numbers between 1 and 69\\n'\n",
    "         + 'and a PowerBall number between 1 and 26.\\n'\n",
    "         + 'You can input your numbers manually, or you\\n'\n",
    "         + 'can have them randomly generated. Enter \\'self\\'\\n'\n",
    "         + 'or \\'random\\' to make your selection: ')\n",
    "    \n",
    "    input_selection = input('')\n",
    "    \n",
    "    if input_selection.upper() == 'SELF':\n",
    "        user_numbers = user_input()\n",
    "        \n",
    "    elif input_selection.upper() == 'RANDOM':\n",
    "        user_numbers = random_input()\n",
    "        \n",
    "        \n",
    "\n",
    "        \n",
    "    print(user_numbers)\n",
    "        \n",
    "        \n",
    "        \n",
    "def winning_numbers():\n",
    "    with open('pbnumbers.txt', 'r') as powerball_numbers:\n",
    "        \n",
    "        \n",
    "        \n",
    "        \n",
    "        \n",
    "    \n",
    "    \n",
    "    \n",
    "    \n",
    "    \n",
    "def user_input():\n",
    "    numbers = []\n",
    "    \n",
    "    for i in range(5):\n",
    "        number = int(input('Enter a number between 1 and 69: '))\n",
    "        print()\n",
    "        while number <= 0 or number > 69:\n",
    "            print('Invalid number choice. Please enter\\n'\n",
    "                 + 'a number between 1 and 69.\\n')\n",
    "            number = int(input('Enter a number: '))\n",
    "        numbers.append(number)\n",
    "        \n",
    "    pbnumber = int(input('Enter your PowerBall number between 1 and 26: '))\n",
    "    while pbnumber <= 0 or pbnumber > 26:\n",
    "        print('Invalid number choice. Please enter\\n'\n",
    "             + 'a number between 1 and 26.\\n')\n",
    "        pbnumber = int(input('Enter your PowerBall number selection: '))\n",
    "    numbers.append(pbnumber)\n",
    "    \n",
    "    return numbers\n",
    "    \n",
    "    \n",
    "    \n",
    "    \n",
    "    \n",
    "    \n",
    "    \n",
    "def random_input():\n",
    "    numbers = []\n",
    "    \n",
    "    for i in range(5):\n",
    "        number = random.randint(1, 70)\n",
    "        numbers.append(number)\n",
    "        \n",
    "    pbnumber = random.randint(1, 27)\n",
    "    \n",
    "    numbers.append(pbnumber)\n",
    "    \n",
    "    return numbers\n",
    "\n",
    "\n",
    "\n",
    "\n",
    "if __name__ == '__main__':\n",
    "    main()"
   ]
  },
  {
   "cell_type": "code",
   "execution_count": null,
   "id": "0e09692a",
   "metadata": {},
   "outputs": [],
   "source": []
  }
 ],
 "metadata": {
  "kernelspec": {
   "display_name": "Python 3 (ipykernel)",
   "language": "python",
   "name": "python3"
  },
  "language_info": {
   "codemirror_mode": {
    "name": "ipython",
    "version": 3
   },
   "file_extension": ".py",
   "mimetype": "text/x-python",
   "name": "python",
   "nbconvert_exporter": "python",
   "pygments_lexer": "ipython3",
   "version": "3.10.9"
  }
 },
 "nbformat": 4,
 "nbformat_minor": 5
}
